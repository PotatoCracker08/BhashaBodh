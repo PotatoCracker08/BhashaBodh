{
  "cells": [
    {
      "cell_type": "code",
      "execution_count": null,
      "id": "1afc1adb",
      "metadata": {
        "_cell_guid": "b1076dfc-b9ad-4769-8c92-a6c4dae69d19",
        "_uuid": "8f2839f25d086af736a60e9eeb907d3b93b6e0e5",
        "execution": {
          "iopub.execute_input": "2025-09-28T08:15:45.514047Z",
          "iopub.status.busy": "2025-09-28T08:15:45.513136Z",
          "iopub.status.idle": "2025-09-28T08:16:58.779357Z",
          "shell.execute_reply": "2025-09-28T08:16:58.778560Z"
        },
        "papermill": {
          "duration": 73.270519,
          "end_time": "2025-09-28T08:16:58.780855",
          "exception": false,
          "start_time": "2025-09-28T08:15:45.510336",
          "status": "completed"
        },
        "tags": [],
        "id": "1afc1adb",
        "outputId": "ae22b8f3-6d3e-4be2-ec24-e633eb6740b4"
      },
      "outputs": [
        {
          "name": "stdout",
          "output_type": "stream",
          "text": [
            "\u001b[2K     \u001b[90m━━━━━━━━━━━━━━━━━━━━━━━━━━━━━━━━━━━━━━━━\u001b[0m \u001b[32m51.8/51.8 kB\u001b[0m \u001b[31m2.8 MB/s\u001b[0m eta \u001b[36m0:00:00\u001b[0m\r\n",
            "\u001b[2K   \u001b[90m━━━━━━━━━━━━━━━━━━━━━━━━━━━━━━━━━━━━━━━━\u001b[0m \u001b[32m84.1/84.1 kB\u001b[0m \u001b[31m5.5 MB/s\u001b[0m eta \u001b[36m0:00:00\u001b[0m\r\n",
            "\u001b[2K   \u001b[90m━━━━━━━━━━━━━━━━━━━━━━━━━━━━━━━━━━━━━━━━\u001b[0m \u001b[32m104.1/104.1 kB\u001b[0m \u001b[31m7.8 MB/s\u001b[0m eta \u001b[36m0:00:00\u001b[0m\r\n",
            "\u001b[2K   \u001b[90m━━━━━━━━━━━━━━━━━━━━━━━━━━━━━━━━━━━━━━━━\u001b[0m \u001b[32m61.1/61.1 kB\u001b[0m \u001b[31m4.3 MB/s\u001b[0m eta \u001b[36m0:00:00\u001b[0m\r\n",
            "\u001b[2K   \u001b[90m━━━━━━━━━━━━━━━━━━━━━━━━━━━━━━━━━━━━━━━━\u001b[0m \u001b[32m193.6/193.6 kB\u001b[0m \u001b[31m13.7 MB/s\u001b[0m eta \u001b[36m0:00:00\u001b[0m\r\n",
            "\u001b[2K   \u001b[90m━━━━━━━━━━━━━━━━━━━━━━━━━━━━━━━━━━━━━━━━\u001b[0m \u001b[32m363.4/363.4 MB\u001b[0m \u001b[31m4.7 MB/s\u001b[0m eta \u001b[36m0:00:00\u001b[0m\r\n",
            "\u001b[2K   \u001b[90m━━━━━━━━━━━━━━━━━━━━━━━━━━━━━━━━━━━━━━━━\u001b[0m \u001b[32m13.8/13.8 MB\u001b[0m \u001b[31m98.6 MB/s\u001b[0m eta \u001b[36m0:00:00\u001b[0m\r\n",
            "\u001b[2K   \u001b[90m━━━━━━━━━━━━━━━━━━━━━━━━━━━━━━━━━━━━━━━━\u001b[0m \u001b[32m24.6/24.6 MB\u001b[0m \u001b[31m78.0 MB/s\u001b[0m eta \u001b[36m0:00:00\u001b[0m\r\n",
            "\u001b[2K   \u001b[90m━━━━━━━━━━━━━━━━━━━━━━━━━━━━━━━━━━━━━━━━\u001b[0m \u001b[32m883.7/883.7 kB\u001b[0m \u001b[31m43.0 MB/s\u001b[0m eta \u001b[36m0:00:00\u001b[0m\r\n",
            "\u001b[2K   \u001b[90m━━━━━━━━━━━━━━━━━━━━━━━━━━━━━━━━━━━━━━━━\u001b[0m \u001b[32m664.8/664.8 MB\u001b[0m \u001b[31m2.6 MB/s\u001b[0m eta \u001b[36m0:00:00\u001b[0m\r\n",
            "\u001b[2K   \u001b[90m━━━━━━━━━━━━━━━━━━━━━━━━━━━━━━━━━━━━━━━━\u001b[0m \u001b[32m211.5/211.5 MB\u001b[0m \u001b[31m8.1 MB/s\u001b[0m eta \u001b[36m0:00:00\u001b[0m\r\n",
            "\u001b[2K   \u001b[90m━━━━━━━━━━━━━━━━━━━━━━━━━━━━━━━━━━━━━━━━\u001b[0m \u001b[32m56.3/56.3 MB\u001b[0m \u001b[31m31.4 MB/s\u001b[0m eta \u001b[36m0:00:00\u001b[0m\r\n",
            "\u001b[2K   \u001b[90m━━━━━━━━━━━━━━━━━━━━━━━━━━━━━━━━━━━━━━━━\u001b[0m \u001b[32m127.9/127.9 MB\u001b[0m \u001b[31m13.6 MB/s\u001b[0m eta \u001b[36m0:00:00\u001b[0m\r\n",
            "\u001b[2K   \u001b[90m━━━━━━━━━━━━━━━━━━━━━━━━━━━━━━━━━━━━━━━━\u001b[0m \u001b[32m207.5/207.5 MB\u001b[0m \u001b[31m8.3 MB/s\u001b[0m eta \u001b[36m0:00:00\u001b[0m\r\n",
            "\u001b[2K   \u001b[90m━━━━━━━━━━━━━━━━━━━━━━━━━━━━━━━━━━━━━━━━\u001b[0m \u001b[32m21.1/21.1 MB\u001b[0m \u001b[31m84.9 MB/s\u001b[0m eta \u001b[36m0:00:00\u001b[0m\r\n",
            "\u001b[?25h\u001b[31mERROR: pip's dependency resolver does not currently take into account all the packages that are installed. This behaviour is the source of the following dependency conflicts.\r\n",
            "bigframes 2.8.0 requires google-cloud-bigquery-storage<3.0.0,>=2.30.0, which is not installed.\r\n",
            "cesium 0.12.4 requires numpy<3.0,>=2.0, but you have numpy 1.26.4 which is incompatible.\r\n",
            "gcsfs 2025.3.2 requires fsspec==2025.3.2, but you have fsspec 2025.3.0 which is incompatible.\r\n",
            "bigframes 2.8.0 requires google-cloud-bigquery[bqstorage,pandas]>=3.31.0, but you have google-cloud-bigquery 3.25.0 which is incompatible.\r\n",
            "bigframes 2.8.0 requires rich<14,>=12.4.4, but you have rich 14.0.0 which is incompatible.\u001b[0m\u001b[31m\r\n",
            "\u001b[0m"
          ]
        }
      ],
      "source": [
        "!pip install -q transformers[sentencepiece] datasets accelerate evaluate sacrebleu bert_score nltk"
      ]
    },
    {
      "cell_type": "code",
      "execution_count": null,
      "id": "f8d7e756",
      "metadata": {
        "execution": {
          "iopub.execute_input": "2025-09-28T08:16:58.814161Z",
          "iopub.status.busy": "2025-09-28T08:16:58.813940Z",
          "iopub.status.idle": "2025-09-28T08:33:14.247293Z",
          "shell.execute_reply": "2025-09-28T08:33:14.246427Z"
        },
        "papermill": {
          "duration": 975.450972,
          "end_time": "2025-09-28T08:33:14.248620",
          "exception": false,
          "start_time": "2025-09-28T08:16:58.797648",
          "status": "completed"
        },
        "tags": [],
        "colab": {
          "referenced_widgets": [
            "ed84c570b8ed44a090d14c54423c1a51",
            "f8df6d7d5f5242849540262c3bea257e",
            "d554cac208db4665aa4836428e8ee88d",
            "48724af0a17d4003921655f8a237a710",
            "471c0de8194743ef81f53431a830acf6",
            "92343c66dbe349698fe0b656465a3ee4",
            "8e4dd10aaf394665beb9a55f42acaacb",
            "d69bf8ff68bb479e93670113f0ed8797",
            "41770b40f2274eb7819f81fc746a2b15",
            "906c935b3680429c80a358a3cd079372",
            "e42ad0f584c3484ab88073999d328361",
            "b0dfb4e570f5439d86f9b35125bb440d",
            "f5e3cdeff0a846d382a79423bc57ffb5",
            "aa308b6f3d484cdeb5c6a5ced1d290d2",
            "826127e1390f49489fa8a6bcbc23b8ba",
            "e8f48b549f4c41e88c3584f962e5950c",
            "4c46e67121444f749b5f03bbc070591a"
          ]
        },
        "id": "f8d7e756",
        "outputId": "6bc421bb-3a8b-4eee-e63a-a1d83cd37546"
      },
      "outputs": [
        {
          "name": "stderr",
          "output_type": "stream",
          "text": [
            "2025-09-28 08:17:17.074821: E external/local_xla/xla/stream_executor/cuda/cuda_fft.cc:477] Unable to register cuFFT factory: Attempting to register factory for plugin cuFFT when one has already been registered\n",
            "WARNING: All log messages before absl::InitializeLog() is called are written to STDERR\n",
            "E0000 00:00:1759047437.251791      19 cuda_dnn.cc:8310] Unable to register cuDNN factory: Attempting to register factory for plugin cuDNN when one has already been registered\n",
            "E0000 00:00:1759047437.312730      19 cuda_blas.cc:1418] Unable to register cuBLAS factory: Attempting to register factory for plugin cuBLAS when one has already been registered\n"
          ]
        },
        {
          "name": "stdout",
          "output_type": "stream",
          "text": [
            "Kaggle working directory cleaned!\n",
            "Using device: cuda\n",
            "\n",
            "[INFO] Loading and preprocessing data...\n",
            "Dataset loaded with 980 samples after cleaning.\n",
            "\n",
            "[INFO] Splitting the dataset...\n",
            "Train: 685, Validation: 98, Test: 197\n",
            "\n",
            "[INFO] Initializing model and tokenizer...\n"
          ]
        },
        {
          "data": {
            "application/vnd.jupyter.widget-view+json": {
              "model_id": "ed84c570b8ed44a090d14c54423c1a51",
              "version_major": 2,
              "version_minor": 0
            },
            "text/plain": [
              "tokenizer_config.json:   0%|          | 0.00/529 [00:00<?, ?B/s]"
            ]
          },
          "metadata": {},
          "output_type": "display_data"
        },
        {
          "data": {
            "application/vnd.jupyter.widget-view+json": {
              "model_id": "f8df6d7d5f5242849540262c3bea257e",
              "version_major": 2,
              "version_minor": 0
            },
            "text/plain": [
              "sentencepiece.bpe.model:   0%|          | 0.00/5.07M [00:00<?, ?B/s]"
            ]
          },
          "metadata": {},
          "output_type": "display_data"
        },
        {
          "data": {
            "application/vnd.jupyter.widget-view+json": {
              "model_id": "d554cac208db4665aa4836428e8ee88d",
              "version_major": 2,
              "version_minor": 0
            },
            "text/plain": [
              "special_tokens_map.json:   0%|          | 0.00/649 [00:00<?, ?B/s]"
            ]
          },
          "metadata": {},
          "output_type": "display_data"
        },
        {
          "data": {
            "application/vnd.jupyter.widget-view+json": {
              "model_id": "48724af0a17d4003921655f8a237a710",
              "version_major": 2,
              "version_minor": 0
            },
            "text/plain": [
              "config.json: 0.00B [00:00, ?B/s]"
            ]
          },
          "metadata": {},
          "output_type": "display_data"
        },
        {
          "data": {
            "application/vnd.jupyter.widget-view+json": {
              "model_id": "471c0de8194743ef81f53431a830acf6",
              "version_major": 2,
              "version_minor": 0
            },
            "text/plain": [
              "model.safetensors:   0%|          | 0.00/2.44G [00:00<?, ?B/s]"
            ]
          },
          "metadata": {},
          "output_type": "display_data"
        },
        {
          "data": {
            "application/vnd.jupyter.widget-view+json": {
              "model_id": "92343c66dbe349698fe0b656465a3ee4",
              "version_major": 2,
              "version_minor": 0
            },
            "text/plain": [
              "generation_config.json:   0%|          | 0.00/261 [00:00<?, ?B/s]"
            ]
          },
          "metadata": {},
          "output_type": "display_data"
        },
        {
          "name": "stdout",
          "output_type": "stream",
          "text": [
            "\n",
            "[INFO] Tokenizing datasets...\n"
          ]
        },
        {
          "data": {
            "application/vnd.jupyter.widget-view+json": {
              "model_id": "8e4dd10aaf394665beb9a55f42acaacb",
              "version_major": 2,
              "version_minor": 0
            },
            "text/plain": [
              "Map:   0%|          | 0/685 [00:00<?, ? examples/s]"
            ]
          },
          "metadata": {},
          "output_type": "display_data"
        },
        {
          "name": "stderr",
          "output_type": "stream",
          "text": [
            "/usr/local/lib/python3.11/dist-packages/transformers/tokenization_utils_base.py:3959: UserWarning: `as_target_tokenizer` is deprecated and will be removed in v5 of Transformers. You can tokenize your labels by using the argument `text_target` of the regular `__call__` method (either in the same call as your input texts if you use the same keyword arguments, or in a separate call.\n",
            "  warnings.warn(\n"
          ]
        },
        {
          "data": {
            "application/vnd.jupyter.widget-view+json": {
              "model_id": "d69bf8ff68bb479e93670113f0ed8797",
              "version_major": 2,
              "version_minor": 0
            },
            "text/plain": [
              "Map:   0%|          | 0/98 [00:00<?, ? examples/s]"
            ]
          },
          "metadata": {},
          "output_type": "display_data"
        },
        {
          "data": {
            "application/vnd.jupyter.widget-view+json": {
              "model_id": "41770b40f2274eb7819f81fc746a2b15",
              "version_major": 2,
              "version_minor": 0
            },
            "text/plain": [
              "Map:   0%|          | 0/197 [00:00<?, ? examples/s]"
            ]
          },
          "metadata": {},
          "output_type": "display_data"
        },
        {
          "name": "stdout",
          "output_type": "stream",
          "text": [
            "\n",
            "[INFO] Setting up evaluation metrics (BLEU, METEOR, BERTScore)...\n"
          ]
        },
        {
          "data": {
            "application/vnd.jupyter.widget-view+json": {
              "model_id": "906c935b3680429c80a358a3cd079372",
              "version_major": 2,
              "version_minor": 0
            },
            "text/plain": [
              "Downloading builder script: 0.00B [00:00, ?B/s]"
            ]
          },
          "metadata": {},
          "output_type": "display_data"
        },
        {
          "data": {
            "application/vnd.jupyter.widget-view+json": {
              "model_id": "e42ad0f584c3484ab88073999d328361",
              "version_major": 2,
              "version_minor": 0
            },
            "text/plain": [
              "Downloading builder script: 0.00B [00:00, ?B/s]"
            ]
          },
          "metadata": {},
          "output_type": "display_data"
        },
        {
          "name": "stderr",
          "output_type": "stream",
          "text": [
            "[nltk_data] Downloading package wordnet to /usr/share/nltk_data...\n",
            "[nltk_data]   Package wordnet is already up-to-date!\n",
            "[nltk_data] Downloading package punkt_tab to /usr/share/nltk_data...\n",
            "[nltk_data]   Package punkt_tab is already up-to-date!\n",
            "[nltk_data] Downloading package omw-1.4 to /usr/share/nltk_data...\n",
            "[nltk_data]   Package omw-1.4 is already up-to-date!\n"
          ]
        },
        {
          "data": {
            "application/vnd.jupyter.widget-view+json": {
              "model_id": "b0dfb4e570f5439d86f9b35125bb440d",
              "version_major": 2,
              "version_minor": 0
            },
            "text/plain": [
              "Downloading builder script: 0.00B [00:00, ?B/s]"
            ]
          },
          "metadata": {},
          "output_type": "display_data"
        },
        {
          "name": "stdout",
          "output_type": "stream",
          "text": [
            "\n",
            "[INFO] Configuring training arguments...\n"
          ]
        },
        {
          "name": "stderr",
          "output_type": "stream",
          "text": [
            "/tmp/ipykernel_19/709835420.py:180: FutureWarning: `tokenizer` is deprecated and will be removed in version 5.0.0 for `Seq2SeqTrainer.__init__`. Use `processing_class` instead.\n",
            "  trainer = Seq2SeqTrainer(\n"
          ]
        },
        {
          "name": "stdout",
          "output_type": "stream",
          "text": [
            "\n",
            "[INFO] Starting model training...\n"
          ]
        },
        {
          "data": {
            "text/html": [
              "\n",
              "    <div>\n",
              "      \n",
              "      <progress value='1075' max='1075' style='width:300px; height:20px; vertical-align: middle;'></progress>\n",
              "      [1075/1075 14:59, Epoch 25/25]\n",
              "    </div>\n",
              "    <table border=\"1\" class=\"dataframe\">\n",
              "  <thead>\n",
              " <tr style=\"text-align: left;\">\n",
              "      <th>Epoch</th>\n",
              "      <th>Training Loss</th>\n",
              "      <th>Validation Loss</th>\n",
              "      <th>Bleu</th>\n",
              "      <th>Meteor</th>\n",
              "      <th>Bertscore F1</th>\n",
              "      <th>Gen Len</th>\n",
              "    </tr>\n",
              "  </thead>\n",
              "  <tbody>\n",
              "    <tr>\n",
              "      <td>1</td>\n",
              "      <td>5.595300</td>\n",
              "      <td>3.230056</td>\n",
              "      <td>13.427100</td>\n",
              "      <td>0.212800</td>\n",
              "      <td>0.812800</td>\n",
              "      <td>11.826500</td>\n",
              "    </tr>\n",
              "    <tr>\n",
              "      <td>2</td>\n",
              "      <td>2.131700</td>\n",
              "      <td>2.043323</td>\n",
              "      <td>31.354000</td>\n",
              "      <td>0.385600</td>\n",
              "      <td>0.859400</td>\n",
              "      <td>11.010200</td>\n",
              "    </tr>\n",
              "    <tr>\n",
              "      <td>3</td>\n",
              "      <td>1.042600</td>\n",
              "      <td>1.652604</td>\n",
              "      <td>41.197500</td>\n",
              "      <td>0.493500</td>\n",
              "      <td>0.885100</td>\n",
              "      <td>11.244900</td>\n",
              "    </tr>\n",
              "    <tr>\n",
              "      <td>4</td>\n",
              "      <td>0.580500</td>\n",
              "      <td>1.607227</td>\n",
              "      <td>47.524300</td>\n",
              "      <td>0.523400</td>\n",
              "      <td>0.892200</td>\n",
              "      <td>11.387800</td>\n",
              "    </tr>\n",
              "    <tr>\n",
              "      <td>5</td>\n",
              "      <td>0.373700</td>\n",
              "      <td>1.533463</td>\n",
              "      <td>56.463200</td>\n",
              "      <td>0.596500</td>\n",
              "      <td>0.913600</td>\n",
              "      <td>11.336700</td>\n",
              "    </tr>\n",
              "    <tr>\n",
              "      <td>6</td>\n",
              "      <td>0.273000</td>\n",
              "      <td>1.543104</td>\n",
              "      <td>58.518500</td>\n",
              "      <td>0.576600</td>\n",
              "      <td>0.902200</td>\n",
              "      <td>11.316300</td>\n",
              "    </tr>\n",
              "    <tr>\n",
              "      <td>7</td>\n",
              "      <td>0.208000</td>\n",
              "      <td>1.541250</td>\n",
              "      <td>61.214200</td>\n",
              "      <td>0.638000</td>\n",
              "      <td>0.916300</td>\n",
              "      <td>11.428600</td>\n",
              "    </tr>\n",
              "    <tr>\n",
              "      <td>8</td>\n",
              "      <td>0.178400</td>\n",
              "      <td>1.528628</td>\n",
              "      <td>60.871000</td>\n",
              "      <td>0.632500</td>\n",
              "      <td>0.912900</td>\n",
              "      <td>11.867300</td>\n",
              "    </tr>\n",
              "    <tr>\n",
              "      <td>9</td>\n",
              "      <td>0.124500</td>\n",
              "      <td>1.622898</td>\n",
              "      <td>56.879800</td>\n",
              "      <td>0.589500</td>\n",
              "      <td>0.910500</td>\n",
              "      <td>11.346900</td>\n",
              "    </tr>\n",
              "    <tr>\n",
              "      <td>10</td>\n",
              "      <td>0.113300</td>\n",
              "      <td>1.574288</td>\n",
              "      <td>59.888200</td>\n",
              "      <td>0.637500</td>\n",
              "      <td>0.917600</td>\n",
              "      <td>11.551000</td>\n",
              "    </tr>\n",
              "    <tr>\n",
              "      <td>11</td>\n",
              "      <td>0.079100</td>\n",
              "      <td>1.525932</td>\n",
              "      <td>63.008800</td>\n",
              "      <td>0.663600</td>\n",
              "      <td>0.920400</td>\n",
              "      <td>11.642900</td>\n",
              "    </tr>\n",
              "    <tr>\n",
              "      <td>12</td>\n",
              "      <td>0.071500</td>\n",
              "      <td>1.564257</td>\n",
              "      <td>61.719400</td>\n",
              "      <td>0.654400</td>\n",
              "      <td>0.924100</td>\n",
              "      <td>11.795900</td>\n",
              "    </tr>\n",
              "    <tr>\n",
              "      <td>13</td>\n",
              "      <td>0.055500</td>\n",
              "      <td>1.499089</td>\n",
              "      <td>64.322200</td>\n",
              "      <td>0.655800</td>\n",
              "      <td>0.921800</td>\n",
              "      <td>11.295900</td>\n",
              "    </tr>\n",
              "    <tr>\n",
              "      <td>14</td>\n",
              "      <td>0.046800</td>\n",
              "      <td>1.501194</td>\n",
              "      <td>65.183300</td>\n",
              "      <td>0.683200</td>\n",
              "      <td>0.925700</td>\n",
              "      <td>11.969400</td>\n",
              "    </tr>\n",
              "    <tr>\n",
              "      <td>15</td>\n",
              "      <td>0.031900</td>\n",
              "      <td>1.515246</td>\n",
              "      <td>65.375100</td>\n",
              "      <td>0.666800</td>\n",
              "      <td>0.930100</td>\n",
              "      <td>11.836700</td>\n",
              "    </tr>\n",
              "    <tr>\n",
              "      <td>16</td>\n",
              "      <td>0.029900</td>\n",
              "      <td>1.553652</td>\n",
              "      <td>65.375700</td>\n",
              "      <td>0.645900</td>\n",
              "      <td>0.921600</td>\n",
              "      <td>11.540800</td>\n",
              "    </tr>\n",
              "    <tr>\n",
              "      <td>17</td>\n",
              "      <td>0.023500</td>\n",
              "      <td>1.538539</td>\n",
              "      <td>64.861500</td>\n",
              "      <td>0.663200</td>\n",
              "      <td>0.928200</td>\n",
              "      <td>11.581600</td>\n",
              "    </tr>\n",
              "    <tr>\n",
              "      <td>18</td>\n",
              "      <td>0.020200</td>\n",
              "      <td>1.548316</td>\n",
              "      <td>65.755200</td>\n",
              "      <td>0.669100</td>\n",
              "      <td>0.927700</td>\n",
              "      <td>11.428600</td>\n",
              "    </tr>\n",
              "    <tr>\n",
              "      <td>19</td>\n",
              "      <td>0.014600</td>\n",
              "      <td>1.539256</td>\n",
              "      <td>64.826700</td>\n",
              "      <td>0.666400</td>\n",
              "      <td>0.928900</td>\n",
              "      <td>11.479600</td>\n",
              "    </tr>\n",
              "    <tr>\n",
              "      <td>20</td>\n",
              "      <td>0.015300</td>\n",
              "      <td>1.553935</td>\n",
              "      <td>66.995600</td>\n",
              "      <td>0.663900</td>\n",
              "      <td>0.926700</td>\n",
              "      <td>11.510200</td>\n",
              "    </tr>\n",
              "    <tr>\n",
              "      <td>21</td>\n",
              "      <td>0.012900</td>\n",
              "      <td>1.551395</td>\n",
              "      <td>66.457800</td>\n",
              "      <td>0.667700</td>\n",
              "      <td>0.927700</td>\n",
              "      <td>11.469400</td>\n",
              "    </tr>\n",
              "    <tr>\n",
              "      <td>22</td>\n",
              "      <td>0.010500</td>\n",
              "      <td>1.555332</td>\n",
              "      <td>64.953800</td>\n",
              "      <td>0.660400</td>\n",
              "      <td>0.926700</td>\n",
              "      <td>11.571400</td>\n",
              "    </tr>\n",
              "    <tr>\n",
              "      <td>23</td>\n",
              "      <td>0.009700</td>\n",
              "      <td>1.556453</td>\n",
              "      <td>66.477800</td>\n",
              "      <td>0.676000</td>\n",
              "      <td>0.928900</td>\n",
              "      <td>11.561200</td>\n",
              "    </tr>\n",
              "    <tr>\n",
              "      <td>24</td>\n",
              "      <td>0.008300</td>\n",
              "      <td>1.557105</td>\n",
              "      <td>65.817400</td>\n",
              "      <td>0.669300</td>\n",
              "      <td>0.928900</td>\n",
              "      <td>11.561200</td>\n",
              "    </tr>\n",
              "    <tr>\n",
              "      <td>25</td>\n",
              "      <td>0.007700</td>\n",
              "      <td>1.559554</td>\n",
              "      <td>65.938100</td>\n",
              "      <td>0.666500</td>\n",
              "      <td>0.928700</td>\n",
              "      <td>11.571400</td>\n",
              "    </tr>\n",
              "  </tbody>\n",
              "</table><p>"
            ],
            "text/plain": [
              "<IPython.core.display.HTML object>"
            ]
          },
          "metadata": {},
          "output_type": "display_data"
        },
        {
          "data": {
            "application/vnd.jupyter.widget-view+json": {
              "model_id": "f5e3cdeff0a846d382a79423bc57ffb5",
              "version_major": 2,
              "version_minor": 0
            },
            "text/plain": [
              "tokenizer_config.json:   0%|          | 0.00/49.0 [00:00<?, ?B/s]"
            ]
          },
          "metadata": {},
          "output_type": "display_data"
        },
        {
          "data": {
            "application/vnd.jupyter.widget-view+json": {
              "model_id": "aa308b6f3d484cdeb5c6a5ced1d290d2",
              "version_major": 2,
              "version_minor": 0
            },
            "text/plain": [
              "config.json:   0%|          | 0.00/625 [00:00<?, ?B/s]"
            ]
          },
          "metadata": {},
          "output_type": "display_data"
        },
        {
          "data": {
            "application/vnd.jupyter.widget-view+json": {
              "model_id": "826127e1390f49489fa8a6bcbc23b8ba",
              "version_major": 2,
              "version_minor": 0
            },
            "text/plain": [
              "vocab.txt:   0%|          | 0.00/996k [00:00<?, ?B/s]"
            ]
          },
          "metadata": {},
          "output_type": "display_data"
        },
        {
          "data": {
            "application/vnd.jupyter.widget-view+json": {
              "model_id": "e8f48b549f4c41e88c3584f962e5950c",
              "version_major": 2,
              "version_minor": 0
            },
            "text/plain": [
              "tokenizer.json:   0%|          | 0.00/1.96M [00:00<?, ?B/s]"
            ]
          },
          "metadata": {},
          "output_type": "display_data"
        },
        {
          "data": {
            "application/vnd.jupyter.widget-view+json": {
              "model_id": "4c46e67121444f749b5f03bbc070591a",
              "version_major": 2,
              "version_minor": 0
            },
            "text/plain": [
              "model.safetensors:   0%|          | 0.00/714M [00:00<?, ?B/s]"
            ]
          },
          "metadata": {},
          "output_type": "display_data"
        },
        {
          "name": "stderr",
          "output_type": "stream",
          "text": [
            "/usr/local/lib/python3.11/dist-packages/transformers/modeling_utils.py:3465: UserWarning: Moving the following attributes in the config to the generation config: {'max_length': 200, 'early_stopping': True, 'num_beams': 5}. You are seeing this warning because you've set generation parameters in the model config, as opposed to in the generation config.\n",
            "  warnings.warn(\n",
            "There were missing keys in the checkpoint model loaded: ['model.encoder.embed_tokens.weight', 'model.decoder.embed_tokens.weight', 'lm_head.weight'].\n"
          ]
        },
        {
          "name": "stdout",
          "output_type": "stream",
          "text": [
            "\n",
            "[INFO] Training finished.\n",
            "Best model saved to ./mbart-syl-to-ctg/best_model\n",
            "\n",
            "[INFO] Generating training and validation curves...\n"
          ]
        },
        {
          "data": {
            "image/png": "[encoded data removed]",
            "text/plain": [
              "<Figure size 1200x800 with 1 Axes>"
            ]
          },
          "metadata": {},
          "output_type": "display_data"
        },
        {
          "data": {
            "image/png": "[encoded data removed]",
            "text/plain": [
              "<Figure size 1200x800 with 1 Axes>"
            ]
          },
          "metadata": {},
          "output_type": "display_data"
        },
        {
          "name": "stdout",
          "output_type": "stream",
          "text": [
            "\n",
            "[INFO] Performing final evaluation on the test set...\n"
          ]
        },
        {
          "data": {
            "text/html": [
              "\n",
              "    <div>\n",
              "      \n",
              "      <progress value='25' max='25' style='width:300px; height:20px; vertical-align: middle;'></progress>\n",
              "      [25/25 00:13]\n",
              "    </div>\n",
              "    "
            ],
            "text/plain": [
              "<IPython.core.display.HTML object>"
            ]
          },
          "metadata": {},
          "output_type": "display_data"
        },
        {
          "name": "stdout",
          "output_type": "stream",
          "text": [
            "\n",
            "--- Test Set Evaluation Results ---\n",
            "Loss           : 1.6252\n",
            "Bleu           : 61.2260\n",
            "Meteor         : 0.6332\n",
            "Bertscore_f1   : 0.9194\n",
            "Gen_len        : 10.8832\n",
            "Runtime        : 14.3111\n",
            "Samples_per_second: 13.7660\n",
            "Steps_per_second: 1.7470\n",
            "-----------------------------------\n",
            "\n",
            "[INFO] Running inference on test samples for qualitative analysis...\n",
            "\n",
            "--- Qualitative Analysis: Sample Translations ---\n",
            "\n",
            "Sample #1\n",
            "  - Source (SYL):      আমার ইচা মাছ খাইতে বেশি ভালা লাগে\n",
            "  - Reference (CTG):  আই ইচা মাছ হাইতো পছন্দ গরি\n",
            "  - Model Output (CTG): আরে খাইত গম লাগে\n",
            "--------------------------------------------------\n",
            "Sample #2\n",
            "  - Source (SYL):      ভালা লাগে না\n",
            "  - Reference (CTG):  গম না লাগে\n",
            "  - Model Output (CTG): গম না লাগে\n",
            "--------------------------------------------------\n",
            "Sample #3\n",
            "  - Source (SYL):      যাওয়া লাগবো\n",
            "  - Reference (CTG):  ওত যা ফরিবো\n",
            "  - Model Output (CTG): যাওয়া ফরিবো\n",
            "--------------------------------------------------\n",
            "Sample #4\n",
            "  - Source (SYL):      আমি মেধাবী আছিলাম\n",
            "  - Reference (CTG):  আই মেধাবী আছিলাম\n",
            "  - Model Output (CTG): আই মেধাবী আছিলাম\n",
            "--------------------------------------------------\n",
            "Sample #5\n",
            "  - Source (SYL):      তুমাকে দেখিয়া\n",
            "  - Reference (CTG):  তুয়ারে দেহি\n",
            "  - Model Output (CTG): তুই দেহা\n",
            "--------------------------------------------------\n",
            "Sample #6\n",
            "  - Source (SYL):      কিতা খবর\n",
            "  - Reference (CTG):  কি হবর\n",
            "  - Model Output (CTG): কি news\n",
            "--------------------------------------------------\n",
            "Sample #7\n",
            "  - Source (SYL):      শুক্রবার আমরা গেছিলাম\n",
            "  - Reference (CTG):  শুক্রবার আরা গিয়ি\n",
            "  - Model Output (CTG): শুক্রবার আরা গিয়ি\n",
            "--------------------------------------------------\n",
            "Sample #8\n",
            "  - Source (SYL):      তুমিতাইন জলদি উঠি যাইও\n",
            "  - Reference (CTG):  তুই জলদি উঠ\n",
            "  - Model Output (CTG): তুই জলদি উঠ\n",
            "--------------------------------------------------\n",
            "Sample #9\n",
            "  - Source (SYL):      আব্বায় জামা কিনিয়া আনছইন\n",
            "  - Reference (CTG):  আব্বু জামা কিনি আইন্ন্যে\n",
            "  - Model Output (CTG): আব্বু জামা কিনি আইন্ন্যে\n",
            "--------------------------------------------------\n",
            "Sample #10\n",
            "  - Source (SYL):      আমি খাই\n",
            "  - Reference (CTG):  আই হাই\n",
            "  - Model Output (CTG): আই হাই\n",
            "--------------------------------------------------\n",
            "\n",
            "Notebook execution complete.\n"
          ]
        }
      ],
      "source": [
        "import pandas as pd\n",
        "import numpy as np\n",
        "import torch\n",
        "import nltk\n",
        "import re\n",
        "import gc\n",
        "from tqdm.auto import tqdm\n",
        "import matplotlib.pyplot as plt\n",
        "import seaborn as sns\n",
        "\n",
        "from datasets import Dataset, DatasetDict\n",
        "from sklearn.model_selection import train_test_split\n",
        "\n",
        "from transformers import (\n",
        "    MBartForConditionalGeneration,\n",
        "    MBart50TokenizerFast,\n",
        "    Seq2SeqTrainingArguments,\n",
        "    Seq2SeqTrainer,\n",
        "    DataCollatorForSeq2Seq\n",
        ")\n",
        "import evaluate\n",
        "\n",
        "nltk.download('wordnet', quiet=True)\n",
        "nltk.download('punkt', quiet=True)\n",
        "nltk.download('omw-1.4', quiet=True)\n",
        "\n",
        "import os\n",
        "import shutil\n",
        "\n",
        "working_dir = \"/kaggle/working\"\n",
        "if os.path.exists(working_dir):\n",
        "    for filename in os.listdir(working_dir):\n",
        "        file_path = os.path.join(working_dir, filename)\n",
        "        try:\n",
        "            if os.path.isfile(file_path) or os.path.islink(file_path):\n",
        "                os.unlink(file_path)\n",
        "            elif os.path.isdir(file_path):\n",
        "                shutil.rmtree(file_path)\n",
        "        except Exception as e:\n",
        "            print(f\"Failed to delete {file_path}: {e}\")\n",
        "\n",
        "print(\"Kaggle working directory cleaned!\")\n",
        "\n",
        "class Config:\n",
        "    DATASET_PATH = \"/kaggle/input/aacl-dialect-dataset/AACL dialect  - Sentence.csv\"\n",
        "    SOURCE_LANG, TARGET_LANG = \"Sylhet Language\", \"Chittagong Language\"\n",
        "    MODEL_CHECKPOINT = \"facebook/mbart-large-50-many-to-many-mmt\"\n",
        "    SOURCE_LANG_CODE, TARGET_LANG_CODE = \"bn_IN\", \"bn_IN\"\n",
        "    OUTPUT_DIR = \"./mbart-syl-to-ctg\"\n",
        "    MAX_INPUT_LENGTH, MAX_TARGET_LENGTH = 128, 128\n",
        "    BATCH_SIZE, GRADIENT_ACCUMULATION_STEPS = 8, 2\n",
        "    EVAL_STRATEGY = \"epoch\"\n",
        "    NUM_EPOCHS, LEARNING_RATE = 25, 5e-5\n",
        "    WEIGHT_DECAY, WARMUP_STEPS = 0.01, 50\n",
        "    TRAIN_RATIO, VALIDATION_RATIO, TEST_RATIO = 0.7, 0.1, 0.2\n",
        "    SEED = 42\n",
        "\n",
        "config = Config()\n",
        "device = \"cuda\" if torch.cuda.is_available() else \"cpu\"\n",
        "print(f\"Using device: {device}\")\n",
        "\n",
        "df = pd.read_csv(config.DATASET_PATH)\n",
        "df = df[[config.SOURCE_LANG, config.TARGET_LANG]].rename(columns={config.SOURCE_LANG: 'syl', config.TARGET_LANG: 'ctg'})\n",
        "df.dropna(inplace=True)\n",
        "\n",
        "def clean_text(text):\n",
        "    return text.strip() if isinstance(text, str) else \"\"\n",
        "df['syl'] = df['syl'].apply(clean_text)\n",
        "df['ctg'] = df['ctg'].apply(clean_text)\n",
        "df = df[(df['syl'] != '') & (df['ctg'] != '')]\n",
        "print(f\"Dataset loaded with {len(df)} samples after cleaning.\")\n",
        "\n",
        "train_df, temp_df = train_test_split(df, test_size=(1 - config.TRAIN_RATIO), random_state=config.SEED)\n",
        "val_df, test_df = train_test_split(temp_df, test_size=(config.TEST_RATIO / (config.VALIDATION_RATIO + config.TEST_RATIO)), random_state=config.SEED)\n",
        "\n",
        "raw_datasets = DatasetDict({\n",
        "    'train': Dataset.from_pandas(train_df.reset_index(drop=True)),\n",
        "    'validation': Dataset.from_pandas(val_df.reset_index(drop=True)),\n",
        "    'test': Dataset.from_pandas(test_df.reset_index(drop=True))\n",
        "})\n",
        "print(f\"Train: {len(train_df)}, Validation: {len(val_df)}, Test: {len(test_df)}\")\n",
        "\n",
        "tokenizer = MBart50TokenizerFast.from_pretrained(config.MODEL_CHECKPOINT, src_lang=config.SOURCE_LANG_CODE, tgt_lang=config.TARGET_LANG_CODE)\n",
        "model = MBartForConditionalGeneration.from_pretrained(config.MODEL_CHECKPOINT)\n",
        "\n",
        "def preprocess_function(examples):\n",
        "    model_inputs = tokenizer(examples[\"syl\"], max_length=config.MAX_INPUT_LENGTH, truncation=True)\n",
        "    with tokenizer.as_target_tokenizer():\n",
        "        labels = tokenizer(examples[\"ctg\"], max_length=config.MAX_TARGET_LENGTH, truncation=True)\n",
        "    model_inputs[\"labels\"] = labels[\"input_ids\"]\n",
        "    return model_inputs\n",
        "\n",
        "tokenized_datasets = raw_datasets.map(preprocess_function, batched=True, remove_columns=raw_datasets[\"train\"].column_names)\n",
        "\n",
        "bleu_metric = evaluate.load(\"sacrebleu\")\n",
        "meteor_metric = evaluate.load(\"meteor\")\n",
        "bertscore_metric = evaluate.load(\"bertscore\")\n",
        "\n",
        "def compute_metrics(eval_preds):\n",
        "    preds, labels = eval_preds\n",
        "    if isinstance(preds, tuple): preds = preds[0]\n",
        "    labels = np.where(labels != -100, labels, tokenizer.pad_token_id)\n",
        "    decoded_preds = tokenizer.batch_decode(preds, skip_special_tokens=True)\n",
        "    decoded_labels = tokenizer.batch_decode(labels, skip_special_tokens=True)\n",
        "    post_processed_labels = [[label.strip()] for label in decoded_labels]\n",
        "    post_processed_preds = [pred.strip() for pred in decoded_preds]\n",
        "    bleu = bleu_metric.compute(predictions=post_processed_preds, references=post_processed_labels)\n",
        "    meteor = meteor_metric.compute(predictions=post_processed_preds, references=post_processed_labels)\n",
        "    bertscore = bertscore_metric.compute(predictions=post_processed_preds, references=post_processed_labels, lang=\"bn\")\n",
        "    result = {\"bleu\": bleu[\"score\"], \"meteor\": meteor[\"meteor\"], \"bertscore_f1\": np.mean(bertscore[\"f1\"])}\n",
        "    prediction_lens = [np.count_nonzero(pred != tokenizer.pad_token_id) for pred in preds]\n",
        "    result[\"gen_len\"] = np.mean(prediction_lens)\n",
        "    return {k: round(v, 4) for k, v in result.items()}\n",
        "\n",
        "training_args = Seq2SeqTrainingArguments(\n",
        "    output_dir=config.OUTPUT_DIR,\n",
        "    eval_strategy=config.EVAL_STRATEGY,\n",
        "    logging_strategy=config.EVAL_STRATEGY,\n",
        "    save_strategy=config.EVAL_STRATEGY,\n",
        "    per_device_train_batch_size=config.BATCH_SIZE,\n",
        "    per_device_eval_batch_size=config.BATCH_SIZE,\n",
        "    learning_rate=config.LEARNING_RATE,\n",
        "    weight_decay=config.WEIGHT_DECAY,\n",
        "    num_train_epochs=config.NUM_EPOCHS,\n",
        "    warmup_steps=config.WARMUP_STEPS,\n",
        "    fp16=True,\n",
        "    gradient_accumulation_steps=config.GRADIENT_ACCUMULATION_STEPS,\n",
        "    gradient_checkpointing=True,\n",
        "    save_total_limit=1,\n",
        "    save_only_model=True,\n",
        "    predict_with_generate=True,\n",
        "    load_best_model_at_end=True,\n",
        "    metric_for_best_model=\"bleu\",\n",
        "    greater_is_better=True,\n",
        "    report_to=\"none\"\n",
        ")\n",
        "\n",
        "data_collator = DataCollatorForSeq2Seq(tokenizer, model=model)\n",
        "trainer = Seq2SeqTrainer(\n",
        "    model=model, args=training_args,\n",
        "    train_dataset=tokenized_datasets[\"train\"], eval_dataset=tokenized_datasets[\"validation\"],\n",
        "    tokenizer=tokenizer, data_collator=data_collator, compute_metrics=compute_metrics\n",
        ")\n",
        "\n",
        "gc.collect()\n",
        "torch.cuda.empty_cache()\n",
        "train_result = trainer.train()\n",
        "trainer.save_model(f\"{config.OUTPUT_DIR}/best_model\")\n",
        "tokenizer.save_pretrained(f\"{config.OUTPUT_DIR}/best_model\")\n",
        "print(f\"Best model saved to {config.OUTPUT_DIR}/best_model\")\n",
        "\n",
        "log_history = trainer.state.log_history\n",
        "eval_df = pd.DataFrame([log for log in log_history if 'eval_loss' in log])\n",
        "train_df_logs = pd.DataFrame([log for log in log_history if 'loss' in log and 'epoch' in log])\n",
        "eval_df['epoch'] = eval_df['epoch'].round()\n",
        "train_df_logs['epoch'] = train_df_logs['epoch'].round()\n",
        "log_df = pd.merge(train_df_logs, eval_df, on='epoch', how='inner').drop_duplicates(subset=['epoch'], keep='last')\n",
        "\n",
        "plt.style.use('seaborn-v0_8-whitegrid')\n",
        "plt.figure(figsize=(12, 8))\n",
        "plt.plot(log_df['epoch'], log_df['loss'], label='Training Loss', marker='o', linestyle='--')\n",
        "plt.plot(log_df['epoch'], log_df['eval_loss'], label='Validation Loss', marker='o')\n",
        "plt.title('Training & Validation Loss per Epoch (Sylhet to Chittagong)', fontsize=16, weight='bold')\n",
        "plt.xlabel('Epoch', fontsize=14)\n",
        "plt.ylabel('Loss', fontsize=14)\n",
        "plt.legend()\n",
        "plt.xticks(log_df['epoch'].unique().astype(int))\n",
        "plt.grid(True)\n",
        "plt.show()\n",
        "\n",
        "fig, ax = plt.subplots(figsize=(12, 8))\n",
        "ax.plot(log_df['epoch'], log_df['eval_bleu'], label='Validation BLEU', marker='o')\n",
        "ax.plot(log_df['epoch'], log_df['eval_meteor'], label='Validation METEOR', marker='s')\n",
        "ax.plot(log_df['epoch'], log_df['eval_bertscore_f1'], label='Validation BERTScore-F1', marker='^')\n",
        "ax.set_xlabel('Epoch', fontsize=14)\n",
        "ax.set_ylabel('Score', fontsize=14)\n",
        "ax.set_title('Validation Metrics per Epoch (Sylhet to Chittagong)', fontsize=16, weight='bold')\n",
        "ax.legend()\n",
        "ax.set_xticks(log_df['epoch'].unique().astype(int))\n",
        "ax.grid(True)\n",
        "plt.show()\n",
        "\n",
        "test_results = trainer.evaluate(eval_dataset=tokenized_datasets[\"test\"])\n",
        "for key, value in test_results.items():\n",
        "    if key.startswith(\"eval_\"):\n",
        "        print(f\"{key.replace('eval_', '').capitalize():<15}: {value:.4f}\")\n",
        "\n",
        "model_path = f\"{config.OUTPUT_DIR}/best_model\"\n",
        "tokenizer = MBart50TokenizerFast.from_pretrained(model_path)\n",
        "model = MBartForConditionalGeneration.from_pretrained(model_path).to(device)\n",
        "\n",
        "def translate(text):\n",
        "    tokenizer.src_lang = config.SOURCE_LANG_CODE\n",
        "    inputs = tokenizer(text, return_tensors=\"pt\", truncation=True, max_length=config.MAX_INPUT_LENGTH).to(device)\n",
        "    generated_tokens = model.generate(\n",
        "        **inputs,\n",
        "        forced_bos_token_id=tokenizer.lang_code_to_id[config.TARGET_LANG_CODE],\n",
        "        max_length=config.MAX_TARGET_LENGTH, num_beams=5, early_stopping=True\n",
        "    )\n",
        "    return tokenizer.batch_decode(generated_tokens, skip_special_tokens=True)[0]\n",
        "\n",
        "for i in range(min(10, len(test_df))):\n",
        "    sample = raw_datasets['test'][i]\n",
        "    source, reference = sample['syl'], sample['ctg']\n",
        "    model_output = translate(source)\n",
        "    print(f\"Sample #{i+1}\")\n",
        "    print(f\"  - Source (SYL):      {source}\")\n",
        "    print(f\"  - Reference (CTG):  {reference}\")\n",
        "    print(f\"  - Model Output (CTG): {model_output}\")\n",
        "    print(\"-\" * 50)\n",
        "\n",
        "print(\"\\nNotebook execution complete.\")"
      ]
    }
  ],
  "metadata": {
    "kaggle": {
      "accelerator": "gpu",
      "dataSources": [
        {
          "datasetId": 8356981,
          "sourceId": 13187373,
          "sourceType": "datasetVersion"
        }
      ],
      "isGpuEnabled": true,
      "isInternetEnabled": true,
      "language": "python",
      "sourceType": "notebook"
    },
    "kernelspec": {
      "display_name": "Python 3",
      "language": "python",
      "name": "python3"
    },
    "language_info": {
      "codemirror_mode": {
        "name": "ipython",
        "version": 3
      },
      "file_extension": ".py",
      "mimetype": "text/x-python",
      "name": "python",
      "nbconvert_exporter": "python",
      "pygments_lexer": "ipython3",
      "version": "3.11.13"
    },
    "papermill": {
      "default_parameters": {},
      "duration": 1056.635635,
      "end_time": "2025-09-28T08:33:18.062803",
      "environment_variables": {},
      "exception": null,
      "input_path": "__notebook__.ipynb",
      "output_path": "__notebook__.ipynb",
      "parameters": {},
      "start_time": "2025-09-28T08:15:41.427168",
      "version": "2.6.0"
    },
    "widgets": {
      "application/vnd.jupyter.widget-state+json": {}
    },
    "colab": {
      "provenance": []
    }
  },
  "nbformat": 4,
  "nbformat_minor": 5
}