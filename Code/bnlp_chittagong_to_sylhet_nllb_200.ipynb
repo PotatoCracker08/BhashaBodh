{
  "cells": [
    {
      "cell_type": "code",
      "execution_count": null,
      "id": "d9c4a272",
      "metadata": {
        "execution": {
          "iopub.execute_input": "2025-09-28T07:56:13.634539Z",
          "iopub.status.busy": "2025-09-28T07:56:13.633737Z",
          "iopub.status.idle": "2025-09-28T07:57:28.097599Z",
          "shell.execute_reply": "2025-09-28T07:57:28.096913Z"
        },
        "papermill": {
          "duration": 74.468338,
          "end_time": "2025-09-28T07:57:28.099162",
          "exception": false,
          "start_time": "2025-09-28T07:56:13.630824",
          "status": "completed"
        },
        "tags": [],
        "id": "d9c4a272",
        "outputId": "1342c1ff-95a0-4d54-e9bd-1cd5675606ff"
      },
      "outputs": [
        {
          "name": "stdout",
          "output_type": "stream",
          "text": [
            "\u001b[2K     \u001b[90m━━━━━━━━━━━━━━━━━━━━━━━━━━━━━━━━━━━━━━━━\u001b[0m \u001b[32m51.8/51.8 kB\u001b[0m \u001b[31m2.9 MB/s\u001b[0m eta \u001b[36m0:00:00\u001b[0m\r\n",
            "\u001b[2K   \u001b[90m━━━━━━━━━━━━━━━━━━━━━━━━━━━━━━━━━━━━━━━━\u001b[0m \u001b[32m84.1/84.1 kB\u001b[0m \u001b[31m5.6 MB/s\u001b[0m eta \u001b[36m0:00:00\u001b[0m\r\n",
            "\u001b[2K   \u001b[90m━━━━━━━━━━━━━━━━━━━━━━━━━━━━━━━━━━━━━━━━\u001b[0m \u001b[32m104.1/104.1 kB\u001b[0m \u001b[31m8.4 MB/s\u001b[0m eta \u001b[36m0:00:00\u001b[0m\r\n",
            "\u001b[2K   \u001b[90m━━━━━━━━━━━━━━━━━━━━━━━━━━━━━━━━━━━━━━━━\u001b[0m \u001b[32m61.1/61.1 kB\u001b[0m \u001b[31m4.1 MB/s\u001b[0m eta \u001b[36m0:00:00\u001b[0m\r\n",
            "\u001b[2K   \u001b[90m━━━━━━━━━━━━━━━━━━━━━━━━━━━━━━━━━━━━━━━━\u001b[0m \u001b[32m193.6/193.6 kB\u001b[0m \u001b[31m12.3 MB/s\u001b[0m eta \u001b[36m0:00:00\u001b[0m\r\n",
            "\u001b[2K   \u001b[90m━━━━━━━━━━━━━━━━━━━━━━━━━━━━━━━━━━━━━━━━\u001b[0m \u001b[32m363.4/363.4 MB\u001b[0m \u001b[31m4.7 MB/s\u001b[0m eta \u001b[36m0:00:00\u001b[0m\r\n",
            "\u001b[2K   \u001b[90m━━━━━━━━━━━━━━━━━━━━━━━━━━━━━━━━━━━━━━━━\u001b[0m \u001b[32m13.8/13.8 MB\u001b[0m \u001b[31m99.6 MB/s\u001b[0m eta \u001b[36m0:00:00\u001b[0m\r\n",
            "\u001b[2K   \u001b[90m━━━━━━━━━━━━━━━━━━━━━━━━━━━━━━━━━━━━━━━━\u001b[0m \u001b[32m24.6/24.6 MB\u001b[0m \u001b[31m81.3 MB/s\u001b[0m eta \u001b[36m0:00:00\u001b[0m\r\n",
            "\u001b[2K   \u001b[90m━━━━━━━━━━━━━━━━━━━━━━━━━━━━━━━━━━━━━━━━\u001b[0m \u001b[32m883.7/883.7 kB\u001b[0m \u001b[31m43.4 MB/s\u001b[0m eta \u001b[36m0:00:00\u001b[0m\r\n",
            "\u001b[2K   \u001b[90m━━━━━━━━━━━━━━━━━━━━━━━━━━━━━━━━━━━━━━━━\u001b[0m \u001b[32m664.8/664.8 MB\u001b[0m \u001b[31m2.2 MB/s\u001b[0m eta \u001b[36m0:00:00\u001b[0m\r\n",
            "\u001b[2K   \u001b[90m━━━━━━━━━━━━━━━━━━━━━━━━━━━━━━━━━━━━━━━━\u001b[0m \u001b[32m211.5/211.5 MB\u001b[0m \u001b[31m5.7 MB/s\u001b[0m eta \u001b[36m0:00:00\u001b[0m\r\n",
            "\u001b[2K   \u001b[90m━━━━━━━━━━━━━━━━━━━━━━━━━━━━━━━━━━━━━━━━\u001b[0m \u001b[32m56.3/56.3 MB\u001b[0m \u001b[31m3.6 MB/s\u001b[0m eta \u001b[36m0:00:00\u001b[0m\r\n",
            "\u001b[2K   \u001b[90m━━━━━━━━━━━━━━━━━━━━━━━━━━━━━━━━━━━━━━━━\u001b[0m \u001b[32m127.9/127.9 MB\u001b[0m \u001b[31m8.7 MB/s\u001b[0m eta \u001b[36m0:00:00\u001b[0m\r\n",
            "\u001b[2K   \u001b[90m━━━━━━━━━━━━━━━━━━━━━━━━━━━━━━━━━━━━━━━━\u001b[0m \u001b[32m207.5/207.5 MB\u001b[0m \u001b[31m9.0 MB/s\u001b[0m eta \u001b[36m0:00:00\u001b[0m\r\n",
            "\u001b[2K   \u001b[90m━━━━━━━━━━━━━━━━━━━━━━━━━━━━━━━━━━━━━━━━\u001b[0m \u001b[32m21.1/21.1 MB\u001b[0m \u001b[31m85.9 MB/s\u001b[0m eta \u001b[36m0:00:00\u001b[0m\r\n",
            "\u001b[?25h\u001b[31mERROR: pip's dependency resolver does not currently take into account all the packages that are installed. This behaviour is the source of the following dependency conflicts.\r\n",
            "bigframes 2.8.0 requires google-cloud-bigquery-storage<3.0.0,>=2.30.0, which is not installed.\r\n",
            "cesium 0.12.4 requires numpy<3.0,>=2.0, but you have numpy 1.26.4 which is incompatible.\r\n",
            "gcsfs 2025.3.2 requires fsspec==2025.3.2, but you have fsspec 2025.3.0 which is incompatible.\r\n",
            "bigframes 2.8.0 requires google-cloud-bigquery[bqstorage,pandas]>=3.31.0, but you have google-cloud-bigquery 3.25.0 which is incompatible.\r\n",
            "bigframes 2.8.0 requires rich<14,>=12.4.4, but you have rich 14.0.0 which is incompatible.\u001b[0m\u001b[31m\r\n",
            "\u001b[0m"
          ]
        }
      ],
      "source": [
        "!pip install -q transformers[sentencepiece] datasets accelerate evaluate sacrebleu bert_score nltk"
      ]
    },
    {
      "cell_type": "code",
      "execution_count": null,
      "id": "5ffd3f5a",
      "metadata": {
        "execution": {
          "iopub.execute_input": "2025-09-28T07:57:28.138590Z",
          "iopub.status.busy": "2025-09-28T07:57:28.138346Z",
          "iopub.status.idle": "2025-09-28T08:13:12.042966Z",
          "shell.execute_reply": "2025-09-28T08:13:12.042175Z"
        },
        "papermill": {
          "duration": 943.925552,
          "end_time": "2025-09-28T08:13:12.044392",
          "exception": false,
          "start_time": "2025-09-28T07:57:28.118840",
          "status": "completed"
        },
        "tags": [],
        "colab": {
          "referenced_widgets": [
            "cb6c69e9e68e42b6ab29a32fcc46bdde",
            "17ba9c1159df487983d1664ae2199955",
            "9f9175c8a6da43c4a9f0b07d31dbf0a6",
            "f6156f1f13e14de08f14104579b5f50f",
            "129ee528a65a4ff88d31f35843912b24",
            "239af73e0ee74f57ab9250502325d441",
            "6d92bf99ed83481bb93c80a681b316e0",
            "21c638a51de74e72becd8712cdb6f71c",
            "1c0c98d5475c4e8fb5dac16d790f4e36",
            "fbd13428fc784fd0a7a0585bfbd95352",
            "031d18adc4db4304b8fed1d4badf6284",
            "3f471f52d77f41769e625741858bc7d8",
            "9ff7f06eb0934b4e841267cf9c9b3cce",
            "ca6e31af754e47f49c819355fa19910a",
            "ca20060ddbbd47859acc2ffb40c1fed3",
            "0f28821fd55d4b219ad9317897684865",
            "7f1c0b5e4bc74389949e674162186183",
            "cd0d48f637444d3fb3c58ac47d6598b7",
            "09e72bec6f86469f89e6f02dba6b79a2"
          ]
        },
        "id": "5ffd3f5a",
        "outputId": "59693142-a1db-44df-f996-5f255446cda7"
      },
      "outputs": [
        {
          "name": "stderr",
          "output_type": "stream",
          "text": [
            "2025-09-28 07:57:44.951677: E external/local_xla/xla/stream_executor/cuda/cuda_fft.cc:477] Unable to register cuFFT factory: Attempting to register factory for plugin cuFFT when one has already been registered\n",
            "WARNING: All log messages before absl::InitializeLog() is called are written to STDERR\n",
            "E0000 00:00:1759046265.115385      19 cuda_dnn.cc:8310] Unable to register cuDNN factory: Attempting to register factory for plugin cuDNN when one has already been registered\n",
            "E0000 00:00:1759046265.163548      19 cuda_blas.cc:1418] Unable to register cuBLAS factory: Attempting to register factory for plugin cuBLAS when one has already been registered\n"
          ]
        },
        {
          "name": "stdout",
          "output_type": "stream",
          "text": [
            "Kaggle working directory cleaned!\n",
            "Using device: cuda\n",
            "\n",
            "[INFO] Loading and preprocessing data...\n",
            "Dataset loaded with 980 samples after cleaning.\n",
            "\n",
            "[INFO] Splitting the dataset...\n",
            "Train: 685, Validation: 98, Test: 197\n",
            "\n",
            "[INFO] Initializing model and tokenizer...\n"
          ]
        },
        {
          "data": {
            "application/vnd.jupyter.widget-view+json": {
              "model_id": "cb6c69e9e68e42b6ab29a32fcc46bdde",
              "version_major": 2,
              "version_minor": 0
            },
            "text/plain": [
              "tokenizer_config.json:   0%|          | 0.00/564 [00:00<?, ?B/s]"
            ]
          },
          "metadata": {},
          "output_type": "display_data"
        },
        {
          "data": {
            "application/vnd.jupyter.widget-view+json": {
              "model_id": "17ba9c1159df487983d1664ae2199955",
              "version_major": 2,
              "version_minor": 0
            },
            "text/plain": [
              "sentencepiece.bpe.model:   0%|          | 0.00/4.85M [00:00<?, ?B/s]"
            ]
          },
          "metadata": {},
          "output_type": "display_data"
        },
        {
          "data": {
            "application/vnd.jupyter.widget-view+json": {
              "model_id": "9f9175c8a6da43c4a9f0b07d31dbf0a6",
              "version_major": 2,
              "version_minor": 0
            },
            "text/plain": [
              "tokenizer.json:   0%|          | 0.00/17.3M [00:00<?, ?B/s]"
            ]
          },
          "metadata": {},
          "output_type": "display_data"
        },
        {
          "data": {
            "application/vnd.jupyter.widget-view+json": {
              "model_id": "f6156f1f13e14de08f14104579b5f50f",
              "version_major": 2,
              "version_minor": 0
            },
            "text/plain": [
              "special_tokens_map.json: 0.00B [00:00, ?B/s]"
            ]
          },
          "metadata": {},
          "output_type": "display_data"
        },
        {
          "data": {
            "application/vnd.jupyter.widget-view+json": {
              "model_id": "129ee528a65a4ff88d31f35843912b24",
              "version_major": 2,
              "version_minor": 0
            },
            "text/plain": [
              "config.json:   0%|          | 0.00/846 [00:00<?, ?B/s]"
            ]
          },
          "metadata": {},
          "output_type": "display_data"
        },
        {
          "data": {
            "application/vnd.jupyter.widget-view+json": {
              "model_id": "239af73e0ee74f57ab9250502325d441",
              "version_major": 2,
              "version_minor": 0
            },
            "text/plain": [
              "pytorch_model.bin:   0%|          | 0.00/2.46G [00:00<?, ?B/s]"
            ]
          },
          "metadata": {},
          "output_type": "display_data"
        },
        {
          "data": {
            "application/vnd.jupyter.widget-view+json": {
              "model_id": "6d92bf99ed83481bb93c80a681b316e0",
              "version_major": 2,
              "version_minor": 0
            },
            "text/plain": [
              "model.safetensors:   0%|          | 0.00/2.46G [00:00<?, ?B/s]"
            ]
          },
          "metadata": {},
          "output_type": "display_data"
        },
        {
          "data": {
            "application/vnd.jupyter.widget-view+json": {
              "model_id": "21c638a51de74e72becd8712cdb6f71c",
              "version_major": 2,
              "version_minor": 0
            },
            "text/plain": [
              "generation_config.json:   0%|          | 0.00/189 [00:00<?, ?B/s]"
            ]
          },
          "metadata": {},
          "output_type": "display_data"
        },
        {
          "name": "stdout",
          "output_type": "stream",
          "text": [
            "\n",
            "[INFO] Tokenizing datasets...\n"
          ]
        },
        {
          "data": {
            "application/vnd.jupyter.widget-view+json": {
              "model_id": "1c0c98d5475c4e8fb5dac16d790f4e36",
              "version_major": 2,
              "version_minor": 0
            },
            "text/plain": [
              "Map:   0%|          | 0/685 [00:00<?, ? examples/s]"
            ]
          },
          "metadata": {},
          "output_type": "display_data"
        },
        {
          "name": "stderr",
          "output_type": "stream",
          "text": [
            "/usr/local/lib/python3.11/dist-packages/transformers/tokenization_utils_base.py:3959: UserWarning: `as_target_tokenizer` is deprecated and will be removed in v5 of Transformers. You can tokenize your labels by using the argument `text_target` of the regular `__call__` method (either in the same call as your input texts if you use the same keyword arguments, or in a separate call.\n",
            "  warnings.warn(\n"
          ]
        },
        {
          "data": {
            "application/vnd.jupyter.widget-view+json": {
              "model_id": "fbd13428fc784fd0a7a0585bfbd95352",
              "version_major": 2,
              "version_minor": 0
            },
            "text/plain": [
              "Map:   0%|          | 0/98 [00:00<?, ? examples/s]"
            ]
          },
          "metadata": {},
          "output_type": "display_data"
        },
        {
          "data": {
            "application/vnd.jupyter.widget-view+json": {
              "model_id": "031d18adc4db4304b8fed1d4badf6284",
              "version_major": 2,
              "version_minor": 0
            },
            "text/plain": [
              "Map:   0%|          | 0/197 [00:00<?, ? examples/s]"
            ]
          },
          "metadata": {},
          "output_type": "display_data"
        },
        {
          "name": "stdout",
          "output_type": "stream",
          "text": [
            "\n",
            "[INFO] Setting up evaluation metrics (BLEU, METEOR, BERTScore)...\n"
          ]
        },
        {
          "data": {
            "application/vnd.jupyter.widget-view+json": {
              "model_id": "3f471f52d77f41769e625741858bc7d8",
              "version_major": 2,
              "version_minor": 0
            },
            "text/plain": [
              "Downloading builder script: 0.00B [00:00, ?B/s]"
            ]
          },
          "metadata": {},
          "output_type": "display_data"
        },
        {
          "data": {
            "application/vnd.jupyter.widget-view+json": {
              "model_id": "9ff7f06eb0934b4e841267cf9c9b3cce",
              "version_major": 2,
              "version_minor": 0
            },
            "text/plain": [
              "Downloading builder script: 0.00B [00:00, ?B/s]"
            ]
          },
          "metadata": {},
          "output_type": "display_data"
        },
        {
          "name": "stderr",
          "output_type": "stream",
          "text": [
            "[nltk_data] Downloading package wordnet to /usr/share/nltk_data...\n",
            "[nltk_data]   Package wordnet is already up-to-date!\n",
            "[nltk_data] Downloading package punkt_tab to /usr/share/nltk_data...\n",
            "[nltk_data]   Package punkt_tab is already up-to-date!\n",
            "[nltk_data] Downloading package omw-1.4 to /usr/share/nltk_data...\n",
            "[nltk_data]   Package omw-1.4 is already up-to-date!\n"
          ]
        },
        {
          "data": {
            "application/vnd.jupyter.widget-view+json": {
              "model_id": "ca6e31af754e47f49c819355fa19910a",
              "version_major": 2,
              "version_minor": 0
            },
            "text/plain": [
              "Downloading builder script: 0.00B [00:00, ?B/s]"
            ]
          },
          "metadata": {},
          "output_type": "display_data"
        },
        {
          "name": "stdout",
          "output_type": "stream",
          "text": [
            "\n",
            "[INFO] Configuring training arguments...\n"
          ]
        },
        {
          "name": "stderr",
          "output_type": "stream",
          "text": [
            "/tmp/ipykernel_19/1405104814.py:222: FutureWarning: `tokenizer` is deprecated and will be removed in version 5.0.0 for `Seq2SeqTrainer.__init__`. Use `processing_class` instead.\n",
            "  trainer = Seq2SeqTrainer(\n"
          ]
        },
        {
          "name": "stdout",
          "output_type": "stream",
          "text": [
            "\n",
            "[INFO] Starting model training...\n"
          ]
        },
        {
          "name": "stderr",
          "output_type": "stream",
          "text": [
            "`use_cache=True` is incompatible with gradient checkpointing. Setting `use_cache=False`...\n"
          ]
        },
        {
          "data": {
            "text/html": [
              "\n",
              "    <div>\n",
              "      \n",
              "      <progress value='1075' max='1075' style='width:300px; height:20px; vertical-align: middle;'></progress>\n",
              "      [1075/1075 14:23, Epoch 25/25]\n",
              "    </div>\n",
              "    <table border=\"1\" class=\"dataframe\">\n",
              "  <thead>\n",
              " <tr style=\"text-align: left;\">\n",
              "      <th>Epoch</th>\n",
              "      <th>Training Loss</th>\n",
              "      <th>Validation Loss</th>\n",
              "      <th>Bleu</th>\n",
              "      <th>Meteor</th>\n",
              "      <th>Bertscore F1</th>\n",
              "      <th>Gen Len</th>\n",
              "    </tr>\n",
              "  </thead>\n",
              "  <tbody>\n",
              "    <tr>\n",
              "      <td>1</td>\n",
              "      <td>4.097600</td>\n",
              "      <td>2.886273</td>\n",
              "      <td>6.032600</td>\n",
              "      <td>0.187000</td>\n",
              "      <td>0.806900</td>\n",
              "      <td>12.540800</td>\n",
              "    </tr>\n",
              "    <tr>\n",
              "      <td>2</td>\n",
              "      <td>2.216200</td>\n",
              "      <td>1.999204</td>\n",
              "      <td>17.637900</td>\n",
              "      <td>0.303500</td>\n",
              "      <td>0.836200</td>\n",
              "      <td>12.163300</td>\n",
              "    </tr>\n",
              "    <tr>\n",
              "      <td>3</td>\n",
              "      <td>1.437400</td>\n",
              "      <td>1.594437</td>\n",
              "      <td>33.688600</td>\n",
              "      <td>0.413400</td>\n",
              "      <td>0.864200</td>\n",
              "      <td>10.357100</td>\n",
              "    </tr>\n",
              "    <tr>\n",
              "      <td>4</td>\n",
              "      <td>0.963400</td>\n",
              "      <td>1.370268</td>\n",
              "      <td>37.120500</td>\n",
              "      <td>0.463000</td>\n",
              "      <td>0.879300</td>\n",
              "      <td>10.714300</td>\n",
              "    </tr>\n",
              "    <tr>\n",
              "      <td>5</td>\n",
              "      <td>0.671200</td>\n",
              "      <td>1.267875</td>\n",
              "      <td>46.268600</td>\n",
              "      <td>0.515700</td>\n",
              "      <td>0.892100</td>\n",
              "      <td>10.408200</td>\n",
              "    </tr>\n",
              "    <tr>\n",
              "      <td>6</td>\n",
              "      <td>0.480900</td>\n",
              "      <td>1.174759</td>\n",
              "      <td>52.185200</td>\n",
              "      <td>0.588100</td>\n",
              "      <td>0.904900</td>\n",
              "      <td>10.734700</td>\n",
              "    </tr>\n",
              "    <tr>\n",
              "      <td>7</td>\n",
              "      <td>0.350200</td>\n",
              "      <td>1.119689</td>\n",
              "      <td>53.395000</td>\n",
              "      <td>0.563500</td>\n",
              "      <td>0.901600</td>\n",
              "      <td>10.510200</td>\n",
              "    </tr>\n",
              "    <tr>\n",
              "      <td>8</td>\n",
              "      <td>0.260200</td>\n",
              "      <td>1.096346</td>\n",
              "      <td>55.232800</td>\n",
              "      <td>0.601400</td>\n",
              "      <td>0.907400</td>\n",
              "      <td>10.622400</td>\n",
              "    </tr>\n",
              "    <tr>\n",
              "      <td>9</td>\n",
              "      <td>0.204800</td>\n",
              "      <td>1.066258</td>\n",
              "      <td>56.543400</td>\n",
              "      <td>0.619500</td>\n",
              "      <td>0.911500</td>\n",
              "      <td>10.785700</td>\n",
              "    </tr>\n",
              "    <tr>\n",
              "      <td>10</td>\n",
              "      <td>0.161300</td>\n",
              "      <td>1.027683</td>\n",
              "      <td>57.467500</td>\n",
              "      <td>0.640700</td>\n",
              "      <td>0.914900</td>\n",
              "      <td>10.632700</td>\n",
              "    </tr>\n",
              "    <tr>\n",
              "      <td>11</td>\n",
              "      <td>0.129700</td>\n",
              "      <td>1.041066</td>\n",
              "      <td>57.815200</td>\n",
              "      <td>0.633500</td>\n",
              "      <td>0.913700</td>\n",
              "      <td>10.683700</td>\n",
              "    </tr>\n",
              "    <tr>\n",
              "      <td>12</td>\n",
              "      <td>0.094300</td>\n",
              "      <td>1.037167</td>\n",
              "      <td>61.329700</td>\n",
              "      <td>0.638400</td>\n",
              "      <td>0.914800</td>\n",
              "      <td>10.642900</td>\n",
              "    </tr>\n",
              "    <tr>\n",
              "      <td>13</td>\n",
              "      <td>0.082000</td>\n",
              "      <td>1.009897</td>\n",
              "      <td>63.251300</td>\n",
              "      <td>0.662500</td>\n",
              "      <td>0.920600</td>\n",
              "      <td>10.500000</td>\n",
              "    </tr>\n",
              "    <tr>\n",
              "      <td>14</td>\n",
              "      <td>0.067600</td>\n",
              "      <td>1.008117</td>\n",
              "      <td>63.354800</td>\n",
              "      <td>0.664100</td>\n",
              "      <td>0.920300</td>\n",
              "      <td>10.653100</td>\n",
              "    </tr>\n",
              "    <tr>\n",
              "      <td>15</td>\n",
              "      <td>0.063200</td>\n",
              "      <td>1.017752</td>\n",
              "      <td>64.130300</td>\n",
              "      <td>0.669700</td>\n",
              "      <td>0.923800</td>\n",
              "      <td>10.693900</td>\n",
              "    </tr>\n",
              "    <tr>\n",
              "      <td>16</td>\n",
              "      <td>0.050200</td>\n",
              "      <td>1.016667</td>\n",
              "      <td>63.044200</td>\n",
              "      <td>0.672900</td>\n",
              "      <td>0.923200</td>\n",
              "      <td>10.704100</td>\n",
              "    </tr>\n",
              "    <tr>\n",
              "      <td>17</td>\n",
              "      <td>0.044000</td>\n",
              "      <td>1.022895</td>\n",
              "      <td>62.081800</td>\n",
              "      <td>0.666000</td>\n",
              "      <td>0.920800</td>\n",
              "      <td>10.581600</td>\n",
              "    </tr>\n",
              "    <tr>\n",
              "      <td>18</td>\n",
              "      <td>0.040700</td>\n",
              "      <td>1.011661</td>\n",
              "      <td>63.427200</td>\n",
              "      <td>0.661600</td>\n",
              "      <td>0.923200</td>\n",
              "      <td>10.612200</td>\n",
              "    </tr>\n",
              "    <tr>\n",
              "      <td>19</td>\n",
              "      <td>0.037800</td>\n",
              "      <td>1.029163</td>\n",
              "      <td>63.482400</td>\n",
              "      <td>0.656000</td>\n",
              "      <td>0.922700</td>\n",
              "      <td>10.612200</td>\n",
              "    </tr>\n",
              "    <tr>\n",
              "      <td>20</td>\n",
              "      <td>0.031700</td>\n",
              "      <td>1.030379</td>\n",
              "      <td>63.804100</td>\n",
              "      <td>0.665700</td>\n",
              "      <td>0.925400</td>\n",
              "      <td>10.673500</td>\n",
              "    </tr>\n",
              "    <tr>\n",
              "      <td>21</td>\n",
              "      <td>0.030600</td>\n",
              "      <td>1.027765</td>\n",
              "      <td>61.732700</td>\n",
              "      <td>0.644500</td>\n",
              "      <td>0.920200</td>\n",
              "      <td>10.602000</td>\n",
              "    </tr>\n",
              "    <tr>\n",
              "      <td>22</td>\n",
              "      <td>0.030100</td>\n",
              "      <td>1.030446</td>\n",
              "      <td>63.021700</td>\n",
              "      <td>0.649400</td>\n",
              "      <td>0.920500</td>\n",
              "      <td>10.581600</td>\n",
              "    </tr>\n",
              "    <tr>\n",
              "      <td>23</td>\n",
              "      <td>0.030200</td>\n",
              "      <td>1.032051</td>\n",
              "      <td>62.256700</td>\n",
              "      <td>0.648300</td>\n",
              "      <td>0.920300</td>\n",
              "      <td>10.571400</td>\n",
              "    </tr>\n",
              "    <tr>\n",
              "      <td>24</td>\n",
              "      <td>0.023700</td>\n",
              "      <td>1.033661</td>\n",
              "      <td>62.748300</td>\n",
              "      <td>0.649000</td>\n",
              "      <td>0.920800</td>\n",
              "      <td>10.602000</td>\n",
              "    </tr>\n",
              "    <tr>\n",
              "      <td>25</td>\n",
              "      <td>0.026200</td>\n",
              "      <td>1.034657</td>\n",
              "      <td>62.748300</td>\n",
              "      <td>0.649000</td>\n",
              "      <td>0.920700</td>\n",
              "      <td>10.602000</td>\n",
              "    </tr>\n",
              "  </tbody>\n",
              "</table><p>"
            ],
            "text/plain": [
              "<IPython.core.display.HTML object>"
            ]
          },
          "metadata": {},
          "output_type": "display_data"
        },
        {
          "name": "stderr",
          "output_type": "stream",
          "text": [
            "Passing a tuple of `past_key_values` is deprecated and will be removed in Transformers v4.58.0. You should pass an instance of `EncoderDecoderCache` instead, e.g. `past_key_values=EncoderDecoderCache.from_legacy_cache(past_key_values)`.\n"
          ]
        },
        {
          "data": {
            "application/vnd.jupyter.widget-view+json": {
              "model_id": "ca20060ddbbd47859acc2ffb40c1fed3",
              "version_major": 2,
              "version_minor": 0
            },
            "text/plain": [
              "tokenizer_config.json:   0%|          | 0.00/49.0 [00:00<?, ?B/s]"
            ]
          },
          "metadata": {},
          "output_type": "display_data"
        },
        {
          "data": {
            "application/vnd.jupyter.widget-view+json": {
              "model_id": "0f28821fd55d4b219ad9317897684865",
              "version_major": 2,
              "version_minor": 0
            },
            "text/plain": [
              "config.json:   0%|          | 0.00/625 [00:00<?, ?B/s]"
            ]
          },
          "metadata": {},
          "output_type": "display_data"
        },
        {
          "data": {
            "application/vnd.jupyter.widget-view+json": {
              "model_id": "7f1c0b5e4bc74389949e674162186183",
              "version_major": 2,
              "version_minor": 0
            },
            "text/plain": [
              "vocab.txt:   0%|          | 0.00/996k [00:00<?, ?B/s]"
            ]
          },
          "metadata": {},
          "output_type": "display_data"
        },
        {
          "data": {
            "application/vnd.jupyter.widget-view+json": {
              "model_id": "cd0d48f637444d3fb3c58ac47d6598b7",
              "version_major": 2,
              "version_minor": 0
            },
            "text/plain": [
              "tokenizer.json:   0%|          | 0.00/1.96M [00:00<?, ?B/s]"
            ]
          },
          "metadata": {},
          "output_type": "display_data"
        },
        {
          "data": {
            "application/vnd.jupyter.widget-view+json": {
              "model_id": "09e72bec6f86469f89e6f02dba6b79a2",
              "version_major": 2,
              "version_minor": 0
            },
            "text/plain": [
              "model.safetensors:   0%|          | 0.00/714M [00:00<?, ?B/s]"
            ]
          },
          "metadata": {},
          "output_type": "display_data"
        },
        {
          "name": "stderr",
          "output_type": "stream",
          "text": [
            "/usr/local/lib/python3.11/dist-packages/transformers/modeling_utils.py:3465: UserWarning: Moving the following attributes in the config to the generation config: {'max_length': 200}. You are seeing this warning because you've set generation parameters in the model config, as opposed to in the generation config.\n",
            "  warnings.warn(\n",
            "There were missing keys in the checkpoint model loaded: ['model.encoder.embed_tokens.weight', 'model.decoder.embed_tokens.weight', 'lm_head.weight'].\n"
          ]
        },
        {
          "name": "stdout",
          "output_type": "stream",
          "text": [
            "\n",
            "[INFO] Training finished.\n",
            "Best model saved to ./nllb-chittagong-to-sylhet/best_model\n",
            "\n",
            "[INFO] Generating training and validation curves...\n"
          ]
        },
        {
          "data": {
            "image/png": "[encoded data removed]",
            "text/plain": [
              "<Figure size 1200x800 with 1 Axes>"
            ]
          },
          "metadata": {},
          "output_type": "display_data"
        },
        {
          "data": {
            "image/png": "[encoded data removed]",
            "text/plain": [
              "<Figure size 1200x800 with 1 Axes>"
            ]
          },
          "metadata": {},
          "output_type": "display_data"
        },
        {
          "name": "stdout",
          "output_type": "stream",
          "text": [
            "\n",
            "[INFO] Performing final evaluation on the test set...\n"
          ]
        },
        {
          "data": {
            "text/html": [
              "\n",
              "    <div>\n",
              "      \n",
              "      <progress value='25' max='25' style='width:300px; height:20px; vertical-align: middle;'></progress>\n",
              "      [25/25 00:09]\n",
              "    </div>\n",
              "    "
            ],
            "text/plain": [
              "<IPython.core.display.HTML object>"
            ]
          },
          "metadata": {},
          "output_type": "display_data"
        },
        {
          "name": "stdout",
          "output_type": "stream",
          "text": [
            "\n",
            "--- Test Set Evaluation Results ---\n",
            "Loss           : 1.0147\n",
            "Bleu           : 62.4174\n",
            "Meteor         : 0.6466\n",
            "Bertscore_f1   : 0.9208\n",
            "Gen_len        : 9.9746\n",
            "Runtime        : 10.6030\n",
            "Samples_per_second: 18.5800\n",
            "Steps_per_second: 2.3580\n",
            "-----------------------------------\n",
            "\n",
            "[INFO] Running inference on test samples for qualitative analysis...\n",
            "\n",
            "--- Qualitative Analysis: Sample Translations ---\n",
            "\n",
            "Sample #1\n",
            "  - Source (CTG):      আই ইচা মাছ হাইতো পছন্দ গরি\n",
            "  - Reference (SYL):  আমার ইচা মাছ খাইতে বেশি ভালা লাগে\n",
            "  - Model Output (SYL): আমি ইচা মাছ খাইতে বেশি ভালা লাগে\n",
            "--------------------------------------------------\n",
            "Sample #2\n",
            "  - Source (CTG):      গম না লাগে\n",
            "  - Reference (SYL):  ভালা লাগে না\n",
            "  - Model Output (SYL): ভালা লাগে না\n",
            "--------------------------------------------------\n",
            "Sample #3\n",
            "  - Source (CTG):      ওত যা ফরিবো\n",
            "  - Reference (SYL):  যাওয়া লাগবো\n",
            "  - Model Output (SYL): ওটা লাগবো\n",
            "--------------------------------------------------\n",
            "Sample #4\n",
            "  - Source (CTG):      আই মেধাবী আছিলাম\n",
            "  - Reference (SYL):  আমি মেধাবী আছিলাম\n",
            "  - Model Output (SYL): আমি মেধাবী আছিলাম\n",
            "--------------------------------------------------\n",
            "Sample #5\n",
            "  - Source (CTG):      তুয়ারে দেহি\n",
            "  - Reference (SYL):  তুমাকে দেখিয়া\n",
            "  - Model Output (SYL): তুমারে দেখলাম\n",
            "--------------------------------------------------\n",
            "Sample #6\n",
            "  - Source (CTG):      কি হবর\n",
            "  - Reference (SYL):  কিতা খবর\n",
            "  - Model Output (SYL): কিতা কাজ?\n",
            "--------------------------------------------------\n",
            "Sample #7\n",
            "  - Source (CTG):      শুক্রবার আরা গিয়ি\n",
            "  - Reference (SYL):  শুক্রবার আমরা গেছিলাম\n",
            "  - Model Output (SYL): শুক্রবার আমরা গেছিলাম\n",
            "--------------------------------------------------\n",
            "Sample #8\n",
            "  - Source (CTG):      তুই জলদি উঠ\n",
            "  - Reference (SYL):  তুমিতাইন জলদি উঠি যাইও\n",
            "  - Model Output (SYL): তুমিতাইন জলদি উঠি যাইও\n",
            "--------------------------------------------------\n",
            "Sample #9\n",
            "  - Source (CTG):      আব্বু জামা কিনি আইন্ন্যে\n",
            "  - Reference (SYL):  আব্বায় জামা কিনিয়া আনছইন\n",
            "  - Model Output (SYL): আব্বায় জামা কিনিয়া আনছইন\n",
            "--------------------------------------------------\n",
            "Sample #10\n",
            "  - Source (CTG):      আই হাই\n",
            "  - Reference (SYL):  আমি খাই\n",
            "  - Model Output (SYL): আমি হাই\n",
            "--------------------------------------------------\n",
            "\n",
            "Notebook execution complete.\n"
          ]
        }
      ],
      "source": [
        "import pandas as pd\n",
        "import numpy as np\n",
        "import torch\n",
        "import nltk\n",
        "import re\n",
        "import gc\n",
        "from tqdm.auto import tqdm\n",
        "import matplotlib.pyplot as plt\n",
        "import seaborn as sns\n",
        "\n",
        "from datasets import Dataset, DatasetDict\n",
        "from sklearn.model_selection import train_test_split\n",
        "\n",
        "from transformers import (\n",
        "    AutoModelForSeq2SeqLM,\n",
        "    AutoTokenizer,\n",
        "    Seq2SeqTrainingArguments,\n",
        "    Seq2SeqTrainer,\n",
        "    DataCollatorForSeq2Seq\n",
        ")\n",
        "import evaluate\n",
        "\n",
        "nltk.download('wordnet', quiet=True)\n",
        "nltk.download('punkt', quiet=True)\n",
        "nltk.download('omw-1.4', quiet=True)\n",
        "\n",
        "import os\n",
        "import shutil\n",
        "\n",
        "working_dir = \"/kaggle/working\"\n",
        "\n",
        "if os.path.exists(working_dir):\n",
        "    for filename in os.listdir(working_dir):\n",
        "        file_path = os.path.join(working_dir, filename)\n",
        "        try:\n",
        "            if os.path.isfile(file_path) or os.path.islink(file_path):\n",
        "                os.unlink(file_path)\n",
        "            elif os.path.isdir(file_path):\n",
        "                shutil.rmtree(file_path)\n",
        "        except Exception as e:\n",
        "            print(f\"Failed to delete {file_path}: {e}\")\n",
        "\n",
        "print(\"Kaggle working directory cleaned!\")\n",
        "\n",
        "\n",
        "class Config:\n",
        "    DATASET_PATH = \"/kaggle/input/aacl-dialect-dataset/AACL dialect  - Sentence.csv\"\n",
        "    SOURCE_LANG, TARGET_LANG = \"Chittagong Language\", \"Sylhet Language\"\n",
        "    MODEL_CHECKPOINT = \"facebook/nllb-200-distilled-600M\"\n",
        "    SOURCE_LANG_CODE, TARGET_LANG_CODE = \"ben_Beng\", \"ben_Beng\"\n",
        "    OUTPUT_DIR = \"./nllb-chittagong-to-sylhet\"\n",
        "    MAX_INPUT_LENGTH, MAX_TARGET_LENGTH = 128, 128\n",
        "    BATCH_SIZE, GRADIENT_ACCUMULATION_STEPS = 8, 2\n",
        "    EVAL_STRATEGY = \"epoch\"\n",
        "    NUM_EPOCHS, LEARNING_RATE = 25, 5e-5\n",
        "    WEIGHT_DECAY, WARMUP_STEPS = 0.01, 50\n",
        "    TRAIN_RATIO, VALIDATION_RATIO, TEST_RATIO = 0.7, 0.1, 0.2\n",
        "    SEED = 42\n",
        "\n",
        "config = Config()\n",
        "device = \"cuda\" if torch.cuda.is_available() else \"cpu\"\n",
        "print(f\"Using device: {device}\")\n",
        "\n",
        "\n",
        "print(\"\\n[INFO] Loading and preprocessing data...\")\n",
        "df = pd.read_csv(config.DATASET_PATH)\n",
        "df = df[[config.SOURCE_LANG, config.TARGET_LANG]].rename(columns={config.SOURCE_LANG: 'ctg', config.TARGET_LANG: 'syl'})\n",
        "df.dropna(inplace=True)\n",
        "\n",
        "def clean_text(text):\n",
        "    return text.strip() if isinstance(text, str) else \"\"\n",
        "\n",
        "df['ctg'] = df['ctg'].apply(clean_text)\n",
        "df['syl'] = df['syl'].apply(clean_text)\n",
        "df = df[(df['ctg'] != '') & (df['syl'] != '')]\n",
        "print(f\"Dataset loaded with {len(df)} samples after cleaning.\")\n",
        "\n",
        "\n",
        "print(\"\\n[INFO] Splitting the dataset...\")\n",
        "train_df, temp_df = train_test_split(df, test_size=(1 - config.TRAIN_RATIO), random_state=config.SEED)\n",
        "val_df, test_df = train_test_split(temp_df, test_size=(config.TEST_RATIO / (config.VALIDATION_RATIO + config.TEST_RATIO)), random_state=config.SEED)\n",
        "\n",
        "raw_datasets = DatasetDict({\n",
        "    'train': Dataset.from_pandas(train_df.reset_index(drop=True)),\n",
        "    'validation': Dataset.from_pandas(val_df.reset_index(drop=True)),\n",
        "    'test': Dataset.from_pandas(test_df.reset_index(drop=True))\n",
        "})\n",
        "print(f\"Train: {len(train_df)}, Validation: {len(val_df)}, Test: {len(test_df)}\")\n",
        "\n",
        "\n",
        "print(\"\\n[INFO] Initializing model and tokenizer...\")\n",
        "tokenizer = AutoTokenizer.from_pretrained(\n",
        "    config.MODEL_CHECKPOINT,\n",
        "    src_lang=config.SOURCE_LANG_CODE,\n",
        "    tgt_lang=config.TARGET_LANG_CODE\n",
        ")\n",
        "model = AutoModelForSeq2SeqLM.from_pretrained(config.MODEL_CHECKPOINT)\n",
        "\n",
        "\n",
        "print(\"\\n[INFO] Tokenizing datasets...\")\n",
        "def preprocess_function(examples):\n",
        "    model_inputs = tokenizer(examples[\"ctg\"], max_length=config.MAX_INPUT_LENGTH, truncation=True)\n",
        "    with tokenizer.as_target_tokenizer():\n",
        "        labels = tokenizer(examples[\"syl\"], max_length=config.MAX_TARGET_LENGTH, truncation=True)\n",
        "    model_inputs[\"labels\"] = labels[\"input_ids\"]\n",
        "    return model_inputs\n",
        "\n",
        "tokenized_datasets = raw_datasets.map(preprocess_function, batched=True, remove_columns=raw_datasets[\"train\"].column_names)\n",
        "\n",
        "\n",
        "print(\"\\n[INFO] Setting up evaluation metrics (BLEU, METEOR, BERTScore)...\")\n",
        "bleu_metric = evaluate.load(\"sacrebleu\")\n",
        "meteor_metric = evaluate.load(\"meteor\")\n",
        "bertscore_metric = evaluate.load(\"bertscore\")\n",
        "\n",
        "def compute_metrics(eval_preds):\n",
        "    preds, labels = eval_preds\n",
        "    if isinstance(preds, tuple): preds = preds[0]\n",
        "    labels = np.where(labels != -100, labels, tokenizer.pad_token_id)\n",
        "    decoded_preds = tokenizer.batch_decode(preds, skip_special_tokens=True)\n",
        "    decoded_labels = tokenizer.batch_decode(labels, skip_special_tokens=True)\n",
        "    post_processed_labels = [[label.strip()] for label in decoded_labels]\n",
        "    post_processed_preds = [pred.strip() for pred in decoded_preds]\n",
        "    bleu = bleu_metric.compute(predictions=post_processed_preds, references=post_processed_labels)\n",
        "    meteor = meteor_metric.compute(predictions=post_processed_preds, references=post_processed_labels)\n",
        "    bertscore = bertscore_metric.compute(predictions=post_processed_preds, references=post_processed_labels, lang=\"bn\")\n",
        "    result = {\n",
        "        \"bleu\": bleu[\"score\"],\n",
        "        \"meteor\": meteor[\"meteor\"],\n",
        "        \"bertscore_f1\": np.mean(bertscore[\"f1\"]),\n",
        "    }\n",
        "    prediction_lens = [np.count_nonzero(pred != tokenizer.pad_token_id) for pred in preds]\n",
        "    result[\"gen_len\"] = np.mean(prediction_lens)\n",
        "    return {k: round(v, 4) for k, v in result.items()}\n",
        "\n",
        "\n",
        "print(\"\\n[INFO] Configuring training arguments...\")\n",
        "training_args = Seq2SeqTrainingArguments(\n",
        "    output_dir=config.OUTPUT_DIR,\n",
        "    eval_strategy=config.EVAL_STRATEGY,\n",
        "    logging_strategy=config.EVAL_STRATEGY,\n",
        "    save_strategy=config.EVAL_STRATEGY,\n",
        "    per_device_train_batch_size=config.BATCH_SIZE,\n",
        "    per_device_eval_batch_size=config.BATCH_SIZE,\n",
        "    learning_rate=config.LEARNING_RATE,\n",
        "    weight_decay=config.WEIGHT_DECAY,\n",
        "    num_train_epochs=config.NUM_EPOCHS,\n",
        "    warmup_steps=config.WARMUP_STEPS,\n",
        "    fp16=True,\n",
        "    gradient_accumulation_steps=config.GRADIENT_ACCUMULATION_STEPS,\n",
        "    gradient_checkpointing=True,\n",
        "    save_total_limit=1,\n",
        "    save_only_model=True,\n",
        "    predict_with_generate=True,\n",
        "    load_best_model_at_end=True,\n",
        "    metric_for_best_model=\"bleu\",\n",
        "    greater_is_better=True,\n",
        "    report_to=\"none\"\n",
        ")\n",
        "\n",
        "data_collator = DataCollatorForSeq2Seq(tokenizer, model=model)\n",
        "\n",
        "trainer = Seq2SeqTrainer(\n",
        "    model=model,\n",
        "    args=training_args,\n",
        "    train_dataset=tokenized_datasets[\"train\"],\n",
        "    eval_dataset=tokenized_datasets[\"validation\"],\n",
        "    tokenizer=tokenizer,\n",
        "    data_collator=data_collator,\n",
        "    compute_metrics=compute_metrics\n",
        ")\n",
        "\n",
        "\n",
        "gc.collect()\n",
        "torch.cuda.empty_cache()\n",
        "print(\"\\n[INFO] Starting model training...\")\n",
        "train_result = trainer.train()\n",
        "print(\"\\n[INFO] Training finished.\")\n",
        "\n",
        "trainer.save_model(f\"{config.OUTPUT_DIR}/best_model\")\n",
        "tokenizer.save_pretrained(f\"{config.OUTPUT_DIR}/best_model\")\n",
        "print(f\"Best model saved to {config.OUTPUT_DIR}/best_model\")\n",
        "\n",
        "\n",
        "print(\"\\n[INFO] Generating training and validation curves...\")\n",
        "log_history = trainer.state.log_history\n",
        "eval_df = pd.DataFrame([log for log in log_history if 'eval_loss' in log])\n",
        "train_df_logs = pd.DataFrame([log for log in log_history if 'loss' in log and 'epoch' in log])\n",
        "eval_df['epoch'] = eval_df['epoch'].round()\n",
        "train_df_logs['epoch'] = train_df_logs['epoch'].round()\n",
        "log_df = pd.merge(train_df_logs, eval_df, on='epoch', how='inner').drop_duplicates(subset=['epoch'], keep='last')\n",
        "\n",
        "plt.style.use('seaborn-v0_8-whitegrid')\n",
        "plt.figure(figsize=(12, 8))\n",
        "plt.plot(log_df['epoch'], log_df['loss'], label='Training Loss', marker='o', linestyle='--')\n",
        "plt.plot(log_df['epoch'], log_df['eval_loss'], label='Validation Loss', marker='o')\n",
        "plt.title('Training & Validation Loss per Epoch', fontsize=16, weight='bold')\n",
        "plt.xlabel('Epoch', fontsize=14)\n",
        "plt.ylabel('Loss', fontsize=14)\n",
        "plt.legend()\n",
        "plt.xticks(log_df['epoch'].unique().astype(int))\n",
        "plt.grid(True)\n",
        "plt.show()\n",
        "\n",
        "fig, ax = plt.subplots(figsize=(12, 8))\n",
        "ax.plot(log_df['epoch'], log_df['eval_bleu'], label='Validation BLEU', marker='o')\n",
        "ax.plot(log_df['epoch'], log_df['eval_meteor'], label='Validation METEOR', marker='s')\n",
        "ax.plot(log_df['epoch'], log_df['eval_bertscore_f1'], label='Validation BERTScore-F1', marker='^')\n",
        "ax.set_xlabel('Epoch', fontsize=14)\n",
        "ax.set_ylabel('Score', fontsize=14)\n",
        "ax.set_title('Validation Metrics per Epoch', fontsize=16, weight='bold')\n",
        "ax.legend()\n",
        "ax.set_xticks(log_df['epoch'].unique().astype(int))\n",
        "ax.grid(True)\n",
        "plt.show()\n",
        "\n",
        "\n",
        "print(\"\\n[INFO] Performing final evaluation on the test set...\")\n",
        "test_results = trainer.evaluate(eval_dataset=tokenized_datasets[\"test\"])\n",
        "\n",
        "print(\"\\n--- Test Set Evaluation Results ---\")\n",
        "for key, value in test_results.items():\n",
        "    if key.startswith(\"eval_\"):\n",
        "        print(f\"{key.replace('eval_', '').capitalize():<15}: {value:.4f}\")\n",
        "print(\"-----------------------------------\")\n",
        "\n",
        "\n",
        "print(\"\\n[INFO] Running inference on test samples for qualitative analysis...\")\n",
        "model_path = f\"{config.OUTPUT_DIR}/best_model\"\n",
        "tokenizer = AutoTokenizer.from_pretrained(model_path)\n",
        "model = AutoModelForSeq2SeqLM.from_pretrained(model_path).to(device)\n",
        "\n",
        "def translate(text):\n",
        "    tokenizer.src_lang = config.SOURCE_LANG_CODE\n",
        "    inputs = tokenizer(text, return_tensors=\"pt\", truncation=True, max_length=config.MAX_INPUT_LENGTH).to(device)\n",
        "    generated_tokens = model.generate(\n",
        "        **inputs,\n",
        "        forced_bos_token_id=tokenizer.convert_tokens_to_ids(config.TARGET_LANG_CODE),\n",
        "        max_length=config.MAX_TARGET_LENGTH,\n",
        "        num_beams=5,\n",
        "        early_stopping=True\n",
        "    )\n",
        "    return tokenizer.batch_decode(generated_tokens, skip_special_tokens=True)[0]\n",
        "\n",
        "print(\"\\n--- Qualitative Analysis: Sample Translations ---\\n\")\n",
        "for i in range(min(10, len(test_df))):\n",
        "    sample = raw_datasets['test'][i]\n",
        "    source, reference = sample['ctg'], sample['syl']\n",
        "    model_output = translate(source)\n",
        "    print(f\"Sample #{i+1}\")\n",
        "    print(f\"  - Source (CTG):      {source}\")\n",
        "    print(f\"  - Reference (SYL):  {reference}\")\n",
        "    print(f\"  - Model Output (SYL): {model_output}\")\n",
        "    print(\"-\" * 50)\n",
        "\n",
        "print(\"\\nNotebook execution complete.\")"
      ]
    }
  ],
  "metadata": {
    "kaggle": {
      "accelerator": "gpu",
      "dataSources": [
        {
          "datasetId": 8356981,
          "sourceId": 13187373,
          "sourceType": "datasetVersion"
        }
      ],
      "isGpuEnabled": true,
      "isInternetEnabled": true,
      "language": "python",
      "sourceType": "notebook"
    },
    "kernelspec": {
      "display_name": "Python 3",
      "language": "python",
      "name": "python3"
    },
    "language_info": {
      "codemirror_mode": {
        "name": "ipython",
        "version": 3
      },
      "file_extension": ".py",
      "mimetype": "text/x-python",
      "name": "python",
      "nbconvert_exporter": "python",
      "pygments_lexer": "ipython3",
      "version": "3.11.13"
    },
    "papermill": {
      "default_parameters": {},
      "duration": 1025.660419,
      "end_time": "2025-09-28T08:13:15.261011",
      "environment_variables": {},
      "exception": null,
      "input_path": "__notebook__.ipynb",
      "output_path": "__notebook__.ipynb",
      "parameters": {},
      "start_time": "2025-09-28T07:56:09.600592",
      "version": "2.6.0"
    },
    "widgets": {
      "application/vnd.jupyter.widget-state+json": {}
    },
    "colab": {
      "provenance": []
    }
  },
  "nbformat": 4,
  "nbformat_minor": 5
}