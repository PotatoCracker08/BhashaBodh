{
  "cells": [
    {
      "cell_type": "code",
      "execution_count": null,
      "id": "8c4a20f3",
      "metadata": {
        "_cell_guid": "b1076dfc-b9ad-4769-8c92-a6c4dae69d19",
        "_uuid": "8f2839f25d086af736a60e9eeb907d3b93b6e0e5",
        "execution": {
          "iopub.execute_input": "2025-09-27T13:42:56.816270Z",
          "iopub.status.busy": "2025-09-27T13:42:56.815526Z",
          "iopub.status.idle": "2025-09-27T13:44:09.484129Z",
          "shell.execute_reply": "2025-09-27T13:44:09.482869Z"
        },
        "papermill": {
          "duration": 72.673864,
          "end_time": "2025-09-27T13:44:09.486400",
          "exception": false,
          "start_time": "2025-09-27T13:42:56.812536",
          "status": "completed"
        },
        "tags": [],
        "id": "8c4a20f3",
        "outputId": "25391706-6798-4d2d-dc91-08aae2f398e5"
      },
      "outputs": [
        {
          "name": "stdout",
          "output_type": "stream",
          "text": [
            "\u001b[2K     \u001b[90m━━━━━━━━━━━━━━━━━━━━━━━━━━━━━━━━━━━━━━━━\u001b[0m \u001b[32m51.8/51.8 kB\u001b[0m \u001b[31m2.7 MB/s\u001b[0m eta \u001b[36m0:00:00\u001b[0m\r\n",
            "\u001b[2K   \u001b[90m━━━━━━━━━━━━━━━━━━━━━━━━━━━━━━━━━━━━━━━━\u001b[0m \u001b[32m84.1/84.1 kB\u001b[0m \u001b[31m5.6 MB/s\u001b[0m eta \u001b[36m0:00:00\u001b[0m\r\n",
            "\u001b[2K   \u001b[90m━━━━━━━━━━━━━━━━━━━━━━━━━━━━━━━━━━━━━━━━\u001b[0m \u001b[32m104.1/104.1 kB\u001b[0m \u001b[31m7.6 MB/s\u001b[0m eta \u001b[36m0:00:00\u001b[0m\r\n",
            "\u001b[2K   \u001b[90m━━━━━━━━━━━━━━━━━━━━━━━━━━━━━━━━━━━━━━━━\u001b[0m \u001b[32m61.1/61.1 kB\u001b[0m \u001b[31m3.2 MB/s\u001b[0m eta \u001b[36m0:00:00\u001b[0m\r\n",
            "\u001b[2K   \u001b[90m━━━━━━━━━━━━━━━━━━━━━━━━━━━━━━━━━━━━━━━━\u001b[0m \u001b[32m193.6/193.6 kB\u001b[0m \u001b[31m12.0 MB/s\u001b[0m eta \u001b[36m0:00:00\u001b[0m\r\n",
            "\u001b[2K   \u001b[90m━━━━━━━━━━━━━━━━━━━━━━━━━━━━━━━━━━━━━━━━\u001b[0m \u001b[32m363.4/363.4 MB\u001b[0m \u001b[31m4.7 MB/s\u001b[0m eta \u001b[36m0:00:00\u001b[0m\r\n",
            "\u001b[2K   \u001b[90m━━━━━━━━━━━━━━━━━━━━━━━━━━━━━━━━━━━━━━━━\u001b[0m \u001b[32m13.8/13.8 MB\u001b[0m \u001b[31m106.1 MB/s\u001b[0m eta \u001b[36m0:00:00\u001b[0m\r\n",
            "\u001b[2K   \u001b[90m━━━━━━━━━━━━━━━━━━━━━━━━━━━━━━━━━━━━━━━━\u001b[0m \u001b[32m24.6/24.6 MB\u001b[0m \u001b[31m79.8 MB/s\u001b[0m eta \u001b[36m0:00:00\u001b[0m\r\n",
            "\u001b[2K   \u001b[90m━━━━━━━━━━━━━━━━━━━━━━━━━━━━━━━━━━━━━━━━\u001b[0m \u001b[32m883.7/883.7 kB\u001b[0m \u001b[31m41.0 MB/s\u001b[0m eta \u001b[36m0:00:00\u001b[0m\r\n",
            "\u001b[2K   \u001b[90m━━━━━━━━━━━━━━━━━━━━━━━━━━━━━━━━━━━━━━━━\u001b[0m \u001b[32m664.8/664.8 MB\u001b[0m \u001b[31m2.3 MB/s\u001b[0m eta \u001b[36m0:00:00\u001b[0m\r\n",
            "\u001b[2K   \u001b[90m━━━━━━━━━━━━━━━━━━━━━━━━━━━━━━━━━━━━━━━━\u001b[0m \u001b[32m211.5/211.5 MB\u001b[0m \u001b[31m3.5 MB/s\u001b[0m eta \u001b[36m0:00:00\u001b[0m\r\n",
            "\u001b[2K   \u001b[90m━━━━━━━━━━━━━━━━━━━━━━━━━━━━━━━━━━━━━━━━\u001b[0m \u001b[32m56.3/56.3 MB\u001b[0m \u001b[31m3.5 MB/s\u001b[0m eta \u001b[36m0:00:00\u001b[0m\r\n",
            "\u001b[2K   \u001b[90m━━━━━━━━━━━━━━━━━━━━━━━━━━━━━━━━━━━━━━━━\u001b[0m \u001b[32m127.9/127.9 MB\u001b[0m \u001b[31m13.5 MB/s\u001b[0m eta \u001b[36m0:00:00\u001b[0m\r\n",
            "\u001b[2K   \u001b[90m━━━━━━━━━━━━━━━━━━━━━━━━━━━━━━━━━━━━━━━━\u001b[0m \u001b[32m207.5/207.5 MB\u001b[0m \u001b[31m8.3 MB/s\u001b[0m eta \u001b[36m0:00:00\u001b[0m\r\n",
            "\u001b[2K   \u001b[90m━━━━━━━━━━━━━━━━━━━━━━━━━━━━━━━━━━━━━━━━\u001b[0m \u001b[32m21.1/21.1 MB\u001b[0m \u001b[31m82.6 MB/s\u001b[0m eta \u001b[36m0:00:00\u001b[0m\r\n",
            "\u001b[?25h\u001b[31mERROR: pip's dependency resolver does not currently take into account all the packages that are installed. This behaviour is the source of the following dependency conflicts.\r\n",
            "bigframes 2.8.0 requires google-cloud-bigquery-storage<3.0.0,>=2.30.0, which is not installed.\r\n",
            "cesium 0.12.4 requires numpy<3.0,>=2.0, but you have numpy 1.26.4 which is incompatible.\r\n",
            "gcsfs 2025.3.2 requires fsspec==2025.3.2, but you have fsspec 2025.3.0 which is incompatible.\r\n",
            "bigframes 2.8.0 requires google-cloud-bigquery[bqstorage,pandas]>=3.31.0, but you have google-cloud-bigquery 3.25.0 which is incompatible.\r\n",
            "bigframes 2.8.0 requires rich<14,>=12.4.4, but you have rich 14.0.0 which is incompatible.\u001b[0m\u001b[31m\r\n",
            "\u001b[0m"
          ]
        }
      ],
      "source": [
        "!pip install -q transformers[sentencepiece] datasets accelerate evaluate sacrebleu bert_score nltk"
      ]
    },
    {
      "cell_type": "code",
      "execution_count": null,
      "id": "e0c7015d",
      "metadata": {
        "execution": {
          "iopub.execute_input": "2025-09-27T13:44:09.548040Z",
          "iopub.status.busy": "2025-09-27T13:44:09.547734Z",
          "iopub.status.idle": "2025-09-27T14:00:16.919881Z",
          "shell.execute_reply": "2025-09-27T14:00:16.918816Z"
        },
        "papermill": {
          "duration": 967.40633,
          "end_time": "2025-09-27T14:00:16.921311",
          "exception": false,
          "start_time": "2025-09-27T13:44:09.514981",
          "status": "completed"
        },
        "tags": [],
        "colab": {
          "referenced_widgets": [
            "3b07b9bfafd54fec907115a422fa7a90",
            "80f2954085634f69a6ae1b6c57599d9e",
            "c01d205fec5f45468a1ba30700e988bc",
            "9b72cc77bbef49afabf956d92a2e275a",
            "07a83030d6da4c9d863b1aba6cf1507c",
            "4b03c3af28714c3aa3d00ae47586c0d8",
            "b1845a4b218e462fbc4116e326c34227",
            "6dd3da3222ef40899eb55508b3dc5d5a",
            "39a4c4922f1e4d1caa61bf972e13062b",
            "2486c5ce4df943108870fb849fc59ed2",
            "92ca78776ac54d50ac2ae55c2844712d",
            "0b05aec578b24177998f04ea3cbcfb12",
            "52476d79d6e04175aa70f07899e2a11c",
            "ee72e678287f4e8c8c88750d4d09b0a8",
            "2b3796ba0a1247db9db2db9720613eee",
            "5cb06502f50549f6b68327ac330e1d8e",
            "6fd2d33e1b454210a6e2f2764ae396c3"
          ]
        },
        "id": "e0c7015d",
        "outputId": "e83a4cc5-b946-4b99-8910-4129ad19b10b"
      },
      "outputs": [
        {
          "name": "stderr",
          "output_type": "stream",
          "text": [
            "2025-09-27 13:44:31.118991: E external/local_xla/xla/stream_executor/cuda/cuda_fft.cc:477] Unable to register cuFFT factory: Attempting to register factory for plugin cuFFT when one has already been registered\n",
            "WARNING: All log messages before absl::InitializeLog() is called are written to STDERR\n",
            "E0000 00:00:1758980671.290090      19 cuda_dnn.cc:8310] Unable to register cuDNN factory: Attempting to register factory for plugin cuDNN when one has already been registered\n",
            "E0000 00:00:1758980671.337682      19 cuda_blas.cc:1418] Unable to register cuBLAS factory: Attempting to register factory for plugin cuBLAS when one has already been registered\n"
          ]
        },
        {
          "name": "stdout",
          "output_type": "stream",
          "text": [
            "Kaggle working directory cleaned!\n",
            "Using device: cuda\n",
            "\n",
            "[INFO] Loading and preprocessing data...\n",
            "Dataset loaded with 980 samples after cleaning.\n",
            "\n",
            "[INFO] Splitting the dataset...\n",
            "Train: 784, Validation: 98, Test: 98\n",
            "\n",
            "[INFO] Initializing model and tokenizer...\n"
          ]
        },
        {
          "data": {
            "application/vnd.jupyter.widget-view+json": {
              "model_id": "3b07b9bfafd54fec907115a422fa7a90",
              "version_major": 2,
              "version_minor": 0
            },
            "text/plain": [
              "tokenizer_config.json:   0%|          | 0.00/529 [00:00<?, ?B/s]"
            ]
          },
          "metadata": {},
          "output_type": "display_data"
        },
        {
          "data": {
            "application/vnd.jupyter.widget-view+json": {
              "model_id": "80f2954085634f69a6ae1b6c57599d9e",
              "version_major": 2,
              "version_minor": 0
            },
            "text/plain": [
              "sentencepiece.bpe.model:   0%|          | 0.00/5.07M [00:00<?, ?B/s]"
            ]
          },
          "metadata": {},
          "output_type": "display_data"
        },
        {
          "data": {
            "application/vnd.jupyter.widget-view+json": {
              "model_id": "c01d205fec5f45468a1ba30700e988bc",
              "version_major": 2,
              "version_minor": 0
            },
            "text/plain": [
              "special_tokens_map.json:   0%|          | 0.00/649 [00:00<?, ?B/s]"
            ]
          },
          "metadata": {},
          "output_type": "display_data"
        },
        {
          "data": {
            "application/vnd.jupyter.widget-view+json": {
              "model_id": "9b72cc77bbef49afabf956d92a2e275a",
              "version_major": 2,
              "version_minor": 0
            },
            "text/plain": [
              "config.json: 0.00B [00:00, ?B/s]"
            ]
          },
          "metadata": {},
          "output_type": "display_data"
        },
        {
          "data": {
            "application/vnd.jupyter.widget-view+json": {
              "model_id": "07a83030d6da4c9d863b1aba6cf1507c",
              "version_major": 2,
              "version_minor": 0
            },
            "text/plain": [
              "model.safetensors:   0%|          | 0.00/2.44G [00:00<?, ?B/s]"
            ]
          },
          "metadata": {},
          "output_type": "display_data"
        },
        {
          "data": {
            "application/vnd.jupyter.widget-view+json": {
              "model_id": "4b03c3af28714c3aa3d00ae47586c0d8",
              "version_major": 2,
              "version_minor": 0
            },
            "text/plain": [
              "generation_config.json:   0%|          | 0.00/261 [00:00<?, ?B/s]"
            ]
          },
          "metadata": {},
          "output_type": "display_data"
        },
        {
          "name": "stdout",
          "output_type": "stream",
          "text": [
            "\n",
            "[INFO] Tokenizing datasets...\n"
          ]
        },
        {
          "data": {
            "application/vnd.jupyter.widget-view+json": {
              "model_id": "b1845a4b218e462fbc4116e326c34227",
              "version_major": 2,
              "version_minor": 0
            },
            "text/plain": [
              "Map:   0%|          | 0/784 [00:00<?, ? examples/s]"
            ]
          },
          "metadata": {},
          "output_type": "display_data"
        },
        {
          "name": "stderr",
          "output_type": "stream",
          "text": [
            "/usr/local/lib/python3.11/dist-packages/transformers/tokenization_utils_base.py:3959: UserWarning: `as_target_tokenizer` is deprecated and will be removed in v5 of Transformers. You can tokenize your labels by using the argument `text_target` of the regular `__call__` method (either in the same call as your input texts if you use the same keyword arguments, or in a separate call.\n",
            "  warnings.warn(\n"
          ]
        },
        {
          "data": {
            "application/vnd.jupyter.widget-view+json": {
              "model_id": "6dd3da3222ef40899eb55508b3dc5d5a",
              "version_major": 2,
              "version_minor": 0
            },
            "text/plain": [
              "Map:   0%|          | 0/98 [00:00<?, ? examples/s]"
            ]
          },
          "metadata": {},
          "output_type": "display_data"
        },
        {
          "data": {
            "application/vnd.jupyter.widget-view+json": {
              "model_id": "39a4c4922f1e4d1caa61bf972e13062b",
              "version_major": 2,
              "version_minor": 0
            },
            "text/plain": [
              "Map:   0%|          | 0/98 [00:00<?, ? examples/s]"
            ]
          },
          "metadata": {},
          "output_type": "display_data"
        },
        {
          "name": "stdout",
          "output_type": "stream",
          "text": [
            "\n",
            "[INFO] Setting up evaluation metrics (BLEU, METEOR, BERTScore)...\n"
          ]
        },
        {
          "data": {
            "application/vnd.jupyter.widget-view+json": {
              "model_id": "2486c5ce4df943108870fb849fc59ed2",
              "version_major": 2,
              "version_minor": 0
            },
            "text/plain": [
              "Downloading builder script: 0.00B [00:00, ?B/s]"
            ]
          },
          "metadata": {},
          "output_type": "display_data"
        },
        {
          "data": {
            "application/vnd.jupyter.widget-view+json": {
              "model_id": "92ca78776ac54d50ac2ae55c2844712d",
              "version_major": 2,
              "version_minor": 0
            },
            "text/plain": [
              "Downloading builder script: 0.00B [00:00, ?B/s]"
            ]
          },
          "metadata": {},
          "output_type": "display_data"
        },
        {
          "name": "stderr",
          "output_type": "stream",
          "text": [
            "[nltk_data] Downloading package wordnet to /usr/share/nltk_data...\n",
            "[nltk_data]   Package wordnet is already up-to-date!\n",
            "[nltk_data] Downloading package punkt_tab to /usr/share/nltk_data...\n",
            "[nltk_data]   Package punkt_tab is already up-to-date!\n",
            "[nltk_data] Downloading package omw-1.4 to /usr/share/nltk_data...\n",
            "[nltk_data]   Package omw-1.4 is already up-to-date!\n"
          ]
        },
        {
          "data": {
            "application/vnd.jupyter.widget-view+json": {
              "model_id": "0b05aec578b24177998f04ea3cbcfb12",
              "version_major": 2,
              "version_minor": 0
            },
            "text/plain": [
              "Downloading builder script: 0.00B [00:00, ?B/s]"
            ]
          },
          "metadata": {},
          "output_type": "display_data"
        },
        {
          "name": "stdout",
          "output_type": "stream",
          "text": [
            "\n",
            "[INFO] Configuring training arguments...\n"
          ]
        },
        {
          "name": "stderr",
          "output_type": "stream",
          "text": [
            "/tmp/ipykernel_19/2419161183.py:256: FutureWarning: `tokenizer` is deprecated and will be removed in version 5.0.0 for `Seq2SeqTrainer.__init__`. Use `processing_class` instead.\n",
            "  trainer = Seq2SeqTrainer(\n"
          ]
        },
        {
          "name": "stdout",
          "output_type": "stream",
          "text": [
            "\n",
            "[INFO] Starting model training...\n"
          ]
        },
        {
          "data": {
            "text/html": [
              "\n",
              "    <div>\n",
              "      \n",
              "      <progress value='1225' max='1225' style='width:300px; height:20px; vertical-align: middle;'></progress>\n",
              "      [1225/1225 14:54, Epoch 25/25]\n",
              "    </div>\n",
              "    <table border=\"1\" class=\"dataframe\">\n",
              "  <thead>\n",
              " <tr style=\"text-align: left;\">\n",
              "      <th>Epoch</th>\n",
              "      <th>Training Loss</th>\n",
              "      <th>Validation Loss</th>\n",
              "      <th>Bleu</th>\n",
              "      <th>Meteor</th>\n",
              "      <th>Bertscore F1</th>\n",
              "      <th>Gen Len</th>\n",
              "    </tr>\n",
              "  </thead>\n",
              "  <tbody>\n",
              "    <tr>\n",
              "      <td>1</td>\n",
              "      <td>4.165300</td>\n",
              "      <td>1.781420</td>\n",
              "      <td>26.340800</td>\n",
              "      <td>0.401800</td>\n",
              "      <td>0.866000</td>\n",
              "      <td>9.908200</td>\n",
              "    </tr>\n",
              "    <tr>\n",
              "      <td>2</td>\n",
              "      <td>1.072500</td>\n",
              "      <td>0.757112</td>\n",
              "      <td>55.504400</td>\n",
              "      <td>0.641200</td>\n",
              "      <td>0.927100</td>\n",
              "      <td>9.418400</td>\n",
              "    </tr>\n",
              "    <tr>\n",
              "      <td>3</td>\n",
              "      <td>0.376000</td>\n",
              "      <td>0.512101</td>\n",
              "      <td>67.586300</td>\n",
              "      <td>0.727500</td>\n",
              "      <td>0.947500</td>\n",
              "      <td>9.040800</td>\n",
              "    </tr>\n",
              "    <tr>\n",
              "      <td>4</td>\n",
              "      <td>0.194600</td>\n",
              "      <td>0.436340</td>\n",
              "      <td>71.617800</td>\n",
              "      <td>0.753800</td>\n",
              "      <td>0.953500</td>\n",
              "      <td>8.959200</td>\n",
              "    </tr>\n",
              "    <tr>\n",
              "      <td>5</td>\n",
              "      <td>0.128100</td>\n",
              "      <td>0.377319</td>\n",
              "      <td>82.097300</td>\n",
              "      <td>0.811000</td>\n",
              "      <td>0.969700</td>\n",
              "      <td>8.969400</td>\n",
              "    </tr>\n",
              "    <tr>\n",
              "      <td>6</td>\n",
              "      <td>0.085900</td>\n",
              "      <td>0.317735</td>\n",
              "      <td>80.926500</td>\n",
              "      <td>0.826600</td>\n",
              "      <td>0.968800</td>\n",
              "      <td>9.040800</td>\n",
              "    </tr>\n",
              "    <tr>\n",
              "      <td>7</td>\n",
              "      <td>0.053200</td>\n",
              "      <td>0.360888</td>\n",
              "      <td>83.655200</td>\n",
              "      <td>0.811700</td>\n",
              "      <td>0.967800</td>\n",
              "      <td>9.020400</td>\n",
              "    </tr>\n",
              "    <tr>\n",
              "      <td>8</td>\n",
              "      <td>0.032100</td>\n",
              "      <td>0.322407</td>\n",
              "      <td>81.584600</td>\n",
              "      <td>0.845600</td>\n",
              "      <td>0.975100</td>\n",
              "      <td>8.989800</td>\n",
              "    </tr>\n",
              "    <tr>\n",
              "      <td>9</td>\n",
              "      <td>0.026700</td>\n",
              "      <td>0.310330</td>\n",
              "      <td>82.184800</td>\n",
              "      <td>0.863200</td>\n",
              "      <td>0.977800</td>\n",
              "      <td>9.102000</td>\n",
              "    </tr>\n",
              "    <tr>\n",
              "      <td>10</td>\n",
              "      <td>0.015100</td>\n",
              "      <td>0.309988</td>\n",
              "      <td>82.185600</td>\n",
              "      <td>0.850500</td>\n",
              "      <td>0.975000</td>\n",
              "      <td>9.112200</td>\n",
              "    </tr>\n",
              "    <tr>\n",
              "      <td>11</td>\n",
              "      <td>0.013200</td>\n",
              "      <td>0.284202</td>\n",
              "      <td>84.757400</td>\n",
              "      <td>0.860800</td>\n",
              "      <td>0.976900</td>\n",
              "      <td>9.091800</td>\n",
              "    </tr>\n",
              "    <tr>\n",
              "      <td>12</td>\n",
              "      <td>0.012000</td>\n",
              "      <td>0.303947</td>\n",
              "      <td>84.375400</td>\n",
              "      <td>0.858500</td>\n",
              "      <td>0.976400</td>\n",
              "      <td>9.081600</td>\n",
              "    </tr>\n",
              "    <tr>\n",
              "      <td>13</td>\n",
              "      <td>0.011400</td>\n",
              "      <td>0.304293</td>\n",
              "      <td>84.055600</td>\n",
              "      <td>0.859700</td>\n",
              "      <td>0.977000</td>\n",
              "      <td>9.091800</td>\n",
              "    </tr>\n",
              "    <tr>\n",
              "      <td>14</td>\n",
              "      <td>0.005900</td>\n",
              "      <td>0.307195</td>\n",
              "      <td>81.990200</td>\n",
              "      <td>0.840100</td>\n",
              "      <td>0.974500</td>\n",
              "      <td>9.040800</td>\n",
              "    </tr>\n",
              "    <tr>\n",
              "      <td>15</td>\n",
              "      <td>0.004900</td>\n",
              "      <td>0.305726</td>\n",
              "      <td>84.963800</td>\n",
              "      <td>0.867000</td>\n",
              "      <td>0.979200</td>\n",
              "      <td>9.102000</td>\n",
              "    </tr>\n",
              "    <tr>\n",
              "      <td>16</td>\n",
              "      <td>0.003900</td>\n",
              "      <td>0.300443</td>\n",
              "      <td>83.191900</td>\n",
              "      <td>0.866200</td>\n",
              "      <td>0.978900</td>\n",
              "      <td>9.112200</td>\n",
              "    </tr>\n",
              "    <tr>\n",
              "      <td>17</td>\n",
              "      <td>0.002700</td>\n",
              "      <td>0.298750</td>\n",
              "      <td>83.046300</td>\n",
              "      <td>0.859100</td>\n",
              "      <td>0.977800</td>\n",
              "      <td>9.091800</td>\n",
              "    </tr>\n",
              "    <tr>\n",
              "      <td>18</td>\n",
              "      <td>0.002700</td>\n",
              "      <td>0.299850</td>\n",
              "      <td>83.751900</td>\n",
              "      <td>0.860200</td>\n",
              "      <td>0.977600</td>\n",
              "      <td>9.102000</td>\n",
              "    </tr>\n",
              "    <tr>\n",
              "      <td>19</td>\n",
              "      <td>0.005300</td>\n",
              "      <td>0.296396</td>\n",
              "      <td>83.957800</td>\n",
              "      <td>0.869800</td>\n",
              "      <td>0.979000</td>\n",
              "      <td>9.122400</td>\n",
              "    </tr>\n",
              "    <tr>\n",
              "      <td>20</td>\n",
              "      <td>0.002300</td>\n",
              "      <td>0.296284</td>\n",
              "      <td>83.751900</td>\n",
              "      <td>0.860200</td>\n",
              "      <td>0.977700</td>\n",
              "      <td>9.122400</td>\n",
              "    </tr>\n",
              "    <tr>\n",
              "      <td>21</td>\n",
              "      <td>0.002100</td>\n",
              "      <td>0.299968</td>\n",
              "      <td>83.191900</td>\n",
              "      <td>0.866200</td>\n",
              "      <td>0.978800</td>\n",
              "      <td>9.122400</td>\n",
              "    </tr>\n",
              "    <tr>\n",
              "      <td>22</td>\n",
              "      <td>0.002400</td>\n",
              "      <td>0.293242</td>\n",
              "      <td>81.857900</td>\n",
              "      <td>0.831700</td>\n",
              "      <td>0.973000</td>\n",
              "      <td>9.102000</td>\n",
              "    </tr>\n",
              "    <tr>\n",
              "      <td>23</td>\n",
              "      <td>0.003300</td>\n",
              "      <td>0.291745</td>\n",
              "      <td>82.673200</td>\n",
              "      <td>0.854900</td>\n",
              "      <td>0.976600</td>\n",
              "      <td>9.112200</td>\n",
              "    </tr>\n",
              "    <tr>\n",
              "      <td>24</td>\n",
              "      <td>0.001600</td>\n",
              "      <td>0.291844</td>\n",
              "      <td>82.673200</td>\n",
              "      <td>0.854900</td>\n",
              "      <td>0.976500</td>\n",
              "      <td>9.112200</td>\n",
              "    </tr>\n",
              "    <tr>\n",
              "      <td>25</td>\n",
              "      <td>0.001500</td>\n",
              "      <td>0.292204</td>\n",
              "      <td>82.673200</td>\n",
              "      <td>0.854900</td>\n",
              "      <td>0.976500</td>\n",
              "      <td>9.112200</td>\n",
              "    </tr>\n",
              "  </tbody>\n",
              "</table><p>"
            ],
            "text/plain": [
              "<IPython.core.display.HTML object>"
            ]
          },
          "metadata": {},
          "output_type": "display_data"
        },
        {
          "data": {
            "application/vnd.jupyter.widget-view+json": {
              "model_id": "52476d79d6e04175aa70f07899e2a11c",
              "version_major": 2,
              "version_minor": 0
            },
            "text/plain": [
              "tokenizer_config.json:   0%|          | 0.00/49.0 [00:00<?, ?B/s]"
            ]
          },
          "metadata": {},
          "output_type": "display_data"
        },
        {
          "data": {
            "application/vnd.jupyter.widget-view+json": {
              "model_id": "ee72e678287f4e8c8c88750d4d09b0a8",
              "version_major": 2,
              "version_minor": 0
            },
            "text/plain": [
              "config.json:   0%|          | 0.00/625 [00:00<?, ?B/s]"
            ]
          },
          "metadata": {},
          "output_type": "display_data"
        },
        {
          "data": {
            "application/vnd.jupyter.widget-view+json": {
              "model_id": "2b3796ba0a1247db9db2db9720613eee",
              "version_major": 2,
              "version_minor": 0
            },
            "text/plain": [
              "vocab.txt:   0%|          | 0.00/996k [00:00<?, ?B/s]"
            ]
          },
          "metadata": {},
          "output_type": "display_data"
        },
        {
          "data": {
            "application/vnd.jupyter.widget-view+json": {
              "model_id": "5cb06502f50549f6b68327ac330e1d8e",
              "version_major": 2,
              "version_minor": 0
            },
            "text/plain": [
              "tokenizer.json:   0%|          | 0.00/1.96M [00:00<?, ?B/s]"
            ]
          },
          "metadata": {},
          "output_type": "display_data"
        },
        {
          "data": {
            "application/vnd.jupyter.widget-view+json": {
              "model_id": "6fd2d33e1b454210a6e2f2764ae396c3",
              "version_major": 2,
              "version_minor": 0
            },
            "text/plain": [
              "model.safetensors:   0%|          | 0.00/714M [00:00<?, ?B/s]"
            ]
          },
          "metadata": {},
          "output_type": "display_data"
        },
        {
          "name": "stderr",
          "output_type": "stream",
          "text": [
            "/usr/local/lib/python3.11/dist-packages/transformers/modeling_utils.py:3465: UserWarning: Moving the following attributes in the config to the generation config: {'max_length': 200, 'early_stopping': True, 'num_beams': 5}. You are seeing this warning because you've set generation parameters in the model config, as opposed to in the generation config.\n",
            "  warnings.warn(\n",
            "There were missing keys in the checkpoint model loaded: ['model.encoder.embed_tokens.weight', 'model.decoder.embed_tokens.weight', 'lm_head.weight'].\n"
          ]
        },
        {
          "name": "stdout",
          "output_type": "stream",
          "text": [
            "\n",
            "[INFO] Training finished.\n",
            "Best model saved to ./mbart-romanized-bangla-to-standard-bangla/best_model\n",
            "\n",
            "[INFO] Generating training and validation curves...\n"
          ]
        },
        {
          "data": {
            "image/png": "[encoded data removed]",
            "text/plain": [
              "<Figure size 1200x800 with 1 Axes>"
            ]
          },
          "metadata": {},
          "output_type": "display_data"
        },
        {
          "data": {
            "image/png": "[encoded data removed]",
            "text/plain": [
              "<Figure size 1200x800 with 1 Axes>"
            ]
          },
          "metadata": {},
          "output_type": "display_data"
        },
        {
          "name": "stdout",
          "output_type": "stream",
          "text": [
            "\n",
            "[INFO] Performing final evaluation on the test set...\n"
          ]
        },
        {
          "data": {
            "text/html": [
              "\n",
              "    <div>\n",
              "      \n",
              "      <progress value='13' max='13' style='width:300px; height:20px; vertical-align: middle;'></progress>\n",
              "      [13/13 00:04]\n",
              "    </div>\n",
              "    "
            ],
            "text/plain": [
              "<IPython.core.display.HTML object>"
            ]
          },
          "metadata": {},
          "output_type": "display_data"
        },
        {
          "name": "stdout",
          "output_type": "stream",
          "text": [
            "\n",
            "--- Test Set Evaluation Results ---\n",
            "Loss           : 0.5180\n",
            "Bleu           : 87.4381\n",
            "Meteor         : 0.8694\n",
            "Bertscore_f1   : 0.9759\n",
            "Gen_len        : 8.6122\n",
            "Runtime        : 5.4045\n",
            "Samples_per_second: 18.1330\n",
            "Steps_per_second: 2.4050\n",
            "-----------------------------------\n",
            "\n",
            "[INFO] Running inference on test samples for qualitative analysis...\n",
            "\n",
            "--- Qualitative Analysis: Sample Translations ---\n",
            "\n",
            "Sample #1\n",
            "  - Source (Romanized Bangla): Bhulbo na\n",
            "  - Reference (Standard Bangla): ভুলবো না\n",
            "  - Model Output (Standard Bangla): ভুলবো না\n",
            "--------------------------------------------------\n",
            "Sample #2\n",
            "  - Source (Romanized Bangla): Ami school e jai ni\n",
            "  - Reference (Standard Bangla): আমি স্কুলে যাই নি\n",
            "  - Model Output (Standard Bangla): আমি স্কুলে যাই না\n",
            "--------------------------------------------------\n",
            "Sample #3\n",
            "  - Source (Romanized Bangla): Ami take bollam\n",
            "  - Reference (Standard Bangla): আমি তাকে বললাম\n",
            "  - Model Output (Standard Bangla): আমি তাকে বললাম\n",
            "--------------------------------------------------\n",
            "Sample #4\n",
            "  - Source (Romanized Bangla): Kotha na bole khawate monojog dey\n",
            "  - Reference (Standard Bangla): কথা না বলে খাওয়াতে মনযোগ দেয়\n",
            "  - Model Output (Standard Bangla): কথা না বলে খাওয়াতে পারেন\n",
            "--------------------------------------------------\n",
            "Sample #5\n",
            "  - Source (Romanized Bangla): Tumi ekhane thakle ami khushi\n",
            "  - Reference (Standard Bangla): তুমি এখানে থাকলে আমি খুশি\n",
            "  - Model Output (Standard Bangla): তুমি এখানে থাকলে আমি খুশি\n",
            "--------------------------------------------------\n",
            "Sample #6\n",
            "  - Source (Romanized Bangla): Amar pa betha korche\n",
            "  - Reference (Standard Bangla): আমার পা ব্যথা করছে\n",
            "  - Model Output (Standard Bangla): আমার পা ব্যথা করছে\n",
            "--------------------------------------------------\n",
            "Sample #7\n",
            "  - Source (Romanized Bangla): Bari kothay\n",
            "  - Reference (Standard Bangla): বাড়ি কোথায়\n",
            "  - Model Output (Standard Bangla): বাড়ি কোথায়\n",
            "--------------------------------------------------\n",
            "Sample #8\n",
            "  - Source (Romanized Bangla): Amar mon bhalo nei\n",
            "  - Reference (Standard Bangla): আমার মন ভালো নেই\n",
            "  - Model Output (Standard Bangla): আমার মন ভালো নেই\n",
            "--------------------------------------------------\n",
            "Sample #9\n",
            "  - Source (Romanized Bangla): Odike jabo\n",
            "  - Reference (Standard Bangla): ওদিকে যাব\n",
            "  - Model Output (Standard Bangla): ওদিকে যাব\n",
            "--------------------------------------------------\n",
            "Sample #10\n",
            "  - Source (Romanized Bangla): Ki dorkar chilo?\n",
            "  - Reference (Standard Bangla): কি দরকার ছিল?\n",
            "  - Model Output (Standard Bangla): কি দরকার ছিল?\n",
            "--------------------------------------------------\n",
            "\n",
            "Notebook execution complete.\n"
          ]
        }
      ],
      "source": [
        "import pandas as pd\n",
        "import numpy as np\n",
        "import torch\n",
        "import nltk\n",
        "import re\n",
        "import gc\n",
        "from tqdm.auto import tqdm\n",
        "import matplotlib.pyplot as plt\n",
        "import seaborn as sns\n",
        "\n",
        "from datasets import Dataset, DatasetDict\n",
        "from sklearn.model_selection import train_test_split\n",
        "\n",
        "from transformers import (\n",
        "    MBartForConditionalGeneration,\n",
        "    MBart50TokenizerFast,\n",
        "    Seq2SeqTrainingArguments,\n",
        "    Seq2SeqTrainer,\n",
        "    DataCollatorForSeq2Seq\n",
        ")\n",
        "import evaluate\n",
        "\n",
        "nltk.download('wordnet', quiet=True)\n",
        "nltk.download('punkt', quiet=True)\n",
        "nltk.download('omw-1.4', quiet=True)\n",
        "\n",
        "import os\n",
        "import shutil\n",
        "\n",
        "working_dir = \"/kaggle/working\"\n",
        "\n",
        "if os.path.exists(working_dir):\n",
        "    for filename in os.listdir(working_dir):\n",
        "        file_path = os.path.join(working_dir, filename)\n",
        "        try:\n",
        "            if os.path.isfile(file_path) or os.path.islink(file_path):\n",
        "                os.unlink(file_path)\n",
        "            elif os.path.isdir(file_path):\n",
        "                shutil.rmtree(file_path)\n",
        "        except Exception as e:\n",
        "            print(f\"Failed to delete {file_path}. Reason: {e}\")\n",
        "print(\"Kaggle working directory cleaned!\")\n",
        "\n",
        "\n",
        "class Config:\n",
        "    DATASET_PATH = \"/kaggle/input/aacl-dialect-dataset/AACL dialect  - Sentence.csv\"\n",
        "    SOURCE_LANG = \"Romanized Bangla\"\n",
        "    TARGET_LANG = \"Standard Bangla Lanuguage\"\n",
        "    MODEL_CHECKPOINT = \"facebook/mbart-large-50-many-to-many-mmt\"\n",
        "    SOURCE_LANG_CODE = \"bn_IN\"\n",
        "    TARGET_LANG_CODE = \"bn_IN\"\n",
        "    OUTPUT_DIR = \"./mbart-romanized-bangla-to-standard-bangla\"\n",
        "    MAX_INPUT_LENGTH = 128\n",
        "    MAX_TARGET_LENGTH = 128\n",
        "    BATCH_SIZE = 8\n",
        "    GRADIENT_ACCUMULATION_STEPS = 2\n",
        "    EVAL_STRATEGY = \"epoch\"\n",
        "    NUM_EPOCHS = 25\n",
        "    LEARNING_RATE = 5e-5\n",
        "    WEIGHT_DECAY = 0.01\n",
        "    WARMUP_STEPS = 50\n",
        "    TRAIN_RATIO = 0.8\n",
        "    VALIDATION_RATIO = 0.1\n",
        "    TEST_RATIO = 0.1\n",
        "    SEED = 42\n",
        "\n",
        "config = Config()\n",
        "device = \"cuda\" if torch.cuda.is_available() else \"cpu\"\n",
        "print(f\"Using device: {device}\")\n",
        "\n",
        "\n",
        "print(\"\\n[INFO] Loading and preprocessing data...\")\n",
        "df = pd.read_csv(config.DATASET_PATH)\n",
        "df = df[[config.SOURCE_LANG, config.TARGET_LANG]].rename(columns={\n",
        "    config.SOURCE_LANG: 'bn_rom',\n",
        "    config.TARGET_LANG: 'bn_std'\n",
        "})\n",
        "df.dropna(inplace=True)\n",
        "\n",
        "def clean_text(text):\n",
        "    return text.strip() if isinstance(text, str) else \"\"\n",
        "\n",
        "df['bn_rom'] = df['bn_rom'].apply(clean_text)\n",
        "df['bn_std'] = df['bn_std'].apply(clean_text)\n",
        "df = df[(df['bn_rom'] != '') & (df['bn_std'] != '')]\n",
        "print(f\"Dataset loaded with {len(df)} samples after cleaning.\")\n",
        "\n",
        "\n",
        "print(\"\\n[INFO] Splitting the dataset...\")\n",
        "train_df, temp_df = train_test_split(\n",
        "    df,\n",
        "    test_size=(1 - config.TRAIN_RATIO),\n",
        "    random_state=config.SEED\n",
        ")\n",
        "val_df, test_df = train_test_split(\n",
        "    temp_df,\n",
        "    test_size=(config.TEST_RATIO / (config.VALIDATION_RATIO + config.TEST_RATIO)),\n",
        "    random_state=config.SEED\n",
        ")\n",
        "\n",
        "raw_datasets = DatasetDict({\n",
        "    'train': Dataset.from_pandas(train_df.reset_index(drop=True)),\n",
        "    'validation': Dataset.from_pandas(val_df.reset_index(drop=True)),\n",
        "    'test': Dataset.from_pandas(test_df.reset_index(drop=True))\n",
        "})\n",
        "print(f\"Train: {len(train_df)}, Validation: {len(val_df)}, Test: {len(test_df)}\")\n",
        "\n",
        "\n",
        "print(\"\\n[INFO] Initializing model and tokenizer...\")\n",
        "tokenizer = MBart50TokenizerFast.from_pretrained(\n",
        "    config.MODEL_CHECKPOINT,\n",
        "    src_lang=config.SOURCE_LANG_CODE,\n",
        "    tgt_lang=config.TARGET_LANG_CODE\n",
        ")\n",
        "model = MBartForConditionalGeneration.from_pretrained(config.MODEL_CHECKPOINT)\n",
        "\n",
        "\n",
        "print(\"\\n[INFO] Tokenizing datasets...\")\n",
        "def preprocess_function(examples):\n",
        "    model_inputs = tokenizer(\n",
        "        examples[\"bn_rom\"],\n",
        "        max_length=config.MAX_INPUT_LENGTH,\n",
        "        truncation=True\n",
        "    )\n",
        "    with tokenizer.as_target_tokenizer():\n",
        "        labels = tokenizer(\n",
        "            examples[\"bn_std\"],\n",
        "            max_length=config.MAX_TARGET_LENGTH,\n",
        "            truncation=True\n",
        "        )\n",
        "    model_inputs[\"labels\"] = labels[\"input_ids\"]\n",
        "    return model_inputs\n",
        "\n",
        "tokenized_datasets = raw_datasets.map(\n",
        "    preprocess_function,\n",
        "    batched=True,\n",
        "    remove_columns=raw_datasets[\"train\"].column_names\n",
        ")\n",
        "\n",
        "\n",
        "print(\"\\n[INFO] Setting up evaluation metrics (BLEU, METEOR, BERTScore)...\")\n",
        "bleu_metric = evaluate.load(\"sacrebleu\")\n",
        "meteor_metric = evaluate.load(\"meteor\")\n",
        "bertscore_metric = evaluate.load(\"bertscore\")\n",
        "\n",
        "def compute_metrics(eval_preds):\n",
        "    preds, labels = eval_preds\n",
        "    if isinstance(preds, tuple):\n",
        "        preds = preds[0]\n",
        "    labels = np.where(labels != -100, labels, tokenizer.pad_token_id)\n",
        "    decoded_preds = tokenizer.batch_decode(preds, skip_special_tokens=True)\n",
        "    decoded_labels = tokenizer.batch_decode(labels, skip_special_tokens=True)\n",
        "    post_processed_labels = [[label.strip()] for label in decoded_labels]\n",
        "    post_processed_preds = [pred.strip() for pred in decoded_preds]\n",
        "    bleu = bleu_metric.compute(predictions=post_processed_preds, references=post_processed_labels)\n",
        "    meteor = meteor_metric.compute(predictions=post_processed_preds, references=post_processed_labels)\n",
        "    bertscore = bertscore_metric.compute(predictions=post_processed_preds, references=post_processed_labels, lang=\"bn\")\n",
        "    result = {\n",
        "        \"bleu\": bleu[\"score\"],\n",
        "        \"meteor\": meteor[\"meteor\"],\n",
        "        \"bertscore_f1\": np.mean(bertscore[\"f1\"]),\n",
        "    }\n",
        "    prediction_lens = [np.count_nonzero(pred != tokenizer.pad_token_id) for pred in preds]\n",
        "    result[\"gen_len\"] = np.mean(prediction_lens)\n",
        "    return {k: round(v, 4) for k, v in result.items()}\n",
        "\n",
        "\n",
        "print(\"\\n[INFO] Configuring training arguments...\")\n",
        "training_args = Seq2SeqTrainingArguments(\n",
        "    output_dir=config.OUTPUT_DIR,\n",
        "    eval_strategy=config.EVAL_STRATEGY,\n",
        "    logging_strategy=config.EVAL_STRATEGY,\n",
        "    save_strategy=config.EVAL_STRATEGY,\n",
        "    per_device_train_batch_size=config.BATCH_SIZE,\n",
        "    per_device_eval_batch_size=config.BATCH_SIZE,\n",
        "    learning_rate=config.LEARNING_RATE,\n",
        "    weight_decay=config.WEIGHT_DECAY,\n",
        "    num_train_epochs=config.NUM_EPOCHS,\n",
        "    warmup_steps=config.WARMUP_STEPS,\n",
        "    fp16=True,\n",
        "    gradient_accumulation_steps=config.GRADIENT_ACCUMULATION_STEPS,\n",
        "    gradient_checkpointing=True,\n",
        "    save_total_limit=1,\n",
        "    save_only_model=True,\n",
        "    predict_with_generate=True,\n",
        "    load_best_model_at_end=True,\n",
        "    metric_for_best_model=\"bleu\",\n",
        "    greater_is_better=True,\n",
        "    report_to=\"none\"\n",
        ")\n",
        "\n",
        "data_collator = DataCollatorForSeq2Seq(tokenizer, model=model)\n",
        "\n",
        "trainer = Seq2SeqTrainer(\n",
        "    model=model,\n",
        "    args=training_args,\n",
        "    train_dataset=tokenized_datasets[\"train\"],\n",
        "    eval_dataset=tokenized_datasets[\"validation\"],\n",
        "    tokenizer=tokenizer,\n",
        "    data_collator=data_collator,\n",
        "    compute_metrics=compute_metrics\n",
        ")\n",
        "\n",
        "\n",
        "gc.collect()\n",
        "torch.cuda.empty_cache()\n",
        "\n",
        "print(\"\\n[INFO] Starting model training...\")\n",
        "train_result = trainer.train()\n",
        "print(\"\\n[INFO] Training finished.\")\n",
        "\n",
        "trainer.save_model(f\"{config.OUTPUT_DIR}/best_model\")\n",
        "tokenizer.save_pretrained(f\"{config.OUTPUT_DIR}/best_model\")\n",
        "print(f\"Best model saved to {config.OUTPUT_DIR}/best_model\")\n",
        "\n",
        "\n",
        "print(\"\\n[INFO] Generating training and validation curves...\")\n",
        "log_history = trainer.state.log_history\n",
        "eval_logs = [log for log in log_history if 'eval_loss' in log]\n",
        "train_logs = [log for log in log_history if 'loss' in log and 'epoch' in log]\n",
        "eval_df = pd.DataFrame(eval_logs)\n",
        "train_df_logs = pd.DataFrame(train_logs)\n",
        "eval_df['epoch'] = eval_df['epoch'].round()\n",
        "train_df_logs['epoch'] = train_df_logs['epoch'].round()\n",
        "log_df = pd.merge(train_df_logs, eval_df, on='epoch', how='inner').drop_duplicates(subset=['epoch'], keep='last')\n",
        "\n",
        "plt.style.use('seaborn-v0_8-whitegrid')\n",
        "plt.figure(figsize=(12, 8))\n",
        "plt.plot(log_df['epoch'], log_df['loss'], label='Training Loss', marker='o', linestyle='--')\n",
        "plt.plot(log_df['epoch'], log_df['eval_loss'], label='Validation Loss', marker='o')\n",
        "plt.title('Training & Validation Loss per Epoch', fontsize=16, weight='bold')\n",
        "plt.xlabel('Epoch', fontsize=14)\n",
        "plt.ylabel('Loss', fontsize=14)\n",
        "plt.legend()\n",
        "plt.xticks(log_df['epoch'].unique().astype(int))\n",
        "plt.grid(True)\n",
        "plt.show()\n",
        "\n",
        "fig, ax = plt.subplots(figsize=(12, 8))\n",
        "ax.plot(log_df['epoch'], log_df['eval_bleu'], label='Validation BLEU', marker='o')\n",
        "ax.plot(log_df['epoch'], log_df['eval_meteor'], label='Validation METEOR', marker='s')\n",
        "ax.plot(log_df['epoch'], log_df['eval_bertscore_f1'], label='Validation BERTScore-F1', marker='^')\n",
        "ax.set_xlabel('Epoch', fontsize=14)\n",
        "ax.set_ylabel('Score', fontsize=14)\n",
        "ax.set_title('Validation Metrics per Epoch', fontsize=16, weight='bold')\n",
        "ax.legend()\n",
        "ax.set_xticks(log_df['epoch'].unique().astype(int))\n",
        "ax.grid(True)\n",
        "plt.show()\n",
        "\n",
        "\n",
        "print(\"\\n[INFO] Performing final evaluation on the test set...\")\n",
        "test_results = trainer.evaluate(eval_dataset=tokenized_datasets[\"test\"])\n",
        "print(\"\\n--- Test Set Evaluation Results ---\")\n",
        "for key, value in test_results.items():\n",
        "    if key.startswith(\"eval_\"):\n",
        "        print(f\"{key.replace('eval_', '').capitalize():<15}: {value:.4f}\")\n",
        "print(\"-----------------------------------\")\n",
        "\n",
        "\n",
        "print(\"\\n[INFO] Running inference on test samples for qualitative analysis...\")\n",
        "model_path = f\"{config.OUTPUT_DIR}/best_model\"\n",
        "tokenizer = MBart50TokenizerFast.from_pretrained(model_path)\n",
        "model = MBartForConditionalGeneration.from_pretrained(model_path).to(device)\n",
        "\n",
        "def translate(text):\n",
        "    tokenizer.src_lang = config.SOURCE_LANG_CODE\n",
        "    inputs = tokenizer(text, return_tensors=\"pt\", truncation=True, max_length=config.MAX_INPUT_LENGTH).to(device)\n",
        "    generated_tokens = model.generate(\n",
        "        **inputs,\n",
        "        forced_bos_token_id=tokenizer.lang_code_to_id[config.TARGET_LANG_CODE],\n",
        "        max_length=config.MAX_TARGET_LENGTH,\n",
        "        num_beams=5,\n",
        "        early_stopping=True\n",
        "    )\n",
        "    return tokenizer.batch_decode(generated_tokens, skip_special_tokens=True)[0]\n",
        "\n",
        "print(\"\\n--- Qualitative Analysis: Sample Translations ---\\n\")\n",
        "for i in range(min(10, len(test_df))):\n",
        "    sample = raw_datasets['test'][i]\n",
        "    source, reference = sample['bn_rom'], sample['bn_std']\n",
        "    model_output = translate(source)\n",
        "    print(f\"Sample #{i+1}\")\n",
        "    print(f\"  - Source (Romanized Bangla): {source}\")\n",
        "    print(f\"  - Reference (Standard Bangla): {reference}\")\n",
        "    print(f\"  - Model Output (Standard Bangla): {model_output}\")\n",
        "    print(\"-\" * 50)\n",
        "\n",
        "print(\"\\nNotebook execution complete.\")"
      ]
    }
  ],
  "metadata": {
    "kaggle": {
      "accelerator": "gpu",
      "dataSources": [
        {
          "datasetId": 8356981,
          "sourceId": 13187373,
          "sourceType": "datasetVersion"
        }
      ],
      "isGpuEnabled": true,
      "isInternetEnabled": true,
      "language": "python",
      "sourceType": "notebook"
    },
    "kernelspec": {
      "display_name": "Python 3",
      "language": "python",
      "name": "python3"
    },
    "language_info": {
      "codemirror_mode": {
        "name": "ipython",
        "version": 3
      },
      "file_extension": ".py",
      "mimetype": "text/x-python",
      "name": "python",
      "nbconvert_exporter": "python",
      "pygments_lexer": "ipython3",
      "version": "3.11.13"
    },
    "papermill": {
      "default_parameters": {},
      "duration": 1047.697092,
      "end_time": "2025-09-27T14:00:20.423568",
      "environment_variables": {},
      "exception": null,
      "input_path": "__notebook__.ipynb",
      "output_path": "__notebook__.ipynb",
      "parameters": {},
      "start_time": "2025-09-27T13:42:52.726476",
      "version": "2.6.0"
    },
    "widgets": {
      "application/vnd.jupyter.widget-state+json": {}
    },
    "colab": {
      "provenance": []
    }
  },
  "nbformat": 4,
  "nbformat_minor": 5
}