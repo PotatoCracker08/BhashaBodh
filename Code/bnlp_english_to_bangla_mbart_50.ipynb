{
  "cells": [
    {
      "cell_type": "code",
      "execution_count": null,
      "id": "d197f0ba",
      "metadata": {
        "execution": {
          "iopub.execute_input": "2025-09-27T12:10:18.006039Z",
          "iopub.status.busy": "2025-09-27T12:10:18.005739Z",
          "iopub.status.idle": "2025-09-27T12:11:31.373659Z",
          "shell.execute_reply": "2025-09-27T12:11:31.372914Z"
        },
        "papermill": {
          "duration": 73.3722,
          "end_time": "2025-09-27T12:11:31.375154",
          "exception": false,
          "start_time": "2025-09-27T12:10:18.002954",
          "status": "completed"
        },
        "tags": [],
        "id": "d197f0ba",
        "outputId": "9021bad9-05ce-4092-f663-c6f8f347e540"
      },
      "outputs": [
        {
          "name": "stdout",
          "output_type": "stream",
          "text": [
            "\u001b[2K     \u001b[90m━━━━━━━━━━━━━━━━━━━━━━━━━━━━━━━━━━━━━━━\u001b[0m \u001b[32m51.8/51.8 kB\u001b[0m \u001b[31m948.1 kB/s\u001b[0m eta \u001b[36m0:00:00\u001b[0m\r\n",
            "\u001b[2K   \u001b[90m━━━━━━━━━━━━━━━━━━━━━━━━━━━━━━━━━━━━━━━━\u001b[0m \u001b[32m84.1/84.1 kB\u001b[0m \u001b[31m2.3 MB/s\u001b[0m eta \u001b[36m0:00:00\u001b[0m\r\n",
            "\u001b[2K   \u001b[90m━━━━━━━━━━━━━━━━━━━━━━━━━━━━━━━━━━━━━━━━\u001b[0m \u001b[32m104.1/104.1 kB\u001b[0m \u001b[31m5.5 MB/s\u001b[0m eta \u001b[36m0:00:00\u001b[0m\r\n",
            "\u001b[2K   \u001b[90m━━━━━━━━━━━━━━━━━━━━━━━━━━━━━━━━━━━━━━━━\u001b[0m \u001b[32m61.1/61.1 kB\u001b[0m \u001b[31m3.8 MB/s\u001b[0m eta \u001b[36m0:00:00\u001b[0m\r\n",
            "\u001b[2K   \u001b[90m━━━━━━━━━━━━━━━━━━━━━━━━━━━━━━━━━━━━━━━━\u001b[0m \u001b[32m193.6/193.6 kB\u001b[0m \u001b[31m7.7 MB/s\u001b[0m eta \u001b[36m0:00:00\u001b[0m\r\n",
            "\u001b[2K   \u001b[90m━━━━━━━━━━━━━━━━━━━━━━━━━━━━━━━━━━━━━━━━\u001b[0m \u001b[32m363.4/363.4 MB\u001b[0m \u001b[31m5.4 MB/s\u001b[0m eta \u001b[36m0:00:00\u001b[0m\r\n",
            "\u001b[2K   \u001b[90m━━━━━━━━━━━━━━━━━━━━━━━━━━━━━━━━━━━━━━━━\u001b[0m \u001b[32m13.8/13.8 MB\u001b[0m \u001b[31m75.6 MB/s\u001b[0m eta \u001b[36m0:00:00\u001b[0m\r\n",
            "\u001b[2K   \u001b[90m━━━━━━━━━━━━━━━━━━━━━━━━━━━━━━━━━━━━━━━━\u001b[0m \u001b[32m24.6/24.6 MB\u001b[0m \u001b[31m70.5 MB/s\u001b[0m eta \u001b[36m0:00:00\u001b[0m\r\n",
            "\u001b[2K   \u001b[90m━━━━━━━━━━━━━━━━━━━━━━━━━━━━━━━━━━━━━━━━\u001b[0m \u001b[32m883.7/883.7 kB\u001b[0m \u001b[31m41.9 MB/s\u001b[0m eta \u001b[36m0:00:00\u001b[0m\r\n",
            "\u001b[2K   \u001b[90m━━━━━━━━━━━━━━━━━━━━━━━━━━━━━━━━━━━━━━━━\u001b[0m \u001b[32m664.8/664.8 MB\u001b[0m \u001b[31m2.6 MB/s\u001b[0m eta \u001b[36m0:00:00\u001b[0m\r\n",
            "\u001b[2K   \u001b[90m━━━━━━━━━━━━━━━━━━━━━━━━━━━━━━━━━━━━━━━━\u001b[0m \u001b[32m211.5/211.5 MB\u001b[0m \u001b[31m7.9 MB/s\u001b[0m eta \u001b[36m0:00:00\u001b[0m\r\n",
            "\u001b[2K   \u001b[90m━━━━━━━━━━━━━━━━━━━━━━━━━━━━━━━━━━━━━━━━\u001b[0m \u001b[32m56.3/56.3 MB\u001b[0m \u001b[31m25.5 MB/s\u001b[0m eta \u001b[36m0:00:00\u001b[0m\r\n",
            "\u001b[2K   \u001b[90m━━━━━━━━━━━━━━━━━━━━━━━━━━━━━━━━━━━━━━━━\u001b[0m \u001b[32m127.9/127.9 MB\u001b[0m \u001b[31m9.4 MB/s\u001b[0m eta \u001b[36m0:00:00\u001b[0m\r\n",
            "\u001b[2K   \u001b[90m━━━━━━━━━━━━━━━━━━━━━━━━━━━━━━━━━━━━━━━━\u001b[0m \u001b[32m207.5/207.5 MB\u001b[0m \u001b[31m8.1 MB/s\u001b[0m eta \u001b[36m0:00:00\u001b[0m\r\n",
            "\u001b[2K   \u001b[90m━━━━━━━━━━━━━━━━━━━━━━━━━━━━━━━━━━━━━━━━\u001b[0m \u001b[32m21.1/21.1 MB\u001b[0m \u001b[31m69.8 MB/s\u001b[0m eta \u001b[36m0:00:00\u001b[0m\r\n",
            "\u001b[?25h\u001b[31mERROR: pip's dependency resolver does not currently take into account all the packages that are installed. This behaviour is the source of the following dependency conflicts.\r\n",
            "bigframes 2.8.0 requires google-cloud-bigquery-storage<3.0.0,>=2.30.0, which is not installed.\r\n",
            "cesium 0.12.4 requires numpy<3.0,>=2.0, but you have numpy 1.26.4 which is incompatible.\r\n",
            "gcsfs 2025.3.2 requires fsspec==2025.3.2, but you have fsspec 2025.3.0 which is incompatible.\r\n",
            "bigframes 2.8.0 requires google-cloud-bigquery[bqstorage,pandas]>=3.31.0, but you have google-cloud-bigquery 3.25.0 which is incompatible.\r\n",
            "bigframes 2.8.0 requires rich<14,>=12.4.4, but you have rich 14.0.0 which is incompatible.\u001b[0m\u001b[31m\r\n",
            "\u001b[0m"
          ]
        }
      ],
      "source": [
        "!pip install -q transformers[sentencepiece] datasets accelerate evaluate sacrebleu bert_score nltk"
      ]
    },
    {
      "cell_type": "code",
      "execution_count": null,
      "id": "7b11ac81",
      "metadata": {
        "_cell_guid": "b1076dfc-b9ad-4769-8c92-a6c4dae69d19",
        "_uuid": "8f2839f25d086af736a60e9eeb907d3b93b6e0e5",
        "execution": {
          "iopub.execute_input": "2025-09-27T12:11:31.414765Z",
          "iopub.status.busy": "2025-09-27T12:11:31.414532Z",
          "iopub.status.idle": "2025-09-27T12:26:22.943665Z",
          "shell.execute_reply": "2025-09-27T12:26:22.942833Z"
        },
        "papermill": {
          "duration": 891.549887,
          "end_time": "2025-09-27T12:26:22.944884",
          "exception": false,
          "start_time": "2025-09-27T12:11:31.394997",
          "status": "completed"
        },
        "tags": [],
        "colab": {
          "referenced_widgets": [
            "a5709cad50a24e83a466d8ac68db67b0",
            "661d763f5ede4d3691c2c79ed23e8f51",
            "97cf8df265724df19d760d649606ee09",
            "93b227e8ac254158a693db70549cead3",
            "3197b7fcf2f84611ada4b2991f3cedf5",
            "4a76610c3c354e45a53ac74dba4c55c3",
            "50aeec37c1e84292909ffe3c71dab2af",
            "2a65e1fdc6a74109893c5d605e76526d",
            "e49fc3a2709c448eb944260709a211c9",
            "fe1ee4ee465e4367aaee5b66f232605d",
            "02b64a1fdc694e73be6070b5aac73978",
            "1b41978bd9354581b342aec63ab61d72",
            "0ea7db980dbc4ed583ecd11a0a92b747",
            "0504260659694ee68dc0af337261022a",
            "fa2bc741e7444e448b524820bcc038d6",
            "6a6933c1f33648aba8e5d8eaedf73f1f",
            "dc806180531642a1aba66ea8b0b57447"
          ]
        },
        "id": "7b11ac81",
        "outputId": "f21cec06-9f22-429c-a19b-f45324d70b02"
      },
      "outputs": [
        {
          "name": "stderr",
          "output_type": "stream",
          "text": [
            "2025-09-27 12:11:49.536287: E external/local_xla/xla/stream_executor/cuda/cuda_fft.cc:477] Unable to register cuFFT factory: Attempting to register factory for plugin cuFFT when one has already been registered\n",
            "WARNING: All log messages before absl::InitializeLog() is called are written to STDERR\n",
            "E0000 00:00:1758975109.727560      19 cuda_dnn.cc:8310] Unable to register cuDNN factory: Attempting to register factory for plugin cuDNN when one has already been registered\n",
            "E0000 00:00:1758975109.788886      19 cuda_blas.cc:1418] Unable to register cuBLAS factory: Attempting to register factory for plugin cuBLAS when one has already been registered\n"
          ]
        },
        {
          "name": "stdout",
          "output_type": "stream",
          "text": [
            "Kaggle working directory cleaned!\n",
            "Using device: cuda\n",
            "\n",
            "[INFO] Loading and preprocessing data...\n",
            "Dataset loaded with 980 samples after cleaning.\n",
            "\n",
            "[INFO] Splitting the dataset...\n",
            "Train: 685, Validation: 98, Test: 197\n",
            "\n",
            "[INFO] Initializing model and tokenizer...\n"
          ]
        },
        {
          "data": {
            "application/vnd.jupyter.widget-view+json": {
              "model_id": "a5709cad50a24e83a466d8ac68db67b0",
              "version_major": 2,
              "version_minor": 0
            },
            "text/plain": [
              "tokenizer_config.json:   0%|          | 0.00/529 [00:00<?, ?B/s]"
            ]
          },
          "metadata": {},
          "output_type": "display_data"
        },
        {
          "data": {
            "application/vnd.jupyter.widget-view+json": {
              "model_id": "661d763f5ede4d3691c2c79ed23e8f51",
              "version_major": 2,
              "version_minor": 0
            },
            "text/plain": [
              "sentencepiece.bpe.model:   0%|          | 0.00/5.07M [00:00<?, ?B/s]"
            ]
          },
          "metadata": {},
          "output_type": "display_data"
        },
        {
          "data": {
            "application/vnd.jupyter.widget-view+json": {
              "model_id": "97cf8df265724df19d760d649606ee09",
              "version_major": 2,
              "version_minor": 0
            },
            "text/plain": [
              "special_tokens_map.json:   0%|          | 0.00/649 [00:00<?, ?B/s]"
            ]
          },
          "metadata": {},
          "output_type": "display_data"
        },
        {
          "data": {
            "application/vnd.jupyter.widget-view+json": {
              "model_id": "93b227e8ac254158a693db70549cead3",
              "version_major": 2,
              "version_minor": 0
            },
            "text/plain": [
              "config.json: 0.00B [00:00, ?B/s]"
            ]
          },
          "metadata": {},
          "output_type": "display_data"
        },
        {
          "data": {
            "application/vnd.jupyter.widget-view+json": {
              "model_id": "3197b7fcf2f84611ada4b2991f3cedf5",
              "version_major": 2,
              "version_minor": 0
            },
            "text/plain": [
              "model.safetensors:   0%|          | 0.00/2.44G [00:00<?, ?B/s]"
            ]
          },
          "metadata": {},
          "output_type": "display_data"
        },
        {
          "data": {
            "application/vnd.jupyter.widget-view+json": {
              "model_id": "4a76610c3c354e45a53ac74dba4c55c3",
              "version_major": 2,
              "version_minor": 0
            },
            "text/plain": [
              "generation_config.json:   0%|          | 0.00/261 [00:00<?, ?B/s]"
            ]
          },
          "metadata": {},
          "output_type": "display_data"
        },
        {
          "name": "stdout",
          "output_type": "stream",
          "text": [
            "\n",
            "[INFO] Tokenizing datasets...\n"
          ]
        },
        {
          "data": {
            "application/vnd.jupyter.widget-view+json": {
              "model_id": "50aeec37c1e84292909ffe3c71dab2af",
              "version_major": 2,
              "version_minor": 0
            },
            "text/plain": [
              "Map:   0%|          | 0/685 [00:00<?, ? examples/s]"
            ]
          },
          "metadata": {},
          "output_type": "display_data"
        },
        {
          "name": "stderr",
          "output_type": "stream",
          "text": [
            "/usr/local/lib/python3.11/dist-packages/transformers/tokenization_utils_base.py:3959: UserWarning: `as_target_tokenizer` is deprecated and will be removed in v5 of Transformers. You can tokenize your labels by using the argument `text_target` of the regular `__call__` method (either in the same call as your input texts if you use the same keyword arguments, or in a separate call.\n",
            "  warnings.warn(\n"
          ]
        },
        {
          "data": {
            "application/vnd.jupyter.widget-view+json": {
              "model_id": "2a65e1fdc6a74109893c5d605e76526d",
              "version_major": 2,
              "version_minor": 0
            },
            "text/plain": [
              "Map:   0%|          | 0/98 [00:00<?, ? examples/s]"
            ]
          },
          "metadata": {},
          "output_type": "display_data"
        },
        {
          "data": {
            "application/vnd.jupyter.widget-view+json": {
              "model_id": "e49fc3a2709c448eb944260709a211c9",
              "version_major": 2,
              "version_minor": 0
            },
            "text/plain": [
              "Map:   0%|          | 0/197 [00:00<?, ? examples/s]"
            ]
          },
          "metadata": {},
          "output_type": "display_data"
        },
        {
          "name": "stdout",
          "output_type": "stream",
          "text": [
            "\n",
            "[INFO] Setting up evaluation metrics (BLEU, METEOR, BERTScore)...\n"
          ]
        },
        {
          "data": {
            "application/vnd.jupyter.widget-view+json": {
              "model_id": "fe1ee4ee465e4367aaee5b66f232605d",
              "version_major": 2,
              "version_minor": 0
            },
            "text/plain": [
              "Downloading builder script: 0.00B [00:00, ?B/s]"
            ]
          },
          "metadata": {},
          "output_type": "display_data"
        },
        {
          "data": {
            "application/vnd.jupyter.widget-view+json": {
              "model_id": "02b64a1fdc694e73be6070b5aac73978",
              "version_major": 2,
              "version_minor": 0
            },
            "text/plain": [
              "Downloading builder script: 0.00B [00:00, ?B/s]"
            ]
          },
          "metadata": {},
          "output_type": "display_data"
        },
        {
          "name": "stderr",
          "output_type": "stream",
          "text": [
            "[nltk_data] Downloading package wordnet to /usr/share/nltk_data...\n",
            "[nltk_data]   Package wordnet is already up-to-date!\n",
            "[nltk_data] Downloading package punkt_tab to /usr/share/nltk_data...\n",
            "[nltk_data]   Package punkt_tab is already up-to-date!\n",
            "[nltk_data] Downloading package omw-1.4 to /usr/share/nltk_data...\n",
            "[nltk_data]   Package omw-1.4 is already up-to-date!\n"
          ]
        },
        {
          "data": {
            "application/vnd.jupyter.widget-view+json": {
              "model_id": "1b41978bd9354581b342aec63ab61d72",
              "version_major": 2,
              "version_minor": 0
            },
            "text/plain": [
              "Downloading builder script: 0.00B [00:00, ?B/s]"
            ]
          },
          "metadata": {},
          "output_type": "display_data"
        },
        {
          "name": "stdout",
          "output_type": "stream",
          "text": [
            "\n",
            "[INFO] Configuring training arguments...\n"
          ]
        },
        {
          "name": "stderr",
          "output_type": "stream",
          "text": [
            "/tmp/ipykernel_19/1457694342.py:199: FutureWarning: `tokenizer` is deprecated and will be removed in version 5.0.0 for `Seq2SeqTrainer.__init__`. Use `processing_class` instead.\n",
            "  trainer = Seq2SeqTrainer(\n"
          ]
        },
        {
          "name": "stdout",
          "output_type": "stream",
          "text": [
            "\n",
            "[INFO] Starting model training...\n"
          ]
        },
        {
          "data": {
            "text/html": [
              "\n",
              "    <div>\n",
              "      \n",
              "      <progress value='1075' max='1075' style='width:300px; height:20px; vertical-align: middle;'></progress>\n",
              "      [1075/1075 13:31, Epoch 25/25]\n",
              "    </div>\n",
              "    <table border=\"1\" class=\"dataframe\">\n",
              "  <thead>\n",
              " <tr style=\"text-align: left;\">\n",
              "      <th>Epoch</th>\n",
              "      <th>Training Loss</th>\n",
              "      <th>Validation Loss</th>\n",
              "      <th>Bleu</th>\n",
              "      <th>Meteor</th>\n",
              "      <th>Bertscore F1</th>\n",
              "      <th>Gen Len</th>\n",
              "    </tr>\n",
              "  </thead>\n",
              "  <tbody>\n",
              "    <tr>\n",
              "      <td>1</td>\n",
              "      <td>3.199400</td>\n",
              "      <td>2.280141</td>\n",
              "      <td>23.828900</td>\n",
              "      <td>0.404100</td>\n",
              "      <td>0.869000</td>\n",
              "      <td>8.938800</td>\n",
              "    </tr>\n",
              "    <tr>\n",
              "      <td>2</td>\n",
              "      <td>1.235900</td>\n",
              "      <td>1.694972</td>\n",
              "      <td>35.168400</td>\n",
              "      <td>0.517700</td>\n",
              "      <td>0.880200</td>\n",
              "      <td>8.581600</td>\n",
              "    </tr>\n",
              "    <tr>\n",
              "      <td>3</td>\n",
              "      <td>0.618800</td>\n",
              "      <td>1.576551</td>\n",
              "      <td>43.870300</td>\n",
              "      <td>0.568100</td>\n",
              "      <td>0.893900</td>\n",
              "      <td>8.673500</td>\n",
              "    </tr>\n",
              "    <tr>\n",
              "      <td>4</td>\n",
              "      <td>0.371800</td>\n",
              "      <td>1.514063</td>\n",
              "      <td>49.427800</td>\n",
              "      <td>0.607100</td>\n",
              "      <td>0.905700</td>\n",
              "      <td>8.724500</td>\n",
              "    </tr>\n",
              "    <tr>\n",
              "      <td>5</td>\n",
              "      <td>0.273400</td>\n",
              "      <td>1.533067</td>\n",
              "      <td>48.362600</td>\n",
              "      <td>0.585100</td>\n",
              "      <td>0.903100</td>\n",
              "      <td>8.479600</td>\n",
              "    </tr>\n",
              "    <tr>\n",
              "      <td>6</td>\n",
              "      <td>0.223300</td>\n",
              "      <td>1.521758</td>\n",
              "      <td>51.167600</td>\n",
              "      <td>0.607600</td>\n",
              "      <td>0.905200</td>\n",
              "      <td>8.520400</td>\n",
              "    </tr>\n",
              "    <tr>\n",
              "      <td>7</td>\n",
              "      <td>0.179100</td>\n",
              "      <td>1.545918</td>\n",
              "      <td>46.730100</td>\n",
              "      <td>0.617800</td>\n",
              "      <td>0.906200</td>\n",
              "      <td>8.489800</td>\n",
              "    </tr>\n",
              "    <tr>\n",
              "      <td>8</td>\n",
              "      <td>0.138900</td>\n",
              "      <td>1.467908</td>\n",
              "      <td>52.013000</td>\n",
              "      <td>0.625600</td>\n",
              "      <td>0.907900</td>\n",
              "      <td>8.663300</td>\n",
              "    </tr>\n",
              "    <tr>\n",
              "      <td>9</td>\n",
              "      <td>0.120900</td>\n",
              "      <td>1.452687</td>\n",
              "      <td>51.373200</td>\n",
              "      <td>0.635300</td>\n",
              "      <td>0.914200</td>\n",
              "      <td>8.653100</td>\n",
              "    </tr>\n",
              "    <tr>\n",
              "      <td>10</td>\n",
              "      <td>0.102800</td>\n",
              "      <td>1.431520</td>\n",
              "      <td>53.708500</td>\n",
              "      <td>0.613100</td>\n",
              "      <td>0.910600</td>\n",
              "      <td>8.428600</td>\n",
              "    </tr>\n",
              "    <tr>\n",
              "      <td>11</td>\n",
              "      <td>0.084900</td>\n",
              "      <td>1.472080</td>\n",
              "      <td>55.432700</td>\n",
              "      <td>0.643100</td>\n",
              "      <td>0.913600</td>\n",
              "      <td>8.744900</td>\n",
              "    </tr>\n",
              "    <tr>\n",
              "      <td>12</td>\n",
              "      <td>0.074800</td>\n",
              "      <td>1.454248</td>\n",
              "      <td>53.696200</td>\n",
              "      <td>0.653000</td>\n",
              "      <td>0.918600</td>\n",
              "      <td>8.826500</td>\n",
              "    </tr>\n",
              "    <tr>\n",
              "      <td>13</td>\n",
              "      <td>0.070700</td>\n",
              "      <td>1.470241</td>\n",
              "      <td>52.792300</td>\n",
              "      <td>0.630200</td>\n",
              "      <td>0.911900</td>\n",
              "      <td>8.591800</td>\n",
              "    </tr>\n",
              "    <tr>\n",
              "      <td>14</td>\n",
              "      <td>0.057600</td>\n",
              "      <td>1.495992</td>\n",
              "      <td>53.892500</td>\n",
              "      <td>0.624500</td>\n",
              "      <td>0.910000</td>\n",
              "      <td>8.642900</td>\n",
              "    </tr>\n",
              "    <tr>\n",
              "      <td>15</td>\n",
              "      <td>0.057700</td>\n",
              "      <td>1.513005</td>\n",
              "      <td>49.725500</td>\n",
              "      <td>0.622000</td>\n",
              "      <td>0.910700</td>\n",
              "      <td>8.673500</td>\n",
              "    </tr>\n",
              "    <tr>\n",
              "      <td>16</td>\n",
              "      <td>0.047200</td>\n",
              "      <td>1.522204</td>\n",
              "      <td>54.462000</td>\n",
              "      <td>0.656500</td>\n",
              "      <td>0.915500</td>\n",
              "      <td>8.673500</td>\n",
              "    </tr>\n",
              "    <tr>\n",
              "      <td>17</td>\n",
              "      <td>0.045800</td>\n",
              "      <td>1.489869</td>\n",
              "      <td>54.345000</td>\n",
              "      <td>0.638900</td>\n",
              "      <td>0.914700</td>\n",
              "      <td>8.510200</td>\n",
              "    </tr>\n",
              "    <tr>\n",
              "      <td>18</td>\n",
              "      <td>0.038300</td>\n",
              "      <td>1.532266</td>\n",
              "      <td>55.186900</td>\n",
              "      <td>0.635800</td>\n",
              "      <td>0.914900</td>\n",
              "      <td>8.530600</td>\n",
              "    </tr>\n",
              "    <tr>\n",
              "      <td>19</td>\n",
              "      <td>0.038400</td>\n",
              "      <td>1.512532</td>\n",
              "      <td>54.378500</td>\n",
              "      <td>0.649500</td>\n",
              "      <td>0.915900</td>\n",
              "      <td>8.510200</td>\n",
              "    </tr>\n",
              "    <tr>\n",
              "      <td>20</td>\n",
              "      <td>0.033800</td>\n",
              "      <td>1.543873</td>\n",
              "      <td>53.340500</td>\n",
              "      <td>0.649700</td>\n",
              "      <td>0.916100</td>\n",
              "      <td>8.642900</td>\n",
              "    </tr>\n",
              "    <tr>\n",
              "      <td>21</td>\n",
              "      <td>0.032300</td>\n",
              "      <td>1.543227</td>\n",
              "      <td>53.726100</td>\n",
              "      <td>0.659900</td>\n",
              "      <td>0.919000</td>\n",
              "      <td>8.663300</td>\n",
              "    </tr>\n",
              "    <tr>\n",
              "      <td>22</td>\n",
              "      <td>0.030800</td>\n",
              "      <td>1.564476</td>\n",
              "      <td>55.175800</td>\n",
              "      <td>0.659100</td>\n",
              "      <td>0.917100</td>\n",
              "      <td>8.693900</td>\n",
              "    </tr>\n",
              "    <tr>\n",
              "      <td>23</td>\n",
              "      <td>0.028600</td>\n",
              "      <td>1.570814</td>\n",
              "      <td>54.572900</td>\n",
              "      <td>0.655400</td>\n",
              "      <td>0.918200</td>\n",
              "      <td>8.612200</td>\n",
              "    </tr>\n",
              "    <tr>\n",
              "      <td>24</td>\n",
              "      <td>0.025600</td>\n",
              "      <td>1.577921</td>\n",
              "      <td>54.466100</td>\n",
              "      <td>0.661000</td>\n",
              "      <td>0.918300</td>\n",
              "      <td>8.714300</td>\n",
              "    </tr>\n",
              "    <tr>\n",
              "      <td>25</td>\n",
              "      <td>0.023400</td>\n",
              "      <td>1.584466</td>\n",
              "      <td>53.909400</td>\n",
              "      <td>0.655700</td>\n",
              "      <td>0.916500</td>\n",
              "      <td>8.683700</td>\n",
              "    </tr>\n",
              "  </tbody>\n",
              "</table><p>"
            ],
            "text/plain": [
              "<IPython.core.display.HTML object>"
            ]
          },
          "metadata": {},
          "output_type": "display_data"
        },
        {
          "data": {
            "application/vnd.jupyter.widget-view+json": {
              "model_id": "0ea7db980dbc4ed583ecd11a0a92b747",
              "version_major": 2,
              "version_minor": 0
            },
            "text/plain": [
              "tokenizer_config.json:   0%|          | 0.00/49.0 [00:00<?, ?B/s]"
            ]
          },
          "metadata": {},
          "output_type": "display_data"
        },
        {
          "data": {
            "application/vnd.jupyter.widget-view+json": {
              "model_id": "0504260659694ee68dc0af337261022a",
              "version_major": 2,
              "version_minor": 0
            },
            "text/plain": [
              "config.json:   0%|          | 0.00/625 [00:00<?, ?B/s]"
            ]
          },
          "metadata": {},
          "output_type": "display_data"
        },
        {
          "data": {
            "application/vnd.jupyter.widget-view+json": {
              "model_id": "fa2bc741e7444e448b524820bcc038d6",
              "version_major": 2,
              "version_minor": 0
            },
            "text/plain": [
              "vocab.txt:   0%|          | 0.00/996k [00:00<?, ?B/s]"
            ]
          },
          "metadata": {},
          "output_type": "display_data"
        },
        {
          "data": {
            "application/vnd.jupyter.widget-view+json": {
              "model_id": "6a6933c1f33648aba8e5d8eaedf73f1f",
              "version_major": 2,
              "version_minor": 0
            },
            "text/plain": [
              "tokenizer.json:   0%|          | 0.00/1.96M [00:00<?, ?B/s]"
            ]
          },
          "metadata": {},
          "output_type": "display_data"
        },
        {
          "data": {
            "application/vnd.jupyter.widget-view+json": {
              "model_id": "dc806180531642a1aba66ea8b0b57447",
              "version_major": 2,
              "version_minor": 0
            },
            "text/plain": [
              "model.safetensors:   0%|          | 0.00/714M [00:00<?, ?B/s]"
            ]
          },
          "metadata": {},
          "output_type": "display_data"
        },
        {
          "name": "stderr",
          "output_type": "stream",
          "text": [
            "/usr/local/lib/python3.11/dist-packages/transformers/modeling_utils.py:3465: UserWarning: Moving the following attributes in the config to the generation config: {'max_length': 200, 'early_stopping': True, 'num_beams': 5}. You are seeing this warning because you've set generation parameters in the model config, as opposed to in the generation config.\n",
            "  warnings.warn(\n",
            "There were missing keys in the checkpoint model loaded: ['model.encoder.embed_tokens.weight', 'model.decoder.embed_tokens.weight', 'lm_head.weight'].\n"
          ]
        },
        {
          "name": "stdout",
          "output_type": "stream",
          "text": [
            "\n",
            "[INFO] Training finished.\n",
            "Best model saved to ./mbart-eng-to-bangla/best_model\n",
            "\n",
            "[INFO] Generating training and validation curves...\n"
          ]
        },
        {
          "data": {
            "image/png": "[encoded data removed]",
            "text/plain": [
              "<Figure size 1200x800 with 1 Axes>"
            ]
          },
          "metadata": {},
          "output_type": "display_data"
        },
        {
          "data": {
            "image/png": "[encoded data removed]",
            "text/plain": [
              "<Figure size 1200x800 with 1 Axes>"
            ]
          },
          "metadata": {},
          "output_type": "display_data"
        },
        {
          "name": "stdout",
          "output_type": "stream",
          "text": [
            "\n",
            "[INFO] Performing final evaluation on the test set...\n"
          ]
        },
        {
          "data": {
            "text/html": [
              "\n",
              "    <div>\n",
              "      \n",
              "      <progress value='25' max='25' style='width:300px; height:20px; vertical-align: middle;'></progress>\n",
              "      [25/25 00:10]\n",
              "    </div>\n",
              "    "
            ],
            "text/plain": [
              "<IPython.core.display.HTML object>"
            ]
          },
          "metadata": {},
          "output_type": "display_data"
        },
        {
          "name": "stdout",
          "output_type": "stream",
          "text": [
            "\n",
            "--- Test Set Evaluation Results ---\n",
            "Loss           : 1.2646\n",
            "Bleu           : 49.1790\n",
            "Meteor         : 0.6337\n",
            "Bertscore_f1   : 0.9111\n",
            "Gen_len        : 8.5178\n",
            "Runtime        : 11.1357\n",
            "Samples_per_second: 17.6910\n",
            "Steps_per_second: 2.2450\n",
            "-----------------------------------\n",
            "\n",
            "[INFO] Running inference on test samples for qualitative analysis...\n",
            "\n",
            "--- Qualitative Analysis: Sample Translations ---\n",
            "\n",
            "Sample #1\n",
            "  - Source (EN):      I like to eat shrimp\n",
            "  - Reference (BN):   আমি চিংড়ি মাছ খেতে পছন্দ করি\n",
            "  - Model Output (BN):  আমার চিংড়ি চিংড়ি খেতে পছন্দ\n",
            "--------------------------------------------------\n",
            "Sample #2\n",
            "  - Source (EN):      Don’t like it.\n",
            "  - Reference (BN):   ভালো লাগে না\n",
            "  - Model Output (BN):  লাগে না\n",
            "--------------------------------------------------\n",
            "Sample #3\n",
            "  - Source (EN):      Must go\n",
            "  - Reference (BN):   যেতে হবে\n",
            "  - Model Output (BN):  যেতে হবে\n",
            "--------------------------------------------------\n",
            "Sample #4\n",
            "  - Source (EN):      I was talented\n",
            "  - Reference (BN):   আমি মেধাবী ছিলাম\n",
            "  - Model Output (BN):  আমি মেধাবী ছিলাম\n",
            "--------------------------------------------------\n",
            "Sample #5\n",
            "  - Source (EN):      Seeing you\n",
            "  - Reference (BN):   তোমাকে দেখে\n",
            "  - Model Output (BN):  আপনাকে দেখছি\n",
            "--------------------------------------------------\n",
            "Sample #6\n",
            "  - Source (EN):      What’s up?\n",
            "  - Reference (BN):   কি খবর\n",
            "  - Model Output (BN):  কি আছে?\n",
            "--------------------------------------------------\n",
            "Sample #7\n",
            "  - Source (EN):      On Friday, we went\n",
            "  - Reference (BN):   শুক্রবার আমরা গেছিলাম\n",
            "  - Model Output (BN):  শুক্রবার আমরা গেছিলাম\n",
            "--------------------------------------------------\n",
            "Sample #8\n",
            "  - Source (EN):      You get up early.\n",
            "  - Reference (BN):   তুমি তাড়াতাড়ি উঠে যাও\n",
            "  - Model Output (BN):  তুমি তাড়াতাড়ি উঠে যাও\n",
            "--------------------------------------------------\n",
            "Sample #9\n",
            "  - Source (EN):      Dad bought a dress\n",
            "  - Reference (BN):   আব্বু জামা কিনে এনেছে\n",
            "  - Model Output (BN):  কিনে এনেছে\n",
            "--------------------------------------------------\n",
            "Sample #10\n",
            "  - Source (EN):      I eat.\n",
            "  - Reference (BN):   আমি খাই\n",
            "  - Model Output (BN):  আমি খাই\n",
            "--------------------------------------------------\n",
            "\n",
            "Notebook execution complete.\n"
          ]
        }
      ],
      "source": [
        "# # 1. Setup and Installation\n",
        "import pandas as pd\n",
        "import numpy as np\n",
        "import torch\n",
        "import nltk\n",
        "import re\n",
        "import gc\n",
        "from tqdm.auto import tqdm\n",
        "import matplotlib.pyplot as plt\n",
        "import seaborn as sns\n",
        "import os\n",
        "import shutil\n",
        "\n",
        "from datasets import Dataset, DatasetDict\n",
        "from sklearn.model_selection import train_test_split\n",
        "\n",
        "from transformers import (\n",
        "    MBartForConditionalGeneration,\n",
        "    MBart50TokenizerFast,\n",
        "    Seq2SeqTrainingArguments,\n",
        "    Seq2SeqTrainer,\n",
        "    DataCollatorForSeq2Seq\n",
        ")\n",
        "import evaluate\n",
        "\n",
        "\n",
        "nltk.download('wordnet', quiet=True)\n",
        "nltk.download('punkt', quiet=True)\n",
        "nltk.download('omw-1.4', quiet=True)\n",
        "\n",
        "\n",
        "working_dir = \"/kaggle/working\"\n",
        "if os.path.exists(working_dir):\n",
        "    for filename in os.listdir(working_dir):\n",
        "        file_path = os.path.join(working_dir, filename)\n",
        "        try:\n",
        "            if os.path.isfile(file_path) or os.path.islink(file_path):\n",
        "                os.unlink(file_path)\n",
        "            elif os.path.isdir(file_path):\n",
        "                shutil.rmtree(file_path)\n",
        "        except Exception as e:\n",
        "            print(f\"Failed to delete {file_path}: {e}\")\n",
        "print(\"Kaggle working directory cleaned!\")\n",
        "\n",
        "\n",
        "\n",
        "class Config:\n",
        "\n",
        "    DATASET_PATH = \"/kaggle/input/aacl-dialect-dataset/AACL dialect  - Sentence.csv\"\n",
        "\n",
        "\n",
        "    SOURCE_LANG_COLUMN = \"English Translation\"\n",
        "    TARGET_LANG_COLUMN = \"Standard Bangla Lanuguage\"\n",
        "\n",
        "\n",
        "    MODEL_CHECKPOINT = \"facebook/mbart-large-50-many-to-many-mmt\"\n",
        "    SOURCE_LANG_CODE, TARGET_LANG_CODE = \"en_XX\", \"bn_IN\"\n",
        "    OUTPUT_DIR = \"./mbart-eng-to-bangla\"\n",
        "\n",
        "\n",
        "    MAX_INPUT_LENGTH, MAX_TARGET_LENGTH = 128, 128\n",
        "    BATCH_SIZE, GRADIENT_ACCUMULATION_STEPS = 8, 2\n",
        "    EVAL_STRATEGY = \"epoch\"\n",
        "    NUM_EPOCHS, LEARNING_RATE = 25, 5e-5\n",
        "    WEIGHT_DECAY, WARMUP_STEPS = 0.01, 50\n",
        "\n",
        "    TRAIN_RATIO, VALIDATION_RATIO, TEST_RATIO = 0.7, 0.1, 0.2\n",
        "    SEED = 42\n",
        "\n",
        "config = Config()\n",
        "device = \"cuda\" if torch.cuda.is_available() else \"cpu\"\n",
        "print(f\"Using device: {device}\")\n",
        "\n",
        "\n",
        "print(\"\\n[INFO] Loading and preprocessing data...\")\n",
        "df = pd.read_csv(config.DATASET_PATH)\n",
        "\n",
        "df = df[[config.SOURCE_LANG_COLUMN, config.TARGET_LANG_COLUMN]].rename(\n",
        "    columns={config.SOURCE_LANG_COLUMN: 'en', config.TARGET_LANG_COLUMN: 'bn'}\n",
        ")\n",
        "\n",
        "df.dropna(inplace=True)\n",
        "def clean_text(text):\n",
        "    return text.strip() if isinstance(text, str) else \"\"\n",
        "df['en'] = df['en'].apply(clean_text)\n",
        "df['bn'] = df['bn'].apply(clean_text)\n",
        "df = df[(df['en'] != '') & (df['bn'] != '')]\n",
        "print(f\"Dataset loaded with {len(df)} samples after cleaning.\")\n",
        "\n",
        "\n",
        "print(\"\\n[INFO] Splitting the dataset...\")\n",
        "train_df, temp_df = train_test_split(df, test_size=(1 - config.TRAIN_RATIO), random_state=config.SEED)\n",
        "val_df, test_df = train_test_split(temp_df, test_size=(config.TEST_RATIO / (config.VALIDATION_RATIO + config.TEST_RATIO)), random_state=config.SEED)\n",
        "raw_datasets = DatasetDict({\n",
        "    'train': Dataset.from_pandas(train_df.reset_index(drop=True)),\n",
        "    'validation': Dataset.from_pandas(val_df.reset_index(drop=True)),\n",
        "    'test': Dataset.from_pandas(test_df.reset_index(drop=True))\n",
        "})\n",
        "print(f\"Train: {len(train_df)}, Validation: {len(val_df)}, Test: {len(test_df)}\")\n",
        "\n",
        "\n",
        "print(\"\\n[INFO] Initializing model and tokenizer...\")\n",
        "tokenizer = MBart50TokenizerFast.from_pretrained(config.MODEL_CHECKPOINT, src_lang=config.SOURCE_LANG_CODE, tgt_lang=config.TARGET_LANG_CODE)\n",
        "model = MBartForConditionalGeneration.from_pretrained(config.MODEL_CHECKPOINT)\n",
        "\n",
        "\n",
        "print(\"\\n[INFO] Tokenizing datasets...\")\n",
        "def preprocess_function(examples):\n",
        "    model_inputs = tokenizer(examples[\"en\"], max_length=config.MAX_INPUT_LENGTH, truncation=True)\n",
        "    with tokenizer.as_target_tokenizer():\n",
        "\n",
        "        labels = tokenizer(examples[\"bn\"], max_length=config.MAX_TARGET_LENGTH, truncation=True)\n",
        "    model_inputs[\"labels\"] = labels[\"input_ids\"]\n",
        "    return model_inputs\n",
        "tokenized_datasets = raw_datasets.map(preprocess_function, batched=True, remove_columns=raw_datasets[\"train\"].column_names)\n",
        "\n",
        "\n",
        "print(\"\\n[INFO] Setting up evaluation metrics (BLEU, METEOR, BERTScore)...\")\n",
        "bleu_metric = evaluate.load(\"sacrebleu\")\n",
        "meteor_metric = evaluate.load(\"meteor\")\n",
        "bertscore_metric = evaluate.load(\"bertscore\")\n",
        "\n",
        "def compute_metrics(eval_preds):\n",
        "    preds, labels = eval_preds\n",
        "    if isinstance(preds, tuple): preds = preds[0]\n",
        "    labels = np.where(labels != -100, labels, tokenizer.pad_token_id)\n",
        "    decoded_preds = tokenizer.batch_decode(preds, skip_special_tokens=True)\n",
        "    decoded_labels = tokenizer.batch_decode(labels, skip_special_tokens=True)\n",
        "    post_processed_labels = [[label.strip()] for label in decoded_labels]\n",
        "    post_processed_preds = [pred.strip() for pred in decoded_preds]\n",
        "    bleu = bleu_metric.compute(predictions=post_processed_preds, references=post_processed_labels)\n",
        "    meteor = meteor_metric.compute(predictions=post_processed_preds, references=post_processed_labels)\n",
        "    # Set lang=\"bn\" for Bangla, which is correct\n",
        "    bertscore = bertscore_metric.compute(predictions=post_processed_preds, references=post_processed_labels, lang=\"bn\")\n",
        "    result = {\n",
        "        \"bleu\": bleu[\"score\"],\n",
        "        \"meteor\": meteor[\"meteor\"],\n",
        "        \"bertscore_f1\": np.mean(bertscore[\"f1\"]),\n",
        "    }\n",
        "    prediction_lens = [np.count_nonzero(pred != tokenizer.pad_token_id) for pred in preds]\n",
        "    result[\"gen_len\"] = np.mean(prediction_lens)\n",
        "    return {k: round(v, 4) for k, v in result.items()}\n",
        "\n",
        "\n",
        "\n",
        "print(\"\\n[INFO] Configuring training arguments...\")\n",
        "training_args = Seq2SeqTrainingArguments(\n",
        "    output_dir=config.OUTPUT_DIR,\n",
        "    eval_strategy=config.EVAL_STRATEGY,\n",
        "    logging_strategy=config.EVAL_STRATEGY,\n",
        "    save_strategy=config.EVAL_STRATEGY,\n",
        "    per_device_train_batch_size=config.BATCH_SIZE,\n",
        "    per_device_eval_batch_size=config.BATCH_SIZE,\n",
        "    learning_rate=config.LEARNING_RATE,\n",
        "    weight_decay=config.WEIGHT_DECAY,\n",
        "    num_train_epochs=config.NUM_EPOCHS,\n",
        "    warmup_steps=config.WARMUP_STEPS,\n",
        "    fp16=True,\n",
        "    gradient_accumulation_steps=config.GRADIENT_ACCUMULATION_STEPS,\n",
        "    gradient_checkpointing=True,\n",
        "    save_total_limit=1,\n",
        "    save_only_model=True,\n",
        "    predict_with_generate=True,\n",
        "    load_best_model_at_end=True,\n",
        "    metric_for_best_model=\"bleu\",\n",
        "    greater_is_better=True,\n",
        "    report_to=\"none\"\n",
        ")\n",
        "data_collator = DataCollatorForSeq2Seq(tokenizer, model=model)\n",
        "trainer = Seq2SeqTrainer(\n",
        "    model=model, args=training_args,\n",
        "    train_dataset=tokenized_datasets[\"train\"], eval_dataset=tokenized_datasets[\"validation\"],\n",
        "    tokenizer=tokenizer, data_collator=data_collator, compute_metrics=compute_metrics\n",
        ")\n",
        "\n",
        "\n",
        "gc.collect()\n",
        "torch.cuda.empty_cache()\n",
        "print(\"\\n[INFO] Starting model training...\")\n",
        "train_result = trainer.train()\n",
        "print(\"\\n[INFO] Training finished.\")\n",
        "trainer.save_model(f\"{config.OUTPUT_DIR}/best_model\")\n",
        "tokenizer.save_pretrained(f\"{config.OUTPUT_DIR}/best_model\")\n",
        "print(f\"Best model saved to {config.OUTPUT_DIR}/best_model\")\n",
        "\n",
        "\n",
        "print(\"\\n[INFO] Generating training and validation curves...\")\n",
        "log_history = trainer.state.log_history\n",
        "\n",
        "eval_logs = [log for log in log_history if 'eval_loss' in log and 'epoch' in log]\n",
        "train_logs = [log for log in log_history if 'loss' in log and 'epoch' in log]\n",
        "\n",
        "if eval_logs and train_logs:\n",
        "    eval_df = pd.DataFrame(eval_logs)\n",
        "    train_df_logs = pd.DataFrame(train_logs)\n",
        "    eval_df['epoch'] = eval_df['epoch'].round()\n",
        "    train_df_logs['epoch'] = train_df_logs['epoch'].round()\n",
        "    log_df = pd.merge(train_df_logs, eval_df, on='epoch', how='inner').drop_duplicates(subset=['epoch'], keep='last')\n",
        "\n",
        "    plt.style.use('seaborn-v0_8-whitegrid')\n",
        "    plt.figure(figsize=(12, 8))\n",
        "    plt.plot(log_df['epoch'], log_df['loss'], label='Training Loss', marker='o', linestyle='--')\n",
        "    plt.plot(log_df['epoch'], log_df['eval_loss'], label='Validation Loss', marker='o')\n",
        "    plt.title('Training & Validation Loss per Epoch', fontsize=16, weight='bold')\n",
        "    plt.xlabel('Epoch', fontsize=14)\n",
        "    plt.ylabel('Loss', fontsize=14)\n",
        "    plt.legend()\n",
        "    plt.xticks(log_df['epoch'].unique().astype(int))\n",
        "    plt.grid(True)\n",
        "    plt.show()\n",
        "\n",
        "    fig, ax = plt.subplots(figsize=(12, 8))\n",
        "    ax.plot(log_df['epoch'], log_df['eval_bleu'], label='Validation BLEU', marker='o')\n",
        "    ax.plot(log_df['epoch'], log_df['eval_meteor'], label='Validation METEOR', marker='s')\n",
        "    ax.plot(log_df['epoch'], log_df['eval_bertscore_f1'], label='Validation BERTScore-F1', marker='^')\n",
        "    ax.set_xlabel('Epoch', fontsize=14)\n",
        "    ax.set_ylabel('Score', fontsize=14)\n",
        "    ax.set_title('Validation Metrics per Epoch', fontsize=16, weight='bold')\n",
        "    ax.legend()\n",
        "    ax.set_xticks(log_df['epoch'].unique().astype(int))\n",
        "    ax.grid(True)\n",
        "    plt.show()\n",
        "else:\n",
        "    print(\"Could not generate plots. Not enough log data found.\")\n",
        "\n",
        "\n",
        "print(\"\\n[INFO] Performing final evaluation on the test set...\")\n",
        "test_results = trainer.evaluate(eval_dataset=tokenized_datasets[\"test\"])\n",
        "print(\"\\n--- Test Set Evaluation Results ---\")\n",
        "for key, value in test_results.items():\n",
        "    if key.startswith(\"eval_\"):\n",
        "        print(f\"{key.replace('eval_', '').capitalize():<15}: {value:.4f}\")\n",
        "print(\"-----------------------------------\")\n",
        "\n",
        "\n",
        "print(\"\\n[INFO] Running inference on test samples for qualitative analysis...\")\n",
        "model_path = f\"{config.OUTPUT_DIR}/best_model\"\n",
        "tokenizer = MBart50TokenizerFast.from_pretrained(model_path)\n",
        "model = MBartForConditionalGeneration.from_pretrained(model_path).to(device)\n",
        "\n",
        "def translate(text):\n",
        "    tokenizer.src_lang = config.SOURCE_LANG_CODE\n",
        "    inputs = tokenizer(text, return_tensors=\"pt\", truncation=True, max_length=config.MAX_INPUT_LENGTH).to(device)\n",
        "    generated_tokens = model.generate(\n",
        "        **inputs,\n",
        "        forced_bos_token_id=tokenizer.lang_code_to_id[config.TARGET_LANG_CODE],\n",
        "        max_length=config.MAX_TARGET_LENGTH, num_beams=5, early_stopping=True\n",
        "    )\n",
        "    return tokenizer.batch_decode(generated_tokens, skip_special_tokens=True)[0]\n",
        "\n",
        "print(\"\\n--- Qualitative Analysis: Sample Translations ---\\n\")\n",
        "for i in range(min(10, len(test_df))):\n",
        "    sample = raw_datasets['test'][i]\n",
        "    source, reference = sample['en'], sample['bn']\n",
        "    model_output = translate(source)\n",
        "    print(f\"Sample #{i+1}\")\n",
        "    print(f\"  - Source (EN):      {source}\")\n",
        "    print(f\"  - Reference (BN):   {reference}\")\n",
        "    print(f\"  - Model Output (BN):  {model_output}\")\n",
        "    print(\"-\" * 50)\n",
        "\n",
        "print(\"\\nNotebook execution complete.\")"
      ]
    }
  ],
  "metadata": {
    "kaggle": {
      "accelerator": "gpu",
      "dataSources": [
        {
          "datasetId": 8356981,
          "sourceId": 13187373,
          "sourceType": "datasetVersion"
        }
      ],
      "isGpuEnabled": true,
      "isInternetEnabled": true,
      "language": "python",
      "sourceType": "notebook"
    },
    "kernelspec": {
      "display_name": "Python 3",
      "language": "python",
      "name": "python3"
    },
    "language_info": {
      "codemirror_mode": {
        "name": "ipython",
        "version": 3
      },
      "file_extension": ".py",
      "mimetype": "text/x-python",
      "name": "python",
      "nbconvert_exporter": "python",
      "pygments_lexer": "ipython3",
      "version": "3.11.13"
    },
    "papermill": {
      "default_parameters": {},
      "duration": 975.601869,
      "end_time": "2025-09-27T12:26:29.500674",
      "environment_variables": {},
      "exception": null,
      "input_path": "__notebook__.ipynb",
      "output_path": "__notebook__.ipynb",
      "parameters": {},
      "start_time": "2025-09-27T12:10:13.898805",
      "version": "2.6.0"
    },
    "widgets": {
      "application/vnd.jupyter.widget-state+json": {}
    },
    "colab": {
      "provenance": []
    }
  },
  "nbformat": 4,
  "nbformat_minor": 5
}