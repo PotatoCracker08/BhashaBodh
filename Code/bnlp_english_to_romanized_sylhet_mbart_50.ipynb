{
  "cells": [
    {
      "cell_type": "code",
      "execution_count": null,
      "id": "e8a37bac",
      "metadata": {
        "_cell_guid": "b1076dfc-b9ad-4769-8c92-a6c4dae69d19",
        "_uuid": "8f2839f25d086af736a60e9eeb907d3b93b6e0e5",
        "execution": {
          "iopub.execute_input": "2025-09-27T16:43:03.964357Z",
          "iopub.status.busy": "2025-09-27T16:43:03.964141Z",
          "iopub.status.idle": "2025-09-27T16:44:20.712109Z",
          "shell.execute_reply": "2025-09-27T16:44:20.711141Z"
        },
        "papermill": {
          "duration": 76.75228,
          "end_time": "2025-09-27T16:44:20.713680",
          "exception": false,
          "start_time": "2025-09-27T16:43:03.961400",
          "status": "completed"
        },
        "tags": [],
        "id": "e8a37bac",
        "outputId": "fffcdff6-c68f-462d-f97b-ca3c0dca3910"
      },
      "outputs": [
        {
          "name": "stdout",
          "output_type": "stream",
          "text": [
            "\u001b[2K     \u001b[90m━━━━━━━━━━━━━━━━━━━━━━━━━━━━━━━━━━━━━━━━\u001b[0m \u001b[32m51.8/51.8 kB\u001b[0m \u001b[31m2.8 MB/s\u001b[0m eta \u001b[36m0:00:00\u001b[0m\r\n",
            "\u001b[2K   \u001b[90m━━━━━━━━━━━━━━━━━━━━━━━━━━━━━━━━━━━━━━━━\u001b[0m \u001b[32m84.1/84.1 kB\u001b[0m \u001b[31m5.8 MB/s\u001b[0m eta \u001b[36m0:00:00\u001b[0m\r\n",
            "\u001b[2K   \u001b[90m━━━━━━━━━━━━━━━━━━━━━━━━━━━━━━━━━━━━━━━━\u001b[0m \u001b[32m104.1/104.1 kB\u001b[0m \u001b[31m8.2 MB/s\u001b[0m eta \u001b[36m0:00:00\u001b[0m\r\n",
            "\u001b[2K   \u001b[90m━━━━━━━━━━━━━━━━━━━━━━━━━━━━━━━━━━━━━━━━\u001b[0m \u001b[32m61.1/61.1 kB\u001b[0m \u001b[31m4.5 MB/s\u001b[0m eta \u001b[36m0:00:00\u001b[0m\r\n",
            "\u001b[2K   \u001b[90m━━━━━━━━━━━━━━━━━━━━━━━━━━━━━━━━━━━━━━━━\u001b[0m \u001b[32m193.6/193.6 kB\u001b[0m \u001b[31m6.2 MB/s\u001b[0m eta \u001b[36m0:00:00\u001b[0m\r\n",
            "\u001b[2K   \u001b[90m━━━━━━━━━━━━━━━━━━━━━━━━━━━━━━━━━━━━━━━━\u001b[0m \u001b[32m363.4/363.4 MB\u001b[0m \u001b[31m4.7 MB/s\u001b[0m eta \u001b[36m0:00:00\u001b[0m\r\n",
            "\u001b[2K   \u001b[90m━━━━━━━━━━━━━━━━━━━━━━━━━━━━━━━━━━━━━━━━\u001b[0m \u001b[32m13.8/13.8 MB\u001b[0m \u001b[31m99.7 MB/s\u001b[0m eta \u001b[36m0:00:00\u001b[0m\r\n",
            "\u001b[2K   \u001b[90m━━━━━━━━━━━━━━━━━━━━━━━━━━━━━━━━━━━━━━━━\u001b[0m \u001b[32m24.6/24.6 MB\u001b[0m \u001b[31m77.6 MB/s\u001b[0m eta \u001b[36m0:00:00\u001b[0m\r\n",
            "\u001b[2K   \u001b[90m━━━━━━━━━━━━━━━━━━━━━━━━━━━━━━━━━━━━━━━━\u001b[0m \u001b[32m883.7/883.7 kB\u001b[0m \u001b[31m40.5 MB/s\u001b[0m eta \u001b[36m0:00:00\u001b[0m\r\n",
            "\u001b[2K   \u001b[90m━━━━━━━━━━━━━━━━━━━━━━━━━━━━━━━━━━━━━━━━\u001b[0m \u001b[32m664.8/664.8 MB\u001b[0m \u001b[31m2.6 MB/s\u001b[0m eta \u001b[36m0:00:00\u001b[0m\r\n",
            "\u001b[2K   \u001b[90m━━━━━━━━━━━━━━━━━━━━━━━━━━━━━━━━━━━━━━━━\u001b[0m \u001b[32m211.5/211.5 MB\u001b[0m \u001b[31m8.4 MB/s\u001b[0m eta \u001b[36m0:00:00\u001b[0m\r\n",
            "\u001b[2K   \u001b[90m━━━━━━━━━━━━━━━━━━━━━━━━━━━━━━━━━━━━━━━━\u001b[0m \u001b[32m56.3/56.3 MB\u001b[0m \u001b[31m31.2 MB/s\u001b[0m eta \u001b[36m0:00:00\u001b[0m\r\n",
            "\u001b[2K   \u001b[90m━━━━━━━━━━━━━━━━━━━━━━━━━━━━━━━━━━━━━━━━\u001b[0m \u001b[32m127.9/127.9 MB\u001b[0m \u001b[31m13.5 MB/s\u001b[0m eta \u001b[36m0:00:00\u001b[0m\r\n",
            "\u001b[2K   \u001b[90m━━━━━━━━━━━━━━━━━━━━━━━━━━━━━━━━━━━━━━━━\u001b[0m \u001b[32m207.5/207.5 MB\u001b[0m \u001b[31m6.3 MB/s\u001b[0m eta \u001b[36m0:00:00\u001b[0m\r\n",
            "\u001b[2K   \u001b[90m━━━━━━━━━━━━━━━━━━━━━━━━━━━━━━━━━━━━━━━━\u001b[0m \u001b[32m21.1/21.1 MB\u001b[0m \u001b[31m86.7 MB/s\u001b[0m eta \u001b[36m0:00:00\u001b[0m\r\n",
            "\u001b[?25h\u001b[31mERROR: pip's dependency resolver does not currently take into account all the packages that are installed. This behaviour is the source of the following dependency conflicts.\r\n",
            "bigframes 2.8.0 requires google-cloud-bigquery-storage<3.0.0,>=2.30.0, which is not installed.\r\n",
            "cesium 0.12.4 requires numpy<3.0,>=2.0, but you have numpy 1.26.4 which is incompatible.\r\n",
            "gcsfs 2025.3.2 requires fsspec==2025.3.2, but you have fsspec 2025.3.0 which is incompatible.\r\n",
            "bigframes 2.8.0 requires google-cloud-bigquery[bqstorage,pandas]>=3.31.0, but you have google-cloud-bigquery 3.25.0 which is incompatible.\r\n",
            "bigframes 2.8.0 requires rich<14,>=12.4.4, but you have rich 14.0.0 which is incompatible.\u001b[0m\u001b[31m\r\n",
            "\u001b[0m"
          ]
        }
      ],
      "source": [
        "!pip install -q transformers[sentencepiece] datasets accelerate evaluate sacrebleu bert_score nltk"
      ]
    },
    {
      "cell_type": "code",
      "execution_count": null,
      "id": "9207432e",
      "metadata": {
        "execution": {
          "iopub.execute_input": "2025-09-27T16:44:20.750341Z",
          "iopub.status.busy": "2025-09-27T16:44:20.750066Z",
          "iopub.status.idle": "2025-09-27T17:00:50.410015Z",
          "shell.execute_reply": "2025-09-27T17:00:50.409360Z"
        },
        "papermill": {
          "duration": 989.679432,
          "end_time": "2025-09-27T17:00:50.411256",
          "exception": false,
          "start_time": "2025-09-27T16:44:20.731824",
          "status": "completed"
        },
        "tags": [],
        "colab": {
          "referenced_widgets": [
            "b194ee586ee74a9ebbbf2e6e267ccc59",
            "161fb4bc86a54a619e20b1f51d59efe4",
            "4a524c03a5424e6fb2b314041411ed09",
            "d5f8939e22b249918fa762a39a65ab88",
            "7ef02b53b2d14113bb41c7787bab8220",
            "e7e57a3be2fd455589ad9b877d001a7e",
            "7515d7416a8448f1b9719fe93814e3e0",
            "711caf7b28404791bc1e8729c4f85ce2",
            "c4153bed5a9546c7a8fa5f73e664d48d",
            "68956ec1a6c646f6a2363af0d6d474df",
            "8908a9f27a4d4293acfaf84145e0296c",
            "95a59bcb4a3944b195c3298066ff96b5",
            "a0a9d6bb301e44ec93ebb4e858b3746a",
            "b889c55ecb8649f694079af2c7bd751e",
            "e6a45ab4bad94140975a26fa26be1507",
            "027864db1edc44ec999fa3b141d16373",
            "532eea98b45a4770b2b34b9805d4be85",
            "f978dfd0f5e74dd3a38d3e3023741c5e"
          ]
        },
        "id": "9207432e",
        "outputId": "745e1522-b0ed-4409-c479-1e2bb32db8d0"
      },
      "outputs": [
        {
          "name": "stderr",
          "output_type": "stream",
          "text": [
            "2025-09-27 16:44:38.312294: E external/local_xla/xla/stream_executor/cuda/cuda_fft.cc:477] Unable to register cuFFT factory: Attempting to register factory for plugin cuFFT when one has already been registered\n",
            "WARNING: All log messages before absl::InitializeLog() is called are written to STDERR\n",
            "E0000 00:00:1758991478.494279      19 cuda_dnn.cc:8310] Unable to register cuDNN factory: Attempting to register factory for plugin cuDNN when one has already been registered\n",
            "E0000 00:00:1758991478.545231      19 cuda_blas.cc:1418] Unable to register cuBLAS factory: Attempting to register factory for plugin cuBLAS when one has already been registered\n"
          ]
        },
        {
          "name": "stdout",
          "output_type": "stream",
          "text": [
            "Kaggle working directory cleaned!\n",
            "Using device: cuda\n",
            "\n",
            "[INFO] Loading and preprocessing data...\n",
            "Dataset loaded with 980 samples after cleaning.\n",
            "\n",
            "[INFO] Splitting the dataset...\n",
            "Train: 784, Validation: 98, Test: 98\n",
            "\n",
            "[INFO] Initializing model and tokenizer...\n"
          ]
        },
        {
          "data": {
            "application/vnd.jupyter.widget-view+json": {
              "model_id": "b194ee586ee74a9ebbbf2e6e267ccc59",
              "version_major": 2,
              "version_minor": 0
            },
            "text/plain": [
              "tokenizer_config.json:   0%|          | 0.00/529 [00:00<?, ?B/s]"
            ]
          },
          "metadata": {},
          "output_type": "display_data"
        },
        {
          "data": {
            "application/vnd.jupyter.widget-view+json": {
              "model_id": "161fb4bc86a54a619e20b1f51d59efe4",
              "version_major": 2,
              "version_minor": 0
            },
            "text/plain": [
              "sentencepiece.bpe.model:   0%|          | 0.00/5.07M [00:00<?, ?B/s]"
            ]
          },
          "metadata": {},
          "output_type": "display_data"
        },
        {
          "data": {
            "application/vnd.jupyter.widget-view+json": {
              "model_id": "4a524c03a5424e6fb2b314041411ed09",
              "version_major": 2,
              "version_minor": 0
            },
            "text/plain": [
              "special_tokens_map.json:   0%|          | 0.00/649 [00:00<?, ?B/s]"
            ]
          },
          "metadata": {},
          "output_type": "display_data"
        },
        {
          "data": {
            "application/vnd.jupyter.widget-view+json": {
              "model_id": "d5f8939e22b249918fa762a39a65ab88",
              "version_major": 2,
              "version_minor": 0
            },
            "text/plain": [
              "config.json: 0.00B [00:00, ?B/s]"
            ]
          },
          "metadata": {},
          "output_type": "display_data"
        },
        {
          "data": {
            "application/vnd.jupyter.widget-view+json": {
              "model_id": "7ef02b53b2d14113bb41c7787bab8220",
              "version_major": 2,
              "version_minor": 0
            },
            "text/plain": [
              "model.safetensors:   0%|          | 0.00/2.44G [00:00<?, ?B/s]"
            ]
          },
          "metadata": {},
          "output_type": "display_data"
        },
        {
          "data": {
            "application/vnd.jupyter.widget-view+json": {
              "model_id": "e7e57a3be2fd455589ad9b877d001a7e",
              "version_major": 2,
              "version_minor": 0
            },
            "text/plain": [
              "generation_config.json:   0%|          | 0.00/261 [00:00<?, ?B/s]"
            ]
          },
          "metadata": {},
          "output_type": "display_data"
        },
        {
          "name": "stdout",
          "output_type": "stream",
          "text": [
            "\n",
            "[INFO] Tokenizing datasets...\n"
          ]
        },
        {
          "data": {
            "application/vnd.jupyter.widget-view+json": {
              "model_id": "7515d7416a8448f1b9719fe93814e3e0",
              "version_major": 2,
              "version_minor": 0
            },
            "text/plain": [
              "Map:   0%|          | 0/784 [00:00<?, ? examples/s]"
            ]
          },
          "metadata": {},
          "output_type": "display_data"
        },
        {
          "data": {
            "application/vnd.jupyter.widget-view+json": {
              "model_id": "711caf7b28404791bc1e8729c4f85ce2",
              "version_major": 2,
              "version_minor": 0
            },
            "text/plain": [
              "Map:   0%|          | 0/98 [00:00<?, ? examples/s]"
            ]
          },
          "metadata": {},
          "output_type": "display_data"
        },
        {
          "data": {
            "application/vnd.jupyter.widget-view+json": {
              "model_id": "c4153bed5a9546c7a8fa5f73e664d48d",
              "version_major": 2,
              "version_minor": 0
            },
            "text/plain": [
              "Map:   0%|          | 0/98 [00:00<?, ? examples/s]"
            ]
          },
          "metadata": {},
          "output_type": "display_data"
        },
        {
          "name": "stdout",
          "output_type": "stream",
          "text": [
            "\n",
            "[INFO] Setting up evaluation metrics (BLEU, METEOR, BERTScore)...\n"
          ]
        },
        {
          "data": {
            "application/vnd.jupyter.widget-view+json": {
              "model_id": "68956ec1a6c646f6a2363af0d6d474df",
              "version_major": 2,
              "version_minor": 0
            },
            "text/plain": [
              "Downloading builder script: 0.00B [00:00, ?B/s]"
            ]
          },
          "metadata": {},
          "output_type": "display_data"
        },
        {
          "data": {
            "application/vnd.jupyter.widget-view+json": {
              "model_id": "8908a9f27a4d4293acfaf84145e0296c",
              "version_major": 2,
              "version_minor": 0
            },
            "text/plain": [
              "Downloading builder script: 0.00B [00:00, ?B/s]"
            ]
          },
          "metadata": {},
          "output_type": "display_data"
        },
        {
          "name": "stderr",
          "output_type": "stream",
          "text": [
            "[nltk_data] Downloading package wordnet to /usr/share/nltk_data...\n",
            "[nltk_data]   Package wordnet is already up-to-date!\n",
            "[nltk_data] Downloading package punkt_tab to /usr/share/nltk_data...\n",
            "[nltk_data]   Package punkt_tab is already up-to-date!\n",
            "[nltk_data] Downloading package omw-1.4 to /usr/share/nltk_data...\n",
            "[nltk_data]   Package omw-1.4 is already up-to-date!\n"
          ]
        },
        {
          "data": {
            "application/vnd.jupyter.widget-view+json": {
              "model_id": "95a59bcb4a3944b195c3298066ff96b5",
              "version_major": 2,
              "version_minor": 0
            },
            "text/plain": [
              "Downloading builder script: 0.00B [00:00, ?B/s]"
            ]
          },
          "metadata": {},
          "output_type": "display_data"
        },
        {
          "name": "stdout",
          "output_type": "stream",
          "text": [
            "\n",
            "[INFO] Configuring training arguments...\n"
          ]
        },
        {
          "name": "stderr",
          "output_type": "stream",
          "text": [
            "/tmp/ipykernel_19/2530389575.py:258: FutureWarning: `tokenizer` is deprecated and will be removed in version 5.0.0 for `Seq2SeqTrainer.__init__`. Use `processing_class` instead.\n",
            "  trainer = Seq2SeqTrainer(\n"
          ]
        },
        {
          "name": "stdout",
          "output_type": "stream",
          "text": [
            "\n",
            "[INFO] Starting model training...\n"
          ]
        },
        {
          "data": {
            "text/html": [
              "\n",
              "    <div>\n",
              "      \n",
              "      <progress value='1225' max='1225' style='width:300px; height:20px; vertical-align: middle;'></progress>\n",
              "      [1225/1225 15:06, Epoch 25/25]\n",
              "    </div>\n",
              "    <table border=\"1\" class=\"dataframe\">\n",
              "  <thead>\n",
              " <tr style=\"text-align: left;\">\n",
              "      <th>Epoch</th>\n",
              "      <th>Training Loss</th>\n",
              "      <th>Validation Loss</th>\n",
              "      <th>Bleu</th>\n",
              "      <th>Meteor</th>\n",
              "      <th>Bertscore F1</th>\n",
              "      <th>Gen Len</th>\n",
              "    </tr>\n",
              "  </thead>\n",
              "  <tbody>\n",
              "    <tr>\n",
              "      <td>1</td>\n",
              "      <td>6.542500</td>\n",
              "      <td>3.963207</td>\n",
              "      <td>3.261300</td>\n",
              "      <td>0.094600</td>\n",
              "      <td>0.825500</td>\n",
              "      <td>9.071400</td>\n",
              "    </tr>\n",
              "    <tr>\n",
              "      <td>2</td>\n",
              "      <td>2.818700</td>\n",
              "      <td>2.369333</td>\n",
              "      <td>19.082600</td>\n",
              "      <td>0.297500</td>\n",
              "      <td>0.875200</td>\n",
              "      <td>9.561200</td>\n",
              "    </tr>\n",
              "    <tr>\n",
              "      <td>3</td>\n",
              "      <td>1.231800</td>\n",
              "      <td>1.968418</td>\n",
              "      <td>23.168600</td>\n",
              "      <td>0.425000</td>\n",
              "      <td>0.893000</td>\n",
              "      <td>9.428600</td>\n",
              "    </tr>\n",
              "    <tr>\n",
              "      <td>4</td>\n",
              "      <td>0.592500</td>\n",
              "      <td>1.800344</td>\n",
              "      <td>30.381000</td>\n",
              "      <td>0.511400</td>\n",
              "      <td>0.908100</td>\n",
              "      <td>9.255100</td>\n",
              "    </tr>\n",
              "    <tr>\n",
              "      <td>5</td>\n",
              "      <td>0.335500</td>\n",
              "      <td>1.789279</td>\n",
              "      <td>36.710600</td>\n",
              "      <td>0.537700</td>\n",
              "      <td>0.910500</td>\n",
              "      <td>9.387800</td>\n",
              "    </tr>\n",
              "    <tr>\n",
              "      <td>6</td>\n",
              "      <td>0.237000</td>\n",
              "      <td>1.773550</td>\n",
              "      <td>37.969500</td>\n",
              "      <td>0.550000</td>\n",
              "      <td>0.917100</td>\n",
              "      <td>9.398000</td>\n",
              "    </tr>\n",
              "    <tr>\n",
              "      <td>7</td>\n",
              "      <td>0.177200</td>\n",
              "      <td>1.832873</td>\n",
              "      <td>37.097700</td>\n",
              "      <td>0.586700</td>\n",
              "      <td>0.918100</td>\n",
              "      <td>9.632700</td>\n",
              "    </tr>\n",
              "    <tr>\n",
              "      <td>8</td>\n",
              "      <td>0.147000</td>\n",
              "      <td>1.809084</td>\n",
              "      <td>32.999900</td>\n",
              "      <td>0.574300</td>\n",
              "      <td>0.916500</td>\n",
              "      <td>9.540800</td>\n",
              "    </tr>\n",
              "    <tr>\n",
              "      <td>9</td>\n",
              "      <td>0.120700</td>\n",
              "      <td>1.769784</td>\n",
              "      <td>32.087300</td>\n",
              "      <td>0.561200</td>\n",
              "      <td>0.914300</td>\n",
              "      <td>9.622400</td>\n",
              "    </tr>\n",
              "    <tr>\n",
              "      <td>10</td>\n",
              "      <td>0.110900</td>\n",
              "      <td>1.826997</td>\n",
              "      <td>37.377800</td>\n",
              "      <td>0.576100</td>\n",
              "      <td>0.917700</td>\n",
              "      <td>9.510200</td>\n",
              "    </tr>\n",
              "    <tr>\n",
              "      <td>11</td>\n",
              "      <td>0.098800</td>\n",
              "      <td>1.785247</td>\n",
              "      <td>32.610200</td>\n",
              "      <td>0.579400</td>\n",
              "      <td>0.915600</td>\n",
              "      <td>9.520400</td>\n",
              "    </tr>\n",
              "    <tr>\n",
              "      <td>12</td>\n",
              "      <td>0.084700</td>\n",
              "      <td>1.886024</td>\n",
              "      <td>36.145400</td>\n",
              "      <td>0.566500</td>\n",
              "      <td>0.915800</td>\n",
              "      <td>9.489800</td>\n",
              "    </tr>\n",
              "    <tr>\n",
              "      <td>13</td>\n",
              "      <td>0.073800</td>\n",
              "      <td>1.884568</td>\n",
              "      <td>34.949900</td>\n",
              "      <td>0.570500</td>\n",
              "      <td>0.916100</td>\n",
              "      <td>9.479600</td>\n",
              "    </tr>\n",
              "    <tr>\n",
              "      <td>14</td>\n",
              "      <td>0.067600</td>\n",
              "      <td>1.961056</td>\n",
              "      <td>37.236000</td>\n",
              "      <td>0.557300</td>\n",
              "      <td>0.913700</td>\n",
              "      <td>9.346900</td>\n",
              "    </tr>\n",
              "    <tr>\n",
              "      <td>15</td>\n",
              "      <td>0.057700</td>\n",
              "      <td>1.801997</td>\n",
              "      <td>39.210900</td>\n",
              "      <td>0.604300</td>\n",
              "      <td>0.920500</td>\n",
              "      <td>9.632700</td>\n",
              "    </tr>\n",
              "    <tr>\n",
              "      <td>16</td>\n",
              "      <td>0.053700</td>\n",
              "      <td>1.820070</td>\n",
              "      <td>38.054400</td>\n",
              "      <td>0.590800</td>\n",
              "      <td>0.918900</td>\n",
              "      <td>9.632700</td>\n",
              "    </tr>\n",
              "    <tr>\n",
              "      <td>17</td>\n",
              "      <td>0.048800</td>\n",
              "      <td>1.905829</td>\n",
              "      <td>38.007300</td>\n",
              "      <td>0.588400</td>\n",
              "      <td>0.918700</td>\n",
              "      <td>9.469400</td>\n",
              "    </tr>\n",
              "    <tr>\n",
              "      <td>18</td>\n",
              "      <td>0.043900</td>\n",
              "      <td>1.883101</td>\n",
              "      <td>37.852100</td>\n",
              "      <td>0.581100</td>\n",
              "      <td>0.916700</td>\n",
              "      <td>9.469400</td>\n",
              "    </tr>\n",
              "    <tr>\n",
              "      <td>19</td>\n",
              "      <td>0.040500</td>\n",
              "      <td>1.903100</td>\n",
              "      <td>37.275900</td>\n",
              "      <td>0.580100</td>\n",
              "      <td>0.918200</td>\n",
              "      <td>9.612200</td>\n",
              "    </tr>\n",
              "    <tr>\n",
              "      <td>20</td>\n",
              "      <td>0.036100</td>\n",
              "      <td>1.926441</td>\n",
              "      <td>38.635400</td>\n",
              "      <td>0.591000</td>\n",
              "      <td>0.916800</td>\n",
              "      <td>9.632700</td>\n",
              "    </tr>\n",
              "    <tr>\n",
              "      <td>21</td>\n",
              "      <td>0.033600</td>\n",
              "      <td>1.925871</td>\n",
              "      <td>39.751500</td>\n",
              "      <td>0.590600</td>\n",
              "      <td>0.919900</td>\n",
              "      <td>9.602000</td>\n",
              "    </tr>\n",
              "    <tr>\n",
              "      <td>22</td>\n",
              "      <td>0.030700</td>\n",
              "      <td>1.949438</td>\n",
              "      <td>38.439800</td>\n",
              "      <td>0.574100</td>\n",
              "      <td>0.916200</td>\n",
              "      <td>9.602000</td>\n",
              "    </tr>\n",
              "    <tr>\n",
              "      <td>23</td>\n",
              "      <td>0.028500</td>\n",
              "      <td>1.957900</td>\n",
              "      <td>38.027100</td>\n",
              "      <td>0.578600</td>\n",
              "      <td>0.918200</td>\n",
              "      <td>9.632700</td>\n",
              "    </tr>\n",
              "    <tr>\n",
              "      <td>24</td>\n",
              "      <td>0.025100</td>\n",
              "      <td>1.967434</td>\n",
              "      <td>38.574100</td>\n",
              "      <td>0.580300</td>\n",
              "      <td>0.918200</td>\n",
              "      <td>9.622400</td>\n",
              "    </tr>\n",
              "    <tr>\n",
              "      <td>25</td>\n",
              "      <td>0.024000</td>\n",
              "      <td>1.973210</td>\n",
              "      <td>38.551900</td>\n",
              "      <td>0.577500</td>\n",
              "      <td>0.917600</td>\n",
              "      <td>9.602000</td>\n",
              "    </tr>\n",
              "  </tbody>\n",
              "</table><p>"
            ],
            "text/plain": [
              "<IPython.core.display.HTML object>"
            ]
          },
          "metadata": {},
          "output_type": "display_data"
        },
        {
          "data": {
            "application/vnd.jupyter.widget-view+json": {
              "model_id": "a0a9d6bb301e44ec93ebb4e858b3746a",
              "version_major": 2,
              "version_minor": 0
            },
            "text/plain": [
              "tokenizer_config.json:   0%|          | 0.00/25.0 [00:00<?, ?B/s]"
            ]
          },
          "metadata": {},
          "output_type": "display_data"
        },
        {
          "data": {
            "application/vnd.jupyter.widget-view+json": {
              "model_id": "b889c55ecb8649f694079af2c7bd751e",
              "version_major": 2,
              "version_minor": 0
            },
            "text/plain": [
              "config.json:   0%|          | 0.00/482 [00:00<?, ?B/s]"
            ]
          },
          "metadata": {},
          "output_type": "display_data"
        },
        {
          "data": {
            "application/vnd.jupyter.widget-view+json": {
              "model_id": "e6a45ab4bad94140975a26fa26be1507",
              "version_major": 2,
              "version_minor": 0
            },
            "text/plain": [
              "vocab.json:   0%|          | 0.00/899k [00:00<?, ?B/s]"
            ]
          },
          "metadata": {},
          "output_type": "display_data"
        },
        {
          "data": {
            "application/vnd.jupyter.widget-view+json": {
              "model_id": "027864db1edc44ec999fa3b141d16373",
              "version_major": 2,
              "version_minor": 0
            },
            "text/plain": [
              "merges.txt:   0%|          | 0.00/456k [00:00<?, ?B/s]"
            ]
          },
          "metadata": {},
          "output_type": "display_data"
        },
        {
          "data": {
            "application/vnd.jupyter.widget-view+json": {
              "model_id": "532eea98b45a4770b2b34b9805d4be85",
              "version_major": 2,
              "version_minor": 0
            },
            "text/plain": [
              "tokenizer.json:   0%|          | 0.00/1.36M [00:00<?, ?B/s]"
            ]
          },
          "metadata": {},
          "output_type": "display_data"
        },
        {
          "data": {
            "application/vnd.jupyter.widget-view+json": {
              "model_id": "f978dfd0f5e74dd3a38d3e3023741c5e",
              "version_major": 2,
              "version_minor": 0
            },
            "text/plain": [
              "model.safetensors:   0%|          | 0.00/1.42G [00:00<?, ?B/s]"
            ]
          },
          "metadata": {},
          "output_type": "display_data"
        },
        {
          "name": "stderr",
          "output_type": "stream",
          "text": [
            "Some weights of RobertaModel were not initialized from the model checkpoint at roberta-large and are newly initialized: ['pooler.dense.bias', 'pooler.dense.weight']\n",
            "You should probably TRAIN this model on a down-stream task to be able to use it for predictions and inference.\n",
            "/usr/local/lib/python3.11/dist-packages/transformers/modeling_utils.py:3465: UserWarning: Moving the following attributes in the config to the generation config: {'max_length': 200, 'early_stopping': True, 'num_beams': 5}. You are seeing this warning because you've set generation parameters in the model config, as opposed to in the generation config.\n",
            "  warnings.warn(\n",
            "There were missing keys in the checkpoint model loaded: ['model.encoder.embed_tokens.weight', 'model.decoder.embed_tokens.weight', 'lm_head.weight'].\n"
          ]
        },
        {
          "name": "stdout",
          "output_type": "stream",
          "text": [
            "\n",
            "[INFO] Training finished.\n",
            "Best model saved to ./mbart-english-to-romanized-sylhet/best_model\n",
            "\n",
            "[INFO] Generating training and validation curves...\n"
          ]
        },
        {
          "data": {
            "image/png": "[encoded data removed]",
            "text/plain": [
              "<Figure size 1200x800 with 1 Axes>"
            ]
          },
          "metadata": {},
          "output_type": "display_data"
        },
        {
          "data": {
            "image/png": "[encoded data removed]",
            "text/plain": [
              "<Figure size 1200x800 with 1 Axes>"
            ]
          },
          "metadata": {},
          "output_type": "display_data"
        },
        {
          "name": "stdout",
          "output_type": "stream",
          "text": [
            "\n",
            "[INFO] Performing final evaluation on the test set...\n"
          ]
        },
        {
          "data": {
            "text/html": [
              "\n",
              "    <div>\n",
              "      \n",
              "      <progress value='13' max='13' style='width:300px; height:20px; vertical-align: middle;'></progress>\n",
              "      [13/13 00:12]\n",
              "    </div>\n",
              "    "
            ],
            "text/plain": [
              "<IPython.core.display.HTML object>"
            ]
          },
          "metadata": {},
          "output_type": "display_data"
        },
        {
          "name": "stdout",
          "output_type": "stream",
          "text": [
            "\n",
            "--- Test Set Evaluation Results ---\n",
            "Loss           : 2.1888\n",
            "Bleu           : 39.0012\n",
            "Meteor         : 0.5028\n",
            "Bertscore_f1   : 0.9092\n",
            "Gen_len        : 11.3571\n",
            "Runtime        : 13.0521\n",
            "Samples_per_second: 7.5080\n",
            "Steps_per_second: 0.9960\n",
            "-----------------------------------\n",
            "\n",
            "[INFO] Running inference on test samples for qualitative analysis...\n",
            "\n",
            "--- Qualitative Analysis: Sample Translations ---\n",
            "\n",
            "Sample #1\n",
            "  - Source (English):           Won’t forget\n",
            "  - Reference (Romanized Sylhet): Bultam na\n",
            "  - Model Output (Romanized Sylhet): Zibone-o fartam nay\n",
            "--------------------------------------------------\n",
            "Sample #2\n",
            "  - Source (English):           I didn’t go to school.\n",
            "  - Reference (Romanized Sylhet): Ami skulo gesi na\n",
            "  - Model Output (Romanized Sylhet): Ami skulo zaitam na\n",
            "--------------------------------------------------\n",
            "Sample #3\n",
            "  - Source (English):           I told him.\n",
            "  - Reference (Romanized Sylhet): Ami tare koilam\n",
            "  - Model Output (Romanized Sylhet): Ami tare koilam ita\n",
            "--------------------------------------------------\n",
            "Sample #4\n",
            "  - Source (English):           He concentrates on feeding without talking\n",
            "  - Reference (Romanized Sylhet): Math na matiya khaono mon de\n",
            "  - Model Output (Romanized Sylhet): He mat khaite beshi bala lage\n",
            "--------------------------------------------------\n",
            "Sample #5\n",
            "  - Source (English):           I’m happy if you stay here\n",
            "  - Reference (Romanized Sylhet): Tumi ono takle ami khushi\n",
            "  - Model Output (Romanized Sylhet): Ami khushi obiyare dekhlam\n",
            "--------------------------------------------------\n",
            "Sample #6\n",
            "  - Source (English):           My leg hurts.\n",
            "  - Reference (Romanized Sylhet): Amar fao bedona korer\n",
            "  - Model Output (Romanized Sylhet): Amar fao bedona\n",
            "--------------------------------------------------\n",
            "Sample #7\n",
            "  - Source (English):           Where is home?\n",
            "  - Reference (Romanized Sylhet): Baṛi koi\n",
            "  - Model Output (Romanized Sylhet): Tumi koi thaki aiso\n",
            "--------------------------------------------------\n",
            "Sample #8\n",
            "  - Source (English):           My mind is not well.\n",
            "  - Reference (Romanized Sylhet): Amar mon bala nai\n",
            "  - Model Output (Romanized Sylhet): Amar ba bala nai\n",
            "--------------------------------------------------\n",
            "Sample #9\n",
            "  - Source (English):           Will go that way\n",
            "  - Reference (Romanized Sylhet): Obay zaimu\n",
            "  - Model Output (Romanized Sylhet): Obay zaibo gi\n",
            "--------------------------------------------------\n",
            "Sample #10\n",
            "  - Source (English):           What was the need?\n",
            "  - Reference (Romanized Sylhet): Kita dorkar asil?\n",
            "  - Model Output (Romanized Sylhet): Dorkar asil?\n",
            "--------------------------------------------------\n",
            "\n",
            "Notebook execution complete.\n"
          ]
        }
      ],
      "source": [
        "import pandas as pd\n",
        "import numpy as np\n",
        "import torch\n",
        "import nltk\n",
        "import re\n",
        "import gc\n",
        "from tqdm.auto import tqdm\n",
        "import matplotlib.pyplot as plt\n",
        "import seaborn as sns\n",
        "\n",
        "from datasets import Dataset, DatasetDict\n",
        "from sklearn.model_selection import train_test_split\n",
        "\n",
        "from transformers import (\n",
        "    MBartForConditionalGeneration,\n",
        "    MBart50TokenizerFast,\n",
        "    Seq2SeqTrainingArguments,\n",
        "    Seq2SeqTrainer,\n",
        "    DataCollatorForSeq2Seq\n",
        ")\n",
        "import evaluate\n",
        "\n",
        "# Download necessary NLTK data for METEOR metric\n",
        "nltk.download('wordnet', quiet=True)\n",
        "nltk.download('punkt', quiet=True)\n",
        "nltk.download('omw-1.4', quiet=True)\n",
        "\n",
        "import os\n",
        "import shutil\n",
        "\n",
        "working_dir = \"/kaggle/working\"\n",
        "\n",
        "if os.path.exists(working_dir):\n",
        "    for filename in os.listdir(working_dir):\n",
        "        file_path = os.path.join(working_dir, filename)\n",
        "        try:\n",
        "            if os.path.isfile(file_path) or os.path.islink(file_path):\n",
        "                os.unlink(file_path)\n",
        "            elif os.path.isdir(file_path):\n",
        "                shutil.rmtree(file_path)\n",
        "        except Exception as e:\n",
        "            print(f\"Failed to delete {file_path}. Reason: {e}\")\n",
        "print(\"Kaggle working directory cleaned!\")\n",
        "\n",
        "\n",
        "class Config:\n",
        "    DATASET_PATH = \"/kaggle/input/aacl-dialect-dataset/AACL dialect  - Sentence.csv\"\n",
        "    SOURCE_LANG = \"English Translation\"\n",
        "    TARGET_LANG = \"Romanized Sylhet Language\"\n",
        "\n",
        "    MODEL_CHECKPOINT = \"facebook/mbart-large-50-many-to-many-mmt\"\n",
        "\n",
        "    SOURCE_LANG_CODE = \"en_XX\"\n",
        "    TARGET_LANG_CODE = \"en_XX\"\n",
        "\n",
        "    OUTPUT_DIR = \"./mbart-english-to-romanized-sylhet\"\n",
        "\n",
        "    MAX_INPUT_LENGTH = 128\n",
        "    MAX_TARGET_LENGTH = 128\n",
        "\n",
        "    BATCH_SIZE = 8\n",
        "    GRADIENT_ACCUMULATION_STEPS = 2\n",
        "    EVAL_STRATEGY = \"epoch\"\n",
        "    NUM_EPOCHS = 25\n",
        "    LEARNING_RATE = 5e-5\n",
        "    WEIGHT_DECAY = 0.01\n",
        "    WARMUP_STEPS = 50\n",
        "\n",
        "    TRAIN_RATIO = 0.8\n",
        "    VALIDATION_RATIO = 0.1\n",
        "    TEST_RATIO = 0.1\n",
        "    SEED = 42\n",
        "\n",
        "config = Config()\n",
        "device = \"cuda\" if torch.cuda.is_available() else \"cpu\"\n",
        "print(f\"Using device: {device}\")\n",
        "\n",
        "\n",
        "print(\"\\n[INFO] Loading and preprocessing data...\")\n",
        "df = pd.read_csv(config.DATASET_PATH)\n",
        "\n",
        "df = df[[config.SOURCE_LANG, config.TARGET_LANG]].rename(columns={\n",
        "    config.SOURCE_LANG: 'en',\n",
        "    config.TARGET_LANG: 'syl_rom'\n",
        "})\n",
        "\n",
        "df.dropna(inplace=True)\n",
        "\n",
        "def clean_text(text):\n",
        "    return text.strip() if isinstance(text, str) else \"\"\n",
        "\n",
        "df['en'] = df['en'].apply(clean_text)\n",
        "df['syl_rom'] = df['syl_rom'].apply(clean_text)\n",
        "\n",
        "df = df[(df['en'] != '') & (df['syl_rom'] != '')]\n",
        "print(f\"Dataset loaded with {len(df)} samples after cleaning.\")\n",
        "\n",
        "\n",
        "print(\"\\n[INFO] Splitting the dataset...\")\n",
        "train_df, temp_df = train_test_split(\n",
        "    df,\n",
        "    test_size=(1 - config.TRAIN_RATIO),\n",
        "    random_state=config.SEED\n",
        ")\n",
        "val_df, test_df = train_test_split(\n",
        "    temp_df,\n",
        "    test_size=(config.TEST_RATIO / (config.VALIDATION_RATIO + config.TEST_RATIO)),\n",
        "    random_state=config.SEED\n",
        ")\n",
        "\n",
        "raw_datasets = DatasetDict({\n",
        "    'train': Dataset.from_pandas(train_df.reset_index(drop=True)),\n",
        "    'validation': Dataset.from_pandas(val_df.reset_index(drop=True)),\n",
        "    'test': Dataset.from_pandas(test_df.reset_index(drop=True))\n",
        "})\n",
        "print(f\"Train: {len(train_df)}, Validation: {len(val_df)}, Test: {len(test_df)}\")\n",
        "\n",
        "\n",
        "print(\"\\n[INFO] Initializing model and tokenizer...\")\n",
        "tokenizer = MBart50TokenizerFast.from_pretrained(\n",
        "    config.MODEL_CHECKPOINT,\n",
        "    src_lang=config.SOURCE_LANG_CODE,\n",
        "    tgt_lang=config.TARGET_LANG_CODE\n",
        ")\n",
        "model = MBartForConditionalGeneration.from_pretrained(config.MODEL_CHECKPOINT)\n",
        "\n",
        "\n",
        "print(\"\\n[INFO] Tokenizing datasets...\")\n",
        "def preprocess_function(examples):\n",
        "    model_inputs = tokenizer(\n",
        "        examples[\"en\"],\n",
        "        max_length=config.MAX_INPUT_LENGTH,\n",
        "        truncation=True\n",
        "    )\n",
        "    labels = tokenizer(\n",
        "        examples[\"syl_rom\"],\n",
        "        max_length=config.MAX_TARGET_LENGTH,\n",
        "        truncation=True\n",
        "    )\n",
        "    model_inputs[\"labels\"] = labels[\"input_ids\"]\n",
        "    return model_inputs\n",
        "\n",
        "tokenized_datasets = raw_datasets.map(\n",
        "    preprocess_function,\n",
        "    batched=True,\n",
        "    remove_columns=raw_datasets[\"train\"].column_names\n",
        ")\n",
        "\n",
        "\n",
        "print(\"\\n[INFO] Setting up evaluation metrics (BLEU, METEOR, BERTScore)...\")\n",
        "bleu_metric = evaluate.load(\"sacrebleu\")\n",
        "meteor_metric = evaluate.load(\"meteor\")\n",
        "bertscore_metric = evaluate.load(\"bertscore\")\n",
        "\n",
        "def compute_metrics(eval_preds):\n",
        "    preds, labels = eval_preds\n",
        "    if isinstance(preds, tuple):\n",
        "        preds = preds[0]\n",
        "\n",
        "    labels = np.where(labels != -100, labels, tokenizer.pad_token_id)\n",
        "\n",
        "    decoded_preds = tokenizer.batch_decode(preds, skip_special_tokens=True)\n",
        "    decoded_labels = tokenizer.batch_decode(labels, skip_special_tokens=True)\n",
        "\n",
        "    post_processed_labels = [[label.strip()] for label in decoded_labels]\n",
        "    post_processed_preds = [pred.strip() for pred in decoded_preds]\n",
        "\n",
        "    bleu = bleu_metric.compute(predictions=post_processed_preds, references=post_processed_labels)\n",
        "    meteor = meteor_metric.compute(predictions=post_processed_preds, references=post_processed_labels)\n",
        "    bertscore = bertscore_metric.compute(predictions=post_processed_preds, references=post_processed_labels, lang=\"en\")\n",
        "\n",
        "    result = {\n",
        "        \"bleu\": bleu[\"score\"],\n",
        "        \"meteor\": meteor[\"meteor\"],\n",
        "        \"bertscore_f1\": np.mean(bertscore[\"f1\"]),\n",
        "    }\n",
        "\n",
        "    prediction_lens = [np.count_nonzero(pred != tokenizer.pad_token_id) for pred in preds]\n",
        "    result[\"gen_len\"] = np.mean(prediction_lens)\n",
        "\n",
        "    return {k: round(v, 4) for k, v in result.items()}\n",
        "\n",
        "\n",
        "print(\"\\n[INFO] Configuring training arguments...\")\n",
        "training_args = Seq2SeqTrainingArguments(\n",
        "    output_dir=config.OUTPUT_DIR,\n",
        "    eval_strategy=config.EVAL_STRATEGY,\n",
        "    logging_strategy=config.EVAL_STRATEGY,\n",
        "    save_strategy=config.EVAL_STRATEGY,\n",
        "    per_device_train_batch_size=config.BATCH_SIZE,\n",
        "    per_device_eval_batch_size=config.BATCH_SIZE,\n",
        "    learning_rate=config.LEARNING_RATE,\n",
        "    weight_decay=config.WEIGHT_DECAY,\n",
        "    num_train_epochs=config.NUM_EPOCHS,\n",
        "    warmup_steps=config.WARMUP_STEPS,\n",
        "    fp16=True,\n",
        "    gradient_accumulation_steps=config.GRADIENT_ACCUMULATION_STEPS,\n",
        "    gradient_checkpointing=True,\n",
        "    save_total_limit=1,\n",
        "    save_only_model=True,\n",
        "    predict_with_generate=True,\n",
        "    load_best_model_at_end=True,\n",
        "    metric_for_best_model=\"bleu\",\n",
        "    greater_is_better=True,\n",
        "    report_to=\"none\"\n",
        ")\n",
        "\n",
        "data_collator = DataCollatorForSeq2Seq(tokenizer, model=model)\n",
        "\n",
        "trainer = Seq2SeqTrainer(\n",
        "    model=model,\n",
        "    args=training_args,\n",
        "    train_dataset=tokenized_datasets[\"train\"],\n",
        "    eval_dataset=tokenized_datasets[\"validation\"],\n",
        "    tokenizer=tokenizer,\n",
        "    data_collator=data_collator,\n",
        "    compute_metrics=compute_metrics\n",
        ")\n",
        "\n",
        "\n",
        "gc.collect()\n",
        "torch.cuda.empty_cache()\n",
        "\n",
        "print(\"\\n[INFO] Starting model training...\")\n",
        "train_result = trainer.train()\n",
        "print(\"\\n[INFO] Training finished.\")\n",
        "\n",
        "trainer.save_model(f\"{config.OUTPUT_DIR}/best_model\")\n",
        "tokenizer.save_pretrained(f\"{config.OUTPUT_DIR}/best_model\")\n",
        "print(f\"Best model saved to {config.OUTPUT_DIR}/best_model\")\n",
        "\n",
        "\n",
        "print(\"\\n[INFO] Generating training and validation curves...\")\n",
        "log_history = trainer.state.log_history\n",
        "\n",
        "eval_logs = [log for log in log_history if 'eval_loss' in log]\n",
        "train_logs = [log for log in log_history if 'loss' in log and 'epoch' in log]\n",
        "\n",
        "eval_df = pd.DataFrame(eval_logs)\n",
        "train_df_logs = pd.DataFrame(train_logs)\n",
        "\n",
        "eval_df['epoch'] = eval_df['epoch'].round()\n",
        "train_df_logs['epoch'] = train_df_logs['epoch'].round()\n",
        "\n",
        "log_df = pd.merge(train_df_logs, eval_df, on='epoch', how='inner').drop_duplicates(subset=['epoch'], keep='last')\n",
        "\n",
        "plt.style.use('seaborn-v0_8-whitegrid')\n",
        "plt.figure(figsize=(12, 8))\n",
        "plt.plot(log_df['epoch'], log_df['loss'], label='Training Loss', marker='o', linestyle='--')\n",
        "plt.plot(log_df['epoch'], log_df['eval_loss'], label='Validation Loss', marker='o')\n",
        "plt.title('Training & Validation Loss per Epoch', fontsize=16, weight='bold')\n",
        "plt.xlabel('Epoch', fontsize=14)\n",
        "plt.ylabel('Loss', fontsize=14)\n",
        "plt.legend()\n",
        "plt.xticks(log_df['epoch'].unique().astype(int))\n",
        "plt.grid(True)\n",
        "plt.show()\n",
        "\n",
        "fig, ax = plt.subplots(figsize=(12, 8))\n",
        "ax.plot(log_df['epoch'], log_df['eval_bleu'], label='Validation BLEU', marker='o')\n",
        "ax.plot(log_df['epoch'], log_df['eval_meteor'], label='Validation METEOR', marker='s')\n",
        "ax.plot(log_df['epoch'], log_df['eval_bertscore_f1'], label='Validation BERTScore-F1', marker='^')\n",
        "\n",
        "ax.set_xlabel('Epoch', fontsize=14)\n",
        "ax.set_ylabel('Score', fontsize=14)\n",
        "ax.set_title('Validation Metrics per Epoch', fontsize=16, weight='bold')\n",
        "ax.legend()\n",
        "ax.set_xticks(log_df['epoch'].unique().astype(int))\n",
        "ax.grid(True)\n",
        "plt.show()\n",
        "\n",
        "\n",
        "print(\"\\n[INFO] Performing final evaluation on the test set...\")\n",
        "test_results = trainer.evaluate(eval_dataset=tokenized_datasets[\"test\"])\n",
        "print(\"\\n--- Test Set Evaluation Results ---\")\n",
        "for key, value in test_results.items():\n",
        "    if key.startswith(\"eval_\"):\n",
        "        print(f\"{key.replace('eval_', '').capitalize():<15}: {value:.4f}\")\n",
        "print(\"-----------------------------------\")\n",
        "\n",
        "\n",
        "print(\"\\n[INFO] Running inference on test samples for qualitative analysis...\")\n",
        "model_path = f\"{config.OUTPUT_DIR}/best_model\"\n",
        "tokenizer = MBart50TokenizerFast.from_pretrained(model_path)\n",
        "model = MBartForConditionalGeneration.from_pretrained(model_path).to(device)\n",
        "\n",
        "def translate(text):\n",
        "    tokenizer.src_lang = config.SOURCE_LANG_CODE\n",
        "\n",
        "    inputs = tokenizer(text, return_tensors=\"pt\", truncation=True, max_length=config.MAX_INPUT_LENGTH).to(device)\n",
        "\n",
        "    generated_tokens = model.generate(\n",
        "        **inputs,\n",
        "        forced_bos_token_id=tokenizer.lang_code_to_id[config.TARGET_LANG_CODE],\n",
        "        max_length=config.MAX_TARGET_LENGTH,\n",
        "        num_beams=5,\n",
        "        early_stopping=True\n",
        "    )\n",
        "    return tokenizer.batch_decode(generated_tokens, skip_special_tokens=True)[0]\n",
        "\n",
        "print(\"\\n--- Qualitative Analysis: Sample Translations ---\\n\")\n",
        "for i in range(min(10, len(test_df))):\n",
        "    sample = raw_datasets['test'][i]\n",
        "    source, reference = sample['en'], sample['syl_rom']\n",
        "    model_output = translate(source)\n",
        "\n",
        "    print(f\"Sample #{i+1}\")\n",
        "    print(f\"  - Source (English):           {source}\")\n",
        "    print(f\"  - Reference (Romanized Sylhet): {reference}\")\n",
        "    print(f\"  - Model Output (Romanized Sylhet): {model_output}\")\n",
        "    print(\"-\" * 50)\n",
        "\n",
        "print(\"\\nNotebook execution complete.\")"
      ]
    }
  ],
  "metadata": {
    "kaggle": {
      "accelerator": "gpu",
      "dataSources": [
        {
          "datasetId": 8356981,
          "sourceId": 13187373,
          "sourceType": "datasetVersion"
        }
      ],
      "isGpuEnabled": true,
      "isInternetEnabled": true,
      "language": "python",
      "sourceType": "notebook"
    },
    "kernelspec": {
      "display_name": "Python 3",
      "language": "python",
      "name": "python3"
    },
    "language_info": {
      "codemirror_mode": {
        "name": "ipython",
        "version": 3
      },
      "file_extension": ".py",
      "mimetype": "text/x-python",
      "name": "python",
      "nbconvert_exporter": "python",
      "pygments_lexer": "ipython3",
      "version": "3.11.13"
    },
    "papermill": {
      "default_parameters": {},
      "duration": 1074.63788,
      "end_time": "2025-09-27T17:00:54.434184",
      "environment_variables": {},
      "exception": null,
      "input_path": "__notebook__.ipynb",
      "output_path": "__notebook__.ipynb",
      "parameters": {},
      "start_time": "2025-09-27T16:42:59.796304",
      "version": "2.6.0"
    },
    "widgets": {
      "application/vnd.jupyter.widget-state+json": {}
    },
    "colab": {
      "provenance": []
    }
  },
  "nbformat": 4,
  "nbformat_minor": 5
}