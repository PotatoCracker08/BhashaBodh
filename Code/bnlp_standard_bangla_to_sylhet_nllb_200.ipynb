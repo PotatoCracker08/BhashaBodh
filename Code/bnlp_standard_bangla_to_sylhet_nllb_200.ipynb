{
  "cells": [
    {
      "cell_type": "code",
      "execution_count": null,
      "id": "cc9181b0",
      "metadata": {
        "_cell_guid": "b1076dfc-b9ad-4769-8c92-a6c4dae69d19",
        "_uuid": "8f2839f25d086af736a60e9eeb907d3b93b6e0e5",
        "execution": {
          "iopub.execute_input": "2025-09-27T17:09:02.477079Z",
          "iopub.status.busy": "2025-09-27T17:09:02.476769Z",
          "iopub.status.idle": "2025-09-27T17:10:20.391777Z",
          "shell.execute_reply": "2025-09-27T17:10:20.391072Z"
        },
        "papermill": {
          "duration": 77.919205,
          "end_time": "2025-09-27T17:10:20.393299",
          "exception": false,
          "start_time": "2025-09-27T17:09:02.474094",
          "status": "completed"
        },
        "tags": [],
        "id": "cc9181b0",
        "outputId": "14bb6523-57c2-4af0-9442-f02471418cfd"
      },
      "outputs": [
        {
          "name": "stdout",
          "output_type": "stream",
          "text": [
            "\u001b[2K     \u001b[90m━━━━━━━━━━━━━━━━━━━━━━━━━━━━━━━━━━━━━━━━\u001b[0m \u001b[32m51.8/51.8 kB\u001b[0m \u001b[31m1.2 MB/s\u001b[0m eta \u001b[36m0:00:00\u001b[0m\r\n",
            "\u001b[2K   \u001b[90m━━━━━━━━━━━━━━━━━━━━━━━━━━━━━━━━━━━━━━━━\u001b[0m \u001b[32m84.1/84.1 kB\u001b[0m \u001b[31m2.8 MB/s\u001b[0m eta \u001b[36m0:00:00\u001b[0m\r\n",
            "\u001b[2K   \u001b[90m━━━━━━━━━━━━━━━━━━━━━━━━━━━━━━━━━━━━━━━━\u001b[0m \u001b[32m104.1/104.1 kB\u001b[0m \u001b[31m5.7 MB/s\u001b[0m eta \u001b[36m0:00:00\u001b[0m\r\n",
            "\u001b[2K   \u001b[90m━━━━━━━━━━━━━━━━━━━━━━━━━━━━━━━━━━━━━━━━\u001b[0m \u001b[32m61.1/61.1 kB\u001b[0m \u001b[31m4.1 MB/s\u001b[0m eta \u001b[36m0:00:00\u001b[0m\r\n",
            "\u001b[2K   \u001b[90m━━━━━━━━━━━━━━━━━━━━━━━━━━━━━━━━━━━━━━━━\u001b[0m \u001b[32m193.6/193.6 kB\u001b[0m \u001b[31m9.4 MB/s\u001b[0m eta \u001b[36m0:00:00\u001b[0m\r\n",
            "\u001b[2K   \u001b[90m━━━━━━━━━━━━━━━━━━━━━━━━━━━━━━━━━━━━━━━━\u001b[0m \u001b[32m363.4/363.4 MB\u001b[0m \u001b[31m4.8 MB/s\u001b[0m eta \u001b[36m0:00:00\u001b[0m\r\n",
            "\u001b[2K   \u001b[90m━━━━━━━━━━━━━━━━━━━━━━━━━━━━━━━━━━━━━━━━\u001b[0m \u001b[32m13.8/13.8 MB\u001b[0m \u001b[31m82.5 MB/s\u001b[0m eta \u001b[36m0:00:00\u001b[0m\r\n",
            "\u001b[2K   \u001b[90m━━━━━━━━━━━━━━━━━━━━━━━━━━━━━━━━━━━━━━━━\u001b[0m \u001b[32m24.6/24.6 MB\u001b[0m \u001b[31m72.1 MB/s\u001b[0m eta \u001b[36m0:00:00\u001b[0m\r\n",
            "\u001b[2K   \u001b[90m━━━━━━━━━━━━━━━━━━━━━━━━━━━━━━━━━━━━━━━━\u001b[0m \u001b[32m883.7/883.7 kB\u001b[0m \u001b[31m42.9 MB/s\u001b[0m eta \u001b[36m0:00:00\u001b[0m\r\n",
            "\u001b[2K   \u001b[90m━━━━━━━━━━━━━━━━━━━━━━━━━━━━━━━━━━━━━━━━\u001b[0m \u001b[32m664.8/664.8 MB\u001b[0m \u001b[31m2.6 MB/s\u001b[0m eta \u001b[36m0:00:00\u001b[0m\r\n",
            "\u001b[2K   \u001b[90m━━━━━━━━━━━━━━━━━━━━━━━━━━━━━━━━━━━━━━━━\u001b[0m \u001b[32m211.5/211.5 MB\u001b[0m \u001b[31m5.9 MB/s\u001b[0m eta \u001b[36m0:00:00\u001b[0m\r\n",
            "\u001b[2K   \u001b[90m━━━━━━━━━━━━━━━━━━━━━━━━━━━━━━━━━━━━━━━━\u001b[0m \u001b[32m56.3/56.3 MB\u001b[0m \u001b[31m29.2 MB/s\u001b[0m eta \u001b[36m0:00:00\u001b[0m\r\n",
            "\u001b[2K   \u001b[90m━━━━━━━━━━━━━━━━━━━━━━━━━━━━━━━━━━━━━━━━\u001b[0m \u001b[32m127.9/127.9 MB\u001b[0m \u001b[31m13.3 MB/s\u001b[0m eta \u001b[36m0:00:00\u001b[0m\r\n",
            "\u001b[2K   \u001b[90m━━━━━━━━━━━━━━━━━━━━━━━━━━━━━━━━━━━━━━━━\u001b[0m \u001b[32m207.5/207.5 MB\u001b[0m \u001b[31m2.1 MB/s\u001b[0m eta \u001b[36m0:00:00\u001b[0m\r\n",
            "\u001b[2K   \u001b[90m━━━━━━━━━━━━━━━━━━━━━━━━━━━━━━━━━━━━━━━━\u001b[0m \u001b[32m21.1/21.1 MB\u001b[0m \u001b[31m74.2 MB/s\u001b[0m eta \u001b[36m0:00:00\u001b[0m\r\n",
            "\u001b[?25h\u001b[31mERROR: pip's dependency resolver does not currently take into account all the packages that are installed. This behaviour is the source of the following dependency conflicts.\r\n",
            "bigframes 2.8.0 requires google-cloud-bigquery-storage<3.0.0,>=2.30.0, which is not installed.\r\n",
            "cesium 0.12.4 requires numpy<3.0,>=2.0, but you have numpy 1.26.4 which is incompatible.\r\n",
            "gcsfs 2025.3.2 requires fsspec==2025.3.2, but you have fsspec 2025.3.0 which is incompatible.\r\n",
            "bigframes 2.8.0 requires google-cloud-bigquery[bqstorage,pandas]>=3.31.0, but you have google-cloud-bigquery 3.25.0 which is incompatible.\r\n",
            "bigframes 2.8.0 requires rich<14,>=12.4.4, but you have rich 14.0.0 which is incompatible.\u001b[0m\u001b[31m\r\n",
            "\u001b[0m"
          ]
        }
      ],
      "source": [
        "!pip install -q transformers[sentencepiece] datasets accelerate evaluate sacrebleu bert_score nltk"
      ]
    },
    {
      "cell_type": "code",
      "execution_count": null,
      "id": "e999360d",
      "metadata": {
        "execution": {
          "iopub.execute_input": "2025-09-27T17:10:20.437395Z",
          "iopub.status.busy": "2025-09-27T17:10:20.437101Z",
          "iopub.status.idle": "2025-09-27T17:25:58.141389Z",
          "shell.execute_reply": "2025-09-27T17:25:58.140441Z"
        },
        "papermill": {
          "duration": 937.728204,
          "end_time": "2025-09-27T17:25:58.142942",
          "exception": false,
          "start_time": "2025-09-27T17:10:20.414738",
          "status": "completed"
        },
        "tags": [],
        "colab": {
          "referenced_widgets": [
            "f5eddd39f4284a8284e78be330e330eb",
            "48c4f5fe6ef24b67a516f6ecd7a5bd74",
            "3a9e4ae4f4a2435ba05975ab5d9c6429",
            "9d47d89272c047f7ae147a0f917ca4d8",
            "69c71e11e33f4f95b8b9208083e2fc91",
            "b1965ce9ff7e4c21a1be0338889dddba",
            "3097861c2660466ea02e1b59a3a6f53a",
            "0a86c1296e4a4f118581a4fb9c92a966",
            "36fe44c4f6854ad39f4ecbc8b151ed63",
            "e352e8922ec246f3b38d439415436e33",
            "3cf84e0b2708408cb68ae739c86cefd4",
            "5e9a23ae32224f08bbef87e304fe1326",
            "467c3989457a4297ac478cf7758ad811",
            "ea1505bc7d3a4c719325e75087dce2e0",
            "dbca2adc20484d8fb6c13397d820f086",
            "35c1804abd3c4ea695d7dcc0b3109b1a",
            "77841e28b20e46318275fabb7868700b",
            "ef7be361659c4e689d03dc76fb8afe1e",
            "fd06571b116d460a85a9275cd2200a26"
          ]
        },
        "id": "e999360d",
        "outputId": "42437272-d2a5-45d0-f2a7-c3805d66cbe8"
      },
      "outputs": [
        {
          "name": "stderr",
          "output_type": "stream",
          "text": [
            "2025-09-27 17:10:38.733314: E external/local_xla/xla/stream_executor/cuda/cuda_fft.cc:477] Unable to register cuFFT factory: Attempting to register factory for plugin cuFFT when one has already been registered\n",
            "WARNING: All log messages before absl::InitializeLog() is called are written to STDERR\n",
            "E0000 00:00:1758993038.918685      19 cuda_dnn.cc:8310] Unable to register cuDNN factory: Attempting to register factory for plugin cuDNN when one has already been registered\n",
            "E0000 00:00:1758993038.971529      19 cuda_blas.cc:1418] Unable to register cuBLAS factory: Attempting to register factory for plugin cuBLAS when one has already been registered\n"
          ]
        },
        {
          "name": "stdout",
          "output_type": "stream",
          "text": [
            "Kaggle working directory cleaned!\n",
            "Using device: cuda\n",
            "\n",
            "[INFO] Loading and preprocessing data...\n",
            "Dataset loaded with 980 samples after cleaning.\n",
            "\n",
            "[INFO] Splitting the dataset...\n",
            "Train: 685, Validation: 98, Test: 197\n",
            "\n",
            "[INFO] Initializing model and tokenizer...\n"
          ]
        },
        {
          "data": {
            "application/vnd.jupyter.widget-view+json": {
              "model_id": "f5eddd39f4284a8284e78be330e330eb",
              "version_major": 2,
              "version_minor": 0
            },
            "text/plain": [
              "tokenizer_config.json:   0%|          | 0.00/564 [00:00<?, ?B/s]"
            ]
          },
          "metadata": {},
          "output_type": "display_data"
        },
        {
          "data": {
            "application/vnd.jupyter.widget-view+json": {
              "model_id": "48c4f5fe6ef24b67a516f6ecd7a5bd74",
              "version_major": 2,
              "version_minor": 0
            },
            "text/plain": [
              "sentencepiece.bpe.model:   0%|          | 0.00/4.85M [00:00<?, ?B/s]"
            ]
          },
          "metadata": {},
          "output_type": "display_data"
        },
        {
          "data": {
            "application/vnd.jupyter.widget-view+json": {
              "model_id": "3a9e4ae4f4a2435ba05975ab5d9c6429",
              "version_major": 2,
              "version_minor": 0
            },
            "text/plain": [
              "tokenizer.json:   0%|          | 0.00/17.3M [00:00<?, ?B/s]"
            ]
          },
          "metadata": {},
          "output_type": "display_data"
        },
        {
          "data": {
            "application/vnd.jupyter.widget-view+json": {
              "model_id": "9d47d89272c047f7ae147a0f917ca4d8",
              "version_major": 2,
              "version_minor": 0
            },
            "text/plain": [
              "special_tokens_map.json: 0.00B [00:00, ?B/s]"
            ]
          },
          "metadata": {},
          "output_type": "display_data"
        },
        {
          "data": {
            "application/vnd.jupyter.widget-view+json": {
              "model_id": "69c71e11e33f4f95b8b9208083e2fc91",
              "version_major": 2,
              "version_minor": 0
            },
            "text/plain": [
              "config.json:   0%|          | 0.00/846 [00:00<?, ?B/s]"
            ]
          },
          "metadata": {},
          "output_type": "display_data"
        },
        {
          "data": {
            "application/vnd.jupyter.widget-view+json": {
              "model_id": "b1965ce9ff7e4c21a1be0338889dddba",
              "version_major": 2,
              "version_minor": 0
            },
            "text/plain": [
              "pytorch_model.bin:   0%|          | 0.00/2.46G [00:00<?, ?B/s]"
            ]
          },
          "metadata": {},
          "output_type": "display_data"
        },
        {
          "data": {
            "application/vnd.jupyter.widget-view+json": {
              "model_id": "3097861c2660466ea02e1b59a3a6f53a",
              "version_major": 2,
              "version_minor": 0
            },
            "text/plain": [
              "model.safetensors:   0%|          | 0.00/2.46G [00:00<?, ?B/s]"
            ]
          },
          "metadata": {},
          "output_type": "display_data"
        },
        {
          "data": {
            "application/vnd.jupyter.widget-view+json": {
              "model_id": "0a86c1296e4a4f118581a4fb9c92a966",
              "version_major": 2,
              "version_minor": 0
            },
            "text/plain": [
              "generation_config.json:   0%|          | 0.00/189 [00:00<?, ?B/s]"
            ]
          },
          "metadata": {},
          "output_type": "display_data"
        },
        {
          "name": "stdout",
          "output_type": "stream",
          "text": [
            "\n",
            "[INFO] Tokenizing datasets...\n"
          ]
        },
        {
          "data": {
            "application/vnd.jupyter.widget-view+json": {
              "model_id": "36fe44c4f6854ad39f4ecbc8b151ed63",
              "version_major": 2,
              "version_minor": 0
            },
            "text/plain": [
              "Map:   0%|          | 0/685 [00:00<?, ? examples/s]"
            ]
          },
          "metadata": {},
          "output_type": "display_data"
        },
        {
          "name": "stderr",
          "output_type": "stream",
          "text": [
            "/usr/local/lib/python3.11/dist-packages/transformers/tokenization_utils_base.py:3959: UserWarning: `as_target_tokenizer` is deprecated and will be removed in v5 of Transformers. You can tokenize your labels by using the argument `text_target` of the regular `__call__` method (either in the same call as your input texts if you use the same keyword arguments, or in a separate call.\n",
            "  warnings.warn(\n"
          ]
        },
        {
          "data": {
            "application/vnd.jupyter.widget-view+json": {
              "model_id": "e352e8922ec246f3b38d439415436e33",
              "version_major": 2,
              "version_minor": 0
            },
            "text/plain": [
              "Map:   0%|          | 0/98 [00:00<?, ? examples/s]"
            ]
          },
          "metadata": {},
          "output_type": "display_data"
        },
        {
          "data": {
            "application/vnd.jupyter.widget-view+json": {
              "model_id": "3cf84e0b2708408cb68ae739c86cefd4",
              "version_major": 2,
              "version_minor": 0
            },
            "text/plain": [
              "Map:   0%|          | 0/197 [00:00<?, ? examples/s]"
            ]
          },
          "metadata": {},
          "output_type": "display_data"
        },
        {
          "name": "stdout",
          "output_type": "stream",
          "text": [
            "\n",
            "[INFO] Setting up evaluation metrics (BLEU, METEOR, BERTScore)...\n"
          ]
        },
        {
          "data": {
            "application/vnd.jupyter.widget-view+json": {
              "model_id": "5e9a23ae32224f08bbef87e304fe1326",
              "version_major": 2,
              "version_minor": 0
            },
            "text/plain": [
              "Downloading builder script: 0.00B [00:00, ?B/s]"
            ]
          },
          "metadata": {},
          "output_type": "display_data"
        },
        {
          "data": {
            "application/vnd.jupyter.widget-view+json": {
              "model_id": "467c3989457a4297ac478cf7758ad811",
              "version_major": 2,
              "version_minor": 0
            },
            "text/plain": [
              "Downloading builder script: 0.00B [00:00, ?B/s]"
            ]
          },
          "metadata": {},
          "output_type": "display_data"
        },
        {
          "name": "stderr",
          "output_type": "stream",
          "text": [
            "[nltk_data] Downloading package wordnet to /usr/share/nltk_data...\n",
            "[nltk_data]   Package wordnet is already up-to-date!\n",
            "[nltk_data] Downloading package punkt_tab to /usr/share/nltk_data...\n",
            "[nltk_data]   Package punkt_tab is already up-to-date!\n",
            "[nltk_data] Downloading package omw-1.4 to /usr/share/nltk_data...\n",
            "[nltk_data]   Package omw-1.4 is already up-to-date!\n"
          ]
        },
        {
          "data": {
            "application/vnd.jupyter.widget-view+json": {
              "model_id": "ea1505bc7d3a4c719325e75087dce2e0",
              "version_major": 2,
              "version_minor": 0
            },
            "text/plain": [
              "Downloading builder script: 0.00B [00:00, ?B/s]"
            ]
          },
          "metadata": {},
          "output_type": "display_data"
        },
        {
          "name": "stdout",
          "output_type": "stream",
          "text": [
            "\n",
            "[INFO] Configuring training arguments...\n"
          ]
        },
        {
          "name": "stderr",
          "output_type": "stream",
          "text": [
            "/tmp/ipykernel_19/3071316769.py:181: FutureWarning: `tokenizer` is deprecated and will be removed in version 5.0.0 for `Seq2SeqTrainer.__init__`. Use `processing_class` instead.\n",
            "  trainer = Seq2SeqTrainer(\n"
          ]
        },
        {
          "name": "stdout",
          "output_type": "stream",
          "text": [
            "\n",
            "[INFO] Starting model training...\n"
          ]
        },
        {
          "name": "stderr",
          "output_type": "stream",
          "text": [
            "`use_cache=True` is incompatible with gradient checkpointing. Setting `use_cache=False`...\n"
          ]
        },
        {
          "data": {
            "text/html": [
              "\n",
              "    <div>\n",
              "      \n",
              "      <progress value='1075' max='1075' style='width:300px; height:20px; vertical-align: middle;'></progress>\n",
              "      [1075/1075 14:09, Epoch 25/25]\n",
              "    </div>\n",
              "    <table border=\"1\" class=\"dataframe\">\n",
              "  <thead>\n",
              " <tr style=\"text-align: left;\">\n",
              "      <th>Epoch</th>\n",
              "      <th>Training Loss</th>\n",
              "      <th>Validation Loss</th>\n",
              "      <th>Bleu</th>\n",
              "      <th>Meteor</th>\n",
              "      <th>Bertscore F1</th>\n",
              "      <th>Gen Len</th>\n",
              "    </tr>\n",
              "  </thead>\n",
              "  <tbody>\n",
              "    <tr>\n",
              "      <td>1</td>\n",
              "      <td>5.341000</td>\n",
              "      <td>2.897992</td>\n",
              "      <td>8.302600</td>\n",
              "      <td>0.227600</td>\n",
              "      <td>0.788000</td>\n",
              "      <td>8.826500</td>\n",
              "    </tr>\n",
              "    <tr>\n",
              "      <td>2</td>\n",
              "      <td>1.934600</td>\n",
              "      <td>1.578071</td>\n",
              "      <td>26.195000</td>\n",
              "      <td>0.396900</td>\n",
              "      <td>0.875700</td>\n",
              "      <td>10.132700</td>\n",
              "    </tr>\n",
              "    <tr>\n",
              "      <td>3</td>\n",
              "      <td>1.049800</td>\n",
              "      <td>1.133525</td>\n",
              "      <td>42.890700</td>\n",
              "      <td>0.532900</td>\n",
              "      <td>0.901100</td>\n",
              "      <td>10.183700</td>\n",
              "    </tr>\n",
              "    <tr>\n",
              "      <td>4</td>\n",
              "      <td>0.620700</td>\n",
              "      <td>0.942338</td>\n",
              "      <td>51.428100</td>\n",
              "      <td>0.609300</td>\n",
              "      <td>0.917100</td>\n",
              "      <td>10.622400</td>\n",
              "    </tr>\n",
              "    <tr>\n",
              "      <td>5</td>\n",
              "      <td>0.395500</td>\n",
              "      <td>0.852992</td>\n",
              "      <td>55.016500</td>\n",
              "      <td>0.641900</td>\n",
              "      <td>0.922200</td>\n",
              "      <td>10.530600</td>\n",
              "    </tr>\n",
              "    <tr>\n",
              "      <td>6</td>\n",
              "      <td>0.280000</td>\n",
              "      <td>0.776806</td>\n",
              "      <td>59.681100</td>\n",
              "      <td>0.677100</td>\n",
              "      <td>0.931900</td>\n",
              "      <td>10.377600</td>\n",
              "    </tr>\n",
              "    <tr>\n",
              "      <td>7</td>\n",
              "      <td>0.193200</td>\n",
              "      <td>0.705222</td>\n",
              "      <td>60.383100</td>\n",
              "      <td>0.686600</td>\n",
              "      <td>0.932300</td>\n",
              "      <td>10.622400</td>\n",
              "    </tr>\n",
              "    <tr>\n",
              "      <td>8</td>\n",
              "      <td>0.134100</td>\n",
              "      <td>0.670672</td>\n",
              "      <td>61.461700</td>\n",
              "      <td>0.715300</td>\n",
              "      <td>0.936500</td>\n",
              "      <td>10.489800</td>\n",
              "    </tr>\n",
              "    <tr>\n",
              "      <td>9</td>\n",
              "      <td>0.099100</td>\n",
              "      <td>0.678842</td>\n",
              "      <td>63.880000</td>\n",
              "      <td>0.723300</td>\n",
              "      <td>0.941700</td>\n",
              "      <td>10.489800</td>\n",
              "    </tr>\n",
              "    <tr>\n",
              "      <td>10</td>\n",
              "      <td>0.073700</td>\n",
              "      <td>0.689678</td>\n",
              "      <td>65.259200</td>\n",
              "      <td>0.729300</td>\n",
              "      <td>0.943800</td>\n",
              "      <td>10.673500</td>\n",
              "    </tr>\n",
              "    <tr>\n",
              "      <td>11</td>\n",
              "      <td>0.061400</td>\n",
              "      <td>0.678344</td>\n",
              "      <td>65.347600</td>\n",
              "      <td>0.727400</td>\n",
              "      <td>0.944300</td>\n",
              "      <td>10.632700</td>\n",
              "    </tr>\n",
              "    <tr>\n",
              "      <td>12</td>\n",
              "      <td>0.047000</td>\n",
              "      <td>0.687536</td>\n",
              "      <td>66.408700</td>\n",
              "      <td>0.738100</td>\n",
              "      <td>0.945800</td>\n",
              "      <td>10.571400</td>\n",
              "    </tr>\n",
              "    <tr>\n",
              "      <td>13</td>\n",
              "      <td>0.042900</td>\n",
              "      <td>0.683219</td>\n",
              "      <td>68.769900</td>\n",
              "      <td>0.751500</td>\n",
              "      <td>0.949800</td>\n",
              "      <td>10.653100</td>\n",
              "    </tr>\n",
              "    <tr>\n",
              "      <td>14</td>\n",
              "      <td>0.036300</td>\n",
              "      <td>0.670498</td>\n",
              "      <td>67.589200</td>\n",
              "      <td>0.739800</td>\n",
              "      <td>0.949900</td>\n",
              "      <td>10.663300</td>\n",
              "    </tr>\n",
              "    <tr>\n",
              "      <td>15</td>\n",
              "      <td>0.032800</td>\n",
              "      <td>0.666210</td>\n",
              "      <td>68.656800</td>\n",
              "      <td>0.742700</td>\n",
              "      <td>0.947600</td>\n",
              "      <td>10.714300</td>\n",
              "    </tr>\n",
              "    <tr>\n",
              "      <td>16</td>\n",
              "      <td>0.027000</td>\n",
              "      <td>0.677325</td>\n",
              "      <td>67.639200</td>\n",
              "      <td>0.743100</td>\n",
              "      <td>0.948600</td>\n",
              "      <td>10.642900</td>\n",
              "    </tr>\n",
              "    <tr>\n",
              "      <td>17</td>\n",
              "      <td>0.024500</td>\n",
              "      <td>0.675703</td>\n",
              "      <td>69.682200</td>\n",
              "      <td>0.752600</td>\n",
              "      <td>0.950500</td>\n",
              "      <td>10.653100</td>\n",
              "    </tr>\n",
              "    <tr>\n",
              "      <td>18</td>\n",
              "      <td>0.025400</td>\n",
              "      <td>0.671766</td>\n",
              "      <td>67.289100</td>\n",
              "      <td>0.753900</td>\n",
              "      <td>0.950200</td>\n",
              "      <td>10.673500</td>\n",
              "    </tr>\n",
              "    <tr>\n",
              "      <td>19</td>\n",
              "      <td>0.020400</td>\n",
              "      <td>0.683715</td>\n",
              "      <td>67.778400</td>\n",
              "      <td>0.749800</td>\n",
              "      <td>0.949000</td>\n",
              "      <td>10.653100</td>\n",
              "    </tr>\n",
              "    <tr>\n",
              "      <td>20</td>\n",
              "      <td>0.019900</td>\n",
              "      <td>0.688506</td>\n",
              "      <td>66.819500</td>\n",
              "      <td>0.737500</td>\n",
              "      <td>0.947600</td>\n",
              "      <td>10.642900</td>\n",
              "    </tr>\n",
              "    <tr>\n",
              "      <td>21</td>\n",
              "      <td>0.017000</td>\n",
              "      <td>0.687311</td>\n",
              "      <td>67.543400</td>\n",
              "      <td>0.746000</td>\n",
              "      <td>0.950300</td>\n",
              "      <td>10.704100</td>\n",
              "    </tr>\n",
              "    <tr>\n",
              "      <td>22</td>\n",
              "      <td>0.016900</td>\n",
              "      <td>0.689760</td>\n",
              "      <td>68.245800</td>\n",
              "      <td>0.747700</td>\n",
              "      <td>0.950700</td>\n",
              "      <td>10.663300</td>\n",
              "    </tr>\n",
              "    <tr>\n",
              "      <td>23</td>\n",
              "      <td>0.017600</td>\n",
              "      <td>0.685532</td>\n",
              "      <td>68.043100</td>\n",
              "      <td>0.744200</td>\n",
              "      <td>0.949800</td>\n",
              "      <td>10.683700</td>\n",
              "    </tr>\n",
              "    <tr>\n",
              "      <td>24</td>\n",
              "      <td>0.014300</td>\n",
              "      <td>0.686779</td>\n",
              "      <td>67.818300</td>\n",
              "      <td>0.745800</td>\n",
              "      <td>0.951000</td>\n",
              "      <td>10.693900</td>\n",
              "    </tr>\n",
              "    <tr>\n",
              "      <td>25</td>\n",
              "      <td>0.016800</td>\n",
              "      <td>0.687262</td>\n",
              "      <td>68.046200</td>\n",
              "      <td>0.745300</td>\n",
              "      <td>0.950800</td>\n",
              "      <td>10.683700</td>\n",
              "    </tr>\n",
              "  </tbody>\n",
              "</table><p>"
            ],
            "text/plain": [
              "<IPython.core.display.HTML object>"
            ]
          },
          "metadata": {},
          "output_type": "display_data"
        },
        {
          "name": "stderr",
          "output_type": "stream",
          "text": [
            "Passing a tuple of `past_key_values` is deprecated and will be removed in Transformers v4.58.0. You should pass an instance of `EncoderDecoderCache` instead, e.g. `past_key_values=EncoderDecoderCache.from_legacy_cache(past_key_values)`.\n"
          ]
        },
        {
          "data": {
            "application/vnd.jupyter.widget-view+json": {
              "model_id": "dbca2adc20484d8fb6c13397d820f086",
              "version_major": 2,
              "version_minor": 0
            },
            "text/plain": [
              "tokenizer_config.json:   0%|          | 0.00/49.0 [00:00<?, ?B/s]"
            ]
          },
          "metadata": {},
          "output_type": "display_data"
        },
        {
          "data": {
            "application/vnd.jupyter.widget-view+json": {
              "model_id": "35c1804abd3c4ea695d7dcc0b3109b1a",
              "version_major": 2,
              "version_minor": 0
            },
            "text/plain": [
              "config.json:   0%|          | 0.00/625 [00:00<?, ?B/s]"
            ]
          },
          "metadata": {},
          "output_type": "display_data"
        },
        {
          "data": {
            "application/vnd.jupyter.widget-view+json": {
              "model_id": "77841e28b20e46318275fabb7868700b",
              "version_major": 2,
              "version_minor": 0
            },
            "text/plain": [
              "vocab.txt:   0%|          | 0.00/996k [00:00<?, ?B/s]"
            ]
          },
          "metadata": {},
          "output_type": "display_data"
        },
        {
          "data": {
            "application/vnd.jupyter.widget-view+json": {
              "model_id": "ef7be361659c4e689d03dc76fb8afe1e",
              "version_major": 2,
              "version_minor": 0
            },
            "text/plain": [
              "tokenizer.json:   0%|          | 0.00/1.96M [00:00<?, ?B/s]"
            ]
          },
          "metadata": {},
          "output_type": "display_data"
        },
        {
          "data": {
            "application/vnd.jupyter.widget-view+json": {
              "model_id": "fd06571b116d460a85a9275cd2200a26",
              "version_major": 2,
              "version_minor": 0
            },
            "text/plain": [
              "model.safetensors:   0%|          | 0.00/714M [00:00<?, ?B/s]"
            ]
          },
          "metadata": {},
          "output_type": "display_data"
        },
        {
          "name": "stderr",
          "output_type": "stream",
          "text": [
            "/usr/local/lib/python3.11/dist-packages/transformers/modeling_utils.py:3465: UserWarning: Moving the following attributes in the config to the generation config: {'max_length': 200}. You are seeing this warning because you've set generation parameters in the model config, as opposed to in the generation config.\n",
            "  warnings.warn(\n",
            "There were missing keys in the checkpoint model loaded: ['model.encoder.embed_tokens.weight', 'model.decoder.embed_tokens.weight', 'lm_head.weight'].\n"
          ]
        },
        {
          "name": "stdout",
          "output_type": "stream",
          "text": [
            "\n",
            "[INFO] Training finished.\n",
            "Best model saved to ./nllb-standard-bangla-to-sylhet/best_model\n",
            "\n",
            "[INFO] Generating training and validation curves...\n"
          ]
        },
        {
          "data": {
            "image/png": "[encoded data removed]",
            "text/plain": [
              "<Figure size 1200x800 with 1 Axes>"
            ]
          },
          "metadata": {},
          "output_type": "display_data"
        },
        {
          "data": {
            "image/png": "[encoded data removed]",
            "text/plain": [
              "<Figure size 1200x800 with 1 Axes>"
            ]
          },
          "metadata": {},
          "output_type": "display_data"
        },
        {
          "name": "stdout",
          "output_type": "stream",
          "text": [
            "\n",
            "[INFO] Performing final evaluation on the test set...\n"
          ]
        },
        {
          "data": {
            "text/html": [
              "\n",
              "    <div>\n",
              "      \n",
              "      <progress value='25' max='25' style='width:300px; height:20px; vertical-align: middle;'></progress>\n",
              "      [25/25 00:09]\n",
              "    </div>\n",
              "    "
            ],
            "text/plain": [
              "<IPython.core.display.HTML object>"
            ]
          },
          "metadata": {},
          "output_type": "display_data"
        },
        {
          "name": "stdout",
          "output_type": "stream",
          "text": [
            "\n",
            "--- Test Set Evaluation Results ---\n",
            "Loss           : 0.8315\n",
            "Bleu           : 65.4748\n",
            "Meteor         : 0.7131\n",
            "Bertscore_f1   : 0.9419\n",
            "Gen_len        : 9.8680\n",
            "Runtime        : 10.2124\n",
            "Samples_per_second: 19.2900\n",
            "Steps_per_second: 2.4480\n",
            "-----------------------------------\n",
            "\n",
            "[INFO] Running inference on test samples for qualitative analysis...\n",
            "\n",
            "--- Qualitative Analysis: Sample Translations ---\n",
            "\n",
            "Sample #1\n",
            "  - Source (BN):      আমি চিংড়ি মাছ খেতে পছন্দ করি\n",
            "  - Reference (SYL):  আমার ইচা মাছ খাইতে বেশি ভালা লাগে\n",
            "  - Model Output (SYL): আমি ইচা মাছ খাইতে বেশি ভালা লাগে\n",
            "--------------------------------------------------\n",
            "Sample #2\n",
            "  - Source (BN):      ভালো লাগে না\n",
            "  - Reference (SYL):  ভালা লাগে না\n",
            "  - Model Output (SYL): ভালা লাগে না\n",
            "--------------------------------------------------\n",
            "Sample #3\n",
            "  - Source (BN):      যেতে হবে\n",
            "  - Reference (SYL):  যাওয়া লাগবো\n",
            "  - Model Output (SYL): যাইতাম লাগবো\n",
            "--------------------------------------------------\n",
            "Sample #4\n",
            "  - Source (BN):      আমি মেধাবী ছিলাম\n",
            "  - Reference (SYL):  আমি মেধাবী আছিলাম\n",
            "  - Model Output (SYL): আমি মেধাবী আছিলাম\n",
            "--------------------------------------------------\n",
            "Sample #5\n",
            "  - Source (BN):      তোমাকে দেখে\n",
            "  - Reference (SYL):  তুমাকে দেখিয়া\n",
            "  - Model Output (SYL): তোমারে দেখিয়া\n",
            "--------------------------------------------------\n",
            "Sample #6\n",
            "  - Source (BN):      কি খবর\n",
            "  - Reference (SYL):  কিতা খবর\n",
            "  - Model Output (SYL): কিতা খবরা\n",
            "--------------------------------------------------\n",
            "Sample #7\n",
            "  - Source (BN):      শুক্রবার আমরা গেছিলাম\n",
            "  - Reference (SYL):  শুক্রবার আমরা গেছিলাম\n",
            "  - Model Output (SYL): শুক্রবার আমরা গেছিলাম\n",
            "--------------------------------------------------\n",
            "Sample #8\n",
            "  - Source (BN):      তুমি তাড়াতাড়ি উঠে যাও\n",
            "  - Reference (SYL):  তুমিতাইন জলদি উঠি যাইও\n",
            "  - Model Output (SYL): তুমিতাইন জলদি উঠি যাইও\n",
            "--------------------------------------------------\n",
            "Sample #9\n",
            "  - Source (BN):      আব্বু জামা কিনে এনেছে\n",
            "  - Reference (SYL):  আব্বায় জামা কিনিয়া আনছইন\n",
            "  - Model Output (SYL): আব্বায় জামা কিনিয়া আনছইন\n",
            "--------------------------------------------------\n",
            "Sample #10\n",
            "  - Source (BN):      আমি খাই\n",
            "  - Reference (SYL):  আমি খাই\n",
            "  - Model Output (SYL): আমি খাইতাম\n",
            "--------------------------------------------------\n",
            "\n",
            "Notebook execution complete.\n"
          ]
        }
      ],
      "source": [
        "import pandas as pd\n",
        "import numpy as np\n",
        "import torch\n",
        "import nltk\n",
        "import re\n",
        "import gc\n",
        "from tqdm.auto import tqdm\n",
        "import matplotlib.pyplot as plt\n",
        "import seaborn as sns\n",
        "\n",
        "from datasets import Dataset, DatasetDict\n",
        "from sklearn.model_selection import train_test_split\n",
        "\n",
        "from transformers import (\n",
        "    AutoModelForSeq2SeqLM,\n",
        "    AutoTokenizer,\n",
        "    Seq2SeqTrainingArguments,\n",
        "    Seq2SeqTrainer,\n",
        "    DataCollatorForSeq2Seq\n",
        ")\n",
        "import evaluate\n",
        "\n",
        "nltk.download('wordnet', quiet=True)\n",
        "nltk.download('punkt', quiet=True)\n",
        "nltk.download('omw-1.4', quiet=True)\n",
        "\n",
        "import os\n",
        "import shutil\n",
        "\n",
        "working_dir = \"/kaggle/working\"\n",
        "\n",
        "for filename in os.listdir(working_dir):\n",
        "    file_path = os.path.join(working_dir, filename)\n",
        "    try:\n",
        "        if os.path.isfile(file_path) or os.path.islink(file_path):\n",
        "            os.unlink(file_path)\n",
        "        elif os.path.isdir(file_path):\n",
        "            shutil.rmtree(file_path)\n",
        "    except Exception as e:\n",
        "        print(f\"Failed to delete {file_path}: {e}\")\n",
        "\n",
        "print(\"Kaggle working directory cleaned!\")\n",
        "\n",
        "class Config:\n",
        "    DATASET_PATH = \"/kaggle/input/aacl-dialect-dataset/AACL dialect  - Sentence.csv\"\n",
        "    SOURCE_LANG, TARGET_LANG = \"Standard Bangla Lanuguage\", \"Sylhet Language\"\n",
        "    MODEL_CHECKPOINT = \"facebook/nllb-200-distilled-600M\"\n",
        "    SOURCE_LANG_CODE, TARGET_LANG_CODE = \"ben_Beng\", \"syl_Beng\"\n",
        "    OUTPUT_DIR = \"./nllb-standard-bangla-to-sylhet\"\n",
        "    MAX_INPUT_LENGTH, MAX_TARGET_LENGTH = 128, 128\n",
        "    BATCH_SIZE, GRADIENT_ACCUMULATION_STEPS = 8, 2\n",
        "    EVAL_STRATEGY = \"epoch\"\n",
        "    NUM_EPOCHS, LEARNING_RATE = 25, 5e-5\n",
        "    WEIGHT_DECAY, WARMUP_STEPS = 0.01, 50\n",
        "    TRAIN_RATIO, VALIDATION_RATIO, TEST_RATIO = 0.7, 0.1, 0.2\n",
        "    SEED = 42\n",
        "\n",
        "config = Config()\n",
        "device = \"cuda\" if torch.cuda.is_available() else \"cpu\"\n",
        "print(f\"Using device: {device}\")\n",
        "\n",
        "df = pd.read_csv(config.DATASET_PATH)\n",
        "df = df[[config.SOURCE_LANG, config.TARGET_LANG]].rename(columns={config.SOURCE_LANG: 'bn', config.TARGET_LANG: 'syl'})\n",
        "df.dropna(inplace=True)\n",
        "\n",
        "def clean_text(text):\n",
        "    return text.strip() if isinstance(text, str) else \"\"\n",
        "df['bn'] = df['bn'].apply(clean_text)\n",
        "df['syl'] = df['syl'].apply(clean_text)\n",
        "df = df[(df['bn'] != '') & (df['syl'] != '')]\n",
        "print(f\"Dataset loaded with {len(df)} samples after cleaning.\")\n",
        "\n",
        "train_df, temp_df = train_test_split(df, test_size=(1 - config.TRAIN_RATIO), random_state=config.SEED)\n",
        "val_df, test_df = train_test_split(temp_df, test_size=(config.TEST_RATIO / (config.VALIDATION_RATIO + config.TEST_RATIO)), random_state=config.SEED)\n",
        "\n",
        "raw_datasets = DatasetDict({\n",
        "    'train': Dataset.from_pandas(train_df.reset_index(drop=True)),\n",
        "    'validation': Dataset.from_pandas(val_df.reset_index(drop=True)),\n",
        "    'test': Dataset.from_pandas(test_df.reset_index(drop=True))\n",
        "})\n",
        "print(f\"Train: {len(train_df)}, Validation: {len(val_df)}, Test: {len(test_df)}\")\n",
        "\n",
        "tokenizer = AutoTokenizer.from_pretrained(config.MODEL_CHECKPOINT, src_lang=config.SOURCE_LANG_CODE, tgt_lang=config.TARGET_LANG_CODE)\n",
        "model = AutoModelForSeq2SeqLM.from_pretrained(config.MODEL_CHECKPOINT)\n",
        "\n",
        "def preprocess_function(examples):\n",
        "    model_inputs = tokenizer(examples[\"bn\"], max_length=config.MAX_INPUT_LENGTH, truncation=True)\n",
        "    with tokenizer.as_target_tokenizer():\n",
        "        labels = tokenizer(examples[\"syl\"], max_length=config.MAX_TARGET_LENGTH, truncation=True)\n",
        "    model_inputs[\"labels\"] = labels[\"input_ids\"]\n",
        "    return model_inputs\n",
        "\n",
        "tokenized_datasets = raw_datasets.map(preprocess_function, batched=True, remove_columns=raw_datasets[\"train\"].column_names)\n",
        "\n",
        "bleu_metric = evaluate.load(\"sacrebleu\")\n",
        "meteor_metric = evaluate.load(\"meteor\")\n",
        "bertscore_metric = evaluate.load(\"bertscore\")\n",
        "\n",
        "def compute_metrics(eval_preds):\n",
        "    preds, labels = eval_preds\n",
        "    if isinstance(preds, tuple): preds = preds[0]\n",
        "    labels = np.where(labels != -100, labels, tokenizer.pad_token_id)\n",
        "    decoded_preds = tokenizer.batch_decode(preds, skip_special_tokens=True)\n",
        "    decoded_labels = tokenizer.batch_decode(labels, skip_special_tokens=True)\n",
        "    post_processed_labels = [[label.strip()] for label in decoded_labels]\n",
        "    post_processed_preds = [pred.strip() for pred in decoded_preds]\n",
        "\n",
        "    bleu = bleu_metric.compute(predictions=post_processed_preds, references=post_processed_labels)\n",
        "    meteor = meteor_metric.compute(predictions=post_processed_preds, references=post_processed_labels)\n",
        "    bertscore = bertscore_metric.compute(predictions=post_processed_preds, references=post_processed_labels, lang=\"bn\")\n",
        "\n",
        "    result = {\"bleu\": bleu[\"score\"], \"meteor\": meteor[\"meteor\"], \"bertscore_f1\": np.mean(bertscore[\"f1\"])}\n",
        "    prediction_lens = [np.count_nonzero(pred != tokenizer.pad_token_id) for pred in preds]\n",
        "    result[\"gen_len\"] = np.mean(prediction_lens)\n",
        "    return {k: round(v, 4) for k, v in result.items()}\n",
        "\n",
        "training_args = Seq2SeqTrainingArguments(\n",
        "    output_dir=config.OUTPUT_DIR,\n",
        "    eval_strategy=config.EVAL_STRATEGY,\n",
        "    logging_strategy=config.EVAL_STRATEGY,\n",
        "    save_strategy=config.EVAL_STRATEGY,\n",
        "    per_device_train_batch_size=config.BATCH_SIZE,\n",
        "    per_device_eval_batch_size=config.BATCH_SIZE,\n",
        "    learning_rate=config.LEARNING_RATE,\n",
        "    weight_decay=config.WEIGHT_DECAY,\n",
        "    num_train_epochs=config.NUM_EPOCHS,\n",
        "    warmup_steps=config.WARMUP_STEPS,\n",
        "    fp16=True,\n",
        "    gradient_accumulation_steps=config.GRADIENT_ACCUMULATION_STEPS,\n",
        "    gradient_checkpointing=True,\n",
        "    save_total_limit=1,\n",
        "    save_only_model=True,\n",
        "    predict_with_generate=True,\n",
        "    load_best_model_at_end=True,\n",
        "    metric_for_best_model=\"bleu\",\n",
        "    greater_is_better=True,\n",
        "    report_to=\"none\"\n",
        ")\n",
        "\n",
        "data_collator = DataCollatorForSeq2Seq(tokenizer, model=model)\n",
        "trainer = Seq2SeqTrainer(\n",
        "    model=model, args=training_args,\n",
        "    train_dataset=tokenized_datasets[\"train\"], eval_dataset=tokenized_datasets[\"validation\"],\n",
        "    tokenizer=tokenizer, data_collator=data_collator, compute_metrics=compute_metrics\n",
        ")\n",
        "\n",
        "gc.collect()\n",
        "torch.cuda.empty_cache()\n",
        "train_result = trainer.train()\n",
        "trainer.save_model(f\"{config.OUTPUT_DIR}/best_model\")\n",
        "tokenizer.save_pretrained(f\"{config.OUTPUT_DIR}/best_model\")\n",
        "print(f\"Best model saved to {config.OUTPUT_DIR}/best_model\")\n",
        "\n",
        "log_history = trainer.state.log_history\n",
        "eval_df = pd.DataFrame([log for log in log_history if 'eval_loss' in log])\n",
        "train_df_logs = pd.DataFrame([log for log in log_history if 'loss' in log and 'epoch' in log])\n",
        "eval_df['epoch'] = eval_df['epoch'].round()\n",
        "train_df_logs['epoch'] = train_df_logs['epoch'].round()\n",
        "log_df = pd.merge(train_df_logs, eval_df, on='epoch', how='inner').drop_duplicates(subset=['epoch'], keep='last')\n",
        "\n",
        "plt.style.use('seaborn-v0_8-whitegrid')\n",
        "plt.figure(figsize=(12, 8))\n",
        "plt.plot(log_df['epoch'], log_df['loss'], label='Training Loss', marker='o', linestyle='--')\n",
        "plt.plot(log_df['epoch'], log_df['eval_loss'], label='Validation Loss', marker='o')\n",
        "plt.title('Training & Validation Loss per Epoch', fontsize=16, weight='bold')\n",
        "plt.xlabel('Epoch', fontsize=14)\n",
        "plt.ylabel('Loss', fontsize=14)\n",
        "plt.legend()\n",
        "plt.xticks(log_df['epoch'].unique().astype(int))\n",
        "plt.grid(True)\n",
        "plt.show()\n",
        "\n",
        "fig, ax = plt.subplots(figsize=(12, 8))\n",
        "ax.plot(log_df['epoch'], log_df['eval_bleu'], label='Validation BLEU', marker='o')\n",
        "ax.plot(log_df['epoch'], log_df['eval_meteor'], label='Validation METEOR', marker='s')\n",
        "ax.plot(log_df['epoch'], log_df['eval_bertscore_f1'], label='Validation BERTScore-F1', marker='^')\n",
        "ax.set_xlabel('Epoch', fontsize=14)\n",
        "ax.set_ylabel('Score', fontsize=14)\n",
        "ax.set_title('Validation Metrics per Epoch', fontsize=16, weight='bold')\n",
        "ax.legend()\n",
        "ax.set_xticks(log_df['epoch'].unique().astype(int))\n",
        "ax.grid(True)\n",
        "plt.show()\n",
        "\n",
        "test_results = trainer.evaluate(eval_dataset=tokenized_datasets[\"test\"])\n",
        "for key, value in test_results.items():\n",
        "    if key.startswith(\"eval_\"):\n",
        "        print(f\"{key.replace('eval_', '').capitalize():<15}: {value:.4f}\")\n",
        "\n",
        "model_path = f\"{config.OUTPUT_DIR}/best_model\"\n",
        "tokenizer = AutoTokenizer.from_pretrained(model_path)\n",
        "model = AutoModelForSeq2SeqLM.from_pretrained(model_path).to(device)\n",
        "\n",
        "def translate(text):\n",
        "    tokenizer.src_lang = config.SOURCE_LANG_CODE\n",
        "    inputs = tokenizer(text, return_tensors=\"pt\", truncation=True, max_length=config.MAX_INPUT_LENGTH).to(device)\n",
        "    generated_tokens = model.generate(\n",
        "        **inputs,\n",
        "        forced_bos_token_id=tokenizer.convert_tokens_to_ids(config.TARGET_LANG_CODE),\n",
        "        max_length=config.MAX_TARGET_LENGTH, num_beams=5, early_stopping=True\n",
        "    )\n",
        "    return tokenizer.batch_decode(generated_tokens, skip_special_tokens=True)[0]\n",
        "\n",
        "for i in range(min(10, len(test_df))):\n",
        "    sample = raw_datasets['test'][i]\n",
        "    source, reference = sample['bn'], sample['syl']\n",
        "    model_output = translate(source)\n",
        "    print(f\"Sample #{i+1}\")\n",
        "    print(f\"  - Source (BN):      {source}\")\n",
        "    print(f\"  - Reference (SYL):  {reference}\")\n",
        "    print(f\"  - Model Output (SYL): {model_output}\")\n",
        "    print(\"-\" * 50)\n",
        "\n",
        "print(\"\\nNotebook execution complete.\")"
      ]
    }
  ],
  "metadata": {
    "kaggle": {
      "accelerator": "gpu",
      "dataSources": [
        {
          "datasetId": 8356981,
          "sourceId": 13187373,
          "sourceType": "datasetVersion"
        }
      ],
      "isGpuEnabled": true,
      "isInternetEnabled": true,
      "language": "python",
      "sourceType": "notebook"
    },
    "kernelspec": {
      "display_name": "Python 3",
      "language": "python",
      "name": "python3"
    },
    "language_info": {
      "codemirror_mode": {
        "name": "ipython",
        "version": 3
      },
      "file_extension": ".py",
      "mimetype": "text/x-python",
      "name": "python",
      "nbconvert_exporter": "python",
      "pygments_lexer": "ipython3",
      "version": "3.11.13"
    },
    "papermill": {
      "default_parameters": {},
      "duration": 1023.663931,
      "end_time": "2025-09-27T17:26:02.026685",
      "environment_variables": {},
      "exception": null,
      "input_path": "__notebook__.ipynb",
      "output_path": "__notebook__.ipynb",
      "parameters": {},
      "start_time": "2025-09-27T17:08:58.362754",
      "version": "2.6.0"
    },
    "widgets": {
      "application/vnd.jupyter.widget-state+json": {}
    },
    "colab": {
      "provenance": []
    }
  },
  "nbformat": 4,
  "nbformat_minor": 5
}