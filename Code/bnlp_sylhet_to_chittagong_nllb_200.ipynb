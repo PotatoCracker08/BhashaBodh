{
  "cells": [
    {
      "cell_type": "code",
      "execution_count": null,
      "id": "b6ea3ef1",
      "metadata": {
        "_cell_guid": "b1076dfc-b9ad-4769-8c92-a6c4dae69d19",
        "_uuid": "8f2839f25d086af736a60e9eeb907d3b93b6e0e5",
        "execution": {
          "iopub.execute_input": "2025-09-28T07:57:28.882606Z",
          "iopub.status.busy": "2025-09-28T07:57:28.882332Z",
          "iopub.status.idle": "2025-09-28T07:58:39.926314Z",
          "shell.execute_reply": "2025-09-28T07:58:39.925523Z"
        },
        "papermill": {
          "duration": 71.048406,
          "end_time": "2025-09-28T07:58:39.927884",
          "exception": false,
          "start_time": "2025-09-28T07:57:28.879478",
          "status": "completed"
        },
        "tags": [],
        "id": "b6ea3ef1",
        "outputId": "a7ec3dd5-58b1-4d32-9dcc-3fafecda642d"
      },
      "outputs": [
        {
          "name": "stdout",
          "output_type": "stream",
          "text": [
            "\u001b[2K     \u001b[90m━━━━━━━━━━━━━━━━━━━━━━━━━━━━━━━━━━━━━━━━\u001b[0m \u001b[32m51.8/51.8 kB\u001b[0m \u001b[31m3.0 MB/s\u001b[0m eta \u001b[36m0:00:00\u001b[0m\r\n",
            "\u001b[2K   \u001b[90m━━━━━━━━━━━━━━━━━━━━━━━━━━━━━━━━━━━━━━━━\u001b[0m \u001b[32m84.1/84.1 kB\u001b[0m \u001b[31m6.4 MB/s\u001b[0m eta \u001b[36m0:00:00\u001b[0m\r\n",
            "\u001b[2K   \u001b[90m━━━━━━━━━━━━━━━━━━━━━━━━━━━━━━━━━━━━━━━━\u001b[0m \u001b[32m104.1/104.1 kB\u001b[0m \u001b[31m8.7 MB/s\u001b[0m eta \u001b[36m0:00:00\u001b[0m\r\n",
            "\u001b[2K   \u001b[90m━━━━━━━━━━━━━━━━━━━━━━━━━━━━━━━━━━━━━━━━\u001b[0m \u001b[32m61.1/61.1 kB\u001b[0m \u001b[31m4.3 MB/s\u001b[0m eta \u001b[36m0:00:00\u001b[0m\r\n",
            "\u001b[2K   \u001b[90m━━━━━━━━━━━━━━━━━━━━━━━━━━━━━━━━━━━━━━━━\u001b[0m \u001b[32m193.6/193.6 kB\u001b[0m \u001b[31m13.9 MB/s\u001b[0m eta \u001b[36m0:00:00\u001b[0m\r\n",
            "\u001b[2K   \u001b[90m━━━━━━━━━━━━━━━━━━━━━━━━━━━━━━━━━━━━━━━━\u001b[0m \u001b[32m363.4/363.4 MB\u001b[0m \u001b[31m5.0 MB/s\u001b[0m eta \u001b[36m0:00:00\u001b[0m\r\n",
            "\u001b[2K   \u001b[90m━━━━━━━━━━━━━━━━━━━━━━━━━━━━━━━━━━━━━━━━\u001b[0m \u001b[32m13.8/13.8 MB\u001b[0m \u001b[31m99.6 MB/s\u001b[0m eta \u001b[36m0:00:00\u001b[0m\r\n",
            "\u001b[2K   \u001b[90m━━━━━━━━━━━━━━━━━━━━━━━━━━━━━━━━━━━━━━━━\u001b[0m \u001b[32m24.6/24.6 MB\u001b[0m \u001b[31m80.7 MB/s\u001b[0m eta \u001b[36m0:00:00\u001b[0m\r\n",
            "\u001b[2K   \u001b[90m━━━━━━━━━━━━━━━━━━━━━━━━━━━━━━━━━━━━━━━━\u001b[0m \u001b[32m883.7/883.7 kB\u001b[0m \u001b[31m44.1 MB/s\u001b[0m eta \u001b[36m0:00:00\u001b[0m\r\n",
            "\u001b[2K   \u001b[90m━━━━━━━━━━━━━━━━━━━━━━━━━━━━━━━━━━━━━━━━\u001b[0m \u001b[32m664.8/664.8 MB\u001b[0m \u001b[31m2.6 MB/s\u001b[0m eta \u001b[36m0:00:00\u001b[0m\r\n",
            "\u001b[2K   \u001b[90m━━━━━━━━━━━━━━━━━━━━━━━━━━━━━━━━━━━━━━━━\u001b[0m \u001b[32m211.5/211.5 MB\u001b[0m \u001b[31m8.1 MB/s\u001b[0m eta \u001b[36m0:00:00\u001b[0m\r\n",
            "\u001b[2K   \u001b[90m━━━━━━━━━━━━━━━━━━━━━━━━━━━━━━━━━━━━━━━━\u001b[0m \u001b[32m56.3/56.3 MB\u001b[0m \u001b[31m31.3 MB/s\u001b[0m eta \u001b[36m0:00:00\u001b[0m\r\n",
            "\u001b[2K   \u001b[90m━━━━━━━━━━━━━━━━━━━━━━━━━━━━━━━━━━━━━━━━\u001b[0m \u001b[32m127.9/127.9 MB\u001b[0m \u001b[31m13.5 MB/s\u001b[0m eta \u001b[36m0:00:00\u001b[0m\r\n",
            "\u001b[2K   \u001b[90m━━━━━━━━━━━━━━━━━━━━━━━━━━━━━━━━━━━━━━━━\u001b[0m \u001b[32m207.5/207.5 MB\u001b[0m \u001b[31m8.2 MB/s\u001b[0m eta \u001b[36m0:00:00\u001b[0m\r\n",
            "\u001b[2K   \u001b[90m━━━━━━━━━━━━━━━━━━━━━━━━━━━━━━━━━━━━━━━━\u001b[0m \u001b[32m21.1/21.1 MB\u001b[0m \u001b[31m82.7 MB/s\u001b[0m eta \u001b[36m0:00:00\u001b[0m\r\n",
            "\u001b[?25h\u001b[31mERROR: pip's dependency resolver does not currently take into account all the packages that are installed. This behaviour is the source of the following dependency conflicts.\r\n",
            "bigframes 2.8.0 requires google-cloud-bigquery-storage<3.0.0,>=2.30.0, which is not installed.\r\n",
            "cesium 0.12.4 requires numpy<3.0,>=2.0, but you have numpy 1.26.4 which is incompatible.\r\n",
            "gcsfs 2025.3.2 requires fsspec==2025.3.2, but you have fsspec 2025.3.0 which is incompatible.\r\n",
            "bigframes 2.8.0 requires google-cloud-bigquery[bqstorage,pandas]>=3.31.0, but you have google-cloud-bigquery 3.25.0 which is incompatible.\r\n",
            "bigframes 2.8.0 requires rich<14,>=12.4.4, but you have rich 14.0.0 which is incompatible.\u001b[0m\u001b[31m\r\n",
            "\u001b[0m"
          ]
        }
      ],
      "source": [
        "!pip install -q transformers[sentencepiece] datasets accelerate evaluate sacrebleu bert_score nltk"
      ]
    },
    {
      "cell_type": "code",
      "execution_count": null,
      "id": "2be470d8",
      "metadata": {
        "execution": {
          "iopub.execute_input": "2025-09-28T07:58:39.961346Z",
          "iopub.status.busy": "2025-09-28T07:58:39.961037Z",
          "iopub.status.idle": "2025-09-28T08:14:24.473816Z",
          "shell.execute_reply": "2025-09-28T08:14:24.472918Z"
        },
        "papermill": {
          "duration": 944.530572,
          "end_time": "2025-09-28T08:14:24.475307",
          "exception": false,
          "start_time": "2025-09-28T07:58:39.944735",
          "status": "completed"
        },
        "tags": [],
        "colab": {
          "referenced_widgets": [
            "bf7842d28d3d471a9eed1b219da8ccf0",
            "f6b7d1af938b407f983927cc3464f6fa",
            "ef8c3b2370d647bda9190d1d91885905",
            "691e91c7cfb4475395a9dcac00fba288",
            "b0ba338099364d418505acfeab9a8eb5",
            "215c19621a204e618a6a625cf8cb26b3",
            "cbe2fbf1cf1d4ba593eee4c8d891239a",
            "e496f74b163d441f82a147e93e2c46c8",
            "3570c75ca3b3445c824209c08a9a8427",
            "2ce6e098bf664a4c9ee201ba2f6bac6f",
            "9ba724c214e44ea7b49dd15d0a639b56",
            "9c07281ede294b2e90f7c26714f76a0d",
            "03695c4e285a4e21b528d6c25196c3fd",
            "6553d98f32e4446c8cac827bd10dfcb1",
            "7a5d3fda19a2482398d1ac9ffd711f9d",
            "bbfd65f2eb4e4c359200a2f204e33a33",
            "59b53563921248e1bf3238bf9933c706",
            "7e1af15d1ed345788a53da4b419be2d6",
            "6012e5669a644a7b8731ef76dfd744c9"
          ]
        },
        "id": "2be470d8",
        "outputId": "d6d6ac1d-903f-4365-ea69-7503a0174b39"
      },
      "outputs": [
        {
          "name": "stderr",
          "output_type": "stream",
          "text": [
            "2025-09-28 07:58:57.318286: E external/local_xla/xla/stream_executor/cuda/cuda_fft.cc:477] Unable to register cuFFT factory: Attempting to register factory for plugin cuFFT when one has already been registered\n",
            "WARNING: All log messages before absl::InitializeLog() is called are written to STDERR\n",
            "E0000 00:00:1759046337.480375      19 cuda_dnn.cc:8310] Unable to register cuDNN factory: Attempting to register factory for plugin cuDNN when one has already been registered\n",
            "E0000 00:00:1759046337.530068      19 cuda_blas.cc:1418] Unable to register cuBLAS factory: Attempting to register factory for plugin cuBLAS when one has already been registered\n"
          ]
        },
        {
          "name": "stdout",
          "output_type": "stream",
          "text": [
            "Kaggle working directory cleaned!\n",
            "Using device: cuda\n",
            "\n",
            "[INFO] Loading and preprocessing data...\n",
            "Dataset loaded with 980 samples after cleaning.\n",
            "\n",
            "[INFO] Splitting the dataset...\n",
            "Train: 685, Validation: 98, Test: 197\n",
            "\n",
            "[INFO] Initializing model and tokenizer...\n"
          ]
        },
        {
          "data": {
            "application/vnd.jupyter.widget-view+json": {
              "model_id": "bf7842d28d3d471a9eed1b219da8ccf0",
              "version_major": 2,
              "version_minor": 0
            },
            "text/plain": [
              "tokenizer_config.json:   0%|          | 0.00/564 [00:00<?, ?B/s]"
            ]
          },
          "metadata": {},
          "output_type": "display_data"
        },
        {
          "data": {
            "application/vnd.jupyter.widget-view+json": {
              "model_id": "f6b7d1af938b407f983927cc3464f6fa",
              "version_major": 2,
              "version_minor": 0
            },
            "text/plain": [
              "sentencepiece.bpe.model:   0%|          | 0.00/4.85M [00:00<?, ?B/s]"
            ]
          },
          "metadata": {},
          "output_type": "display_data"
        },
        {
          "data": {
            "application/vnd.jupyter.widget-view+json": {
              "model_id": "ef8c3b2370d647bda9190d1d91885905",
              "version_major": 2,
              "version_minor": 0
            },
            "text/plain": [
              "tokenizer.json:   0%|          | 0.00/17.3M [00:00<?, ?B/s]"
            ]
          },
          "metadata": {},
          "output_type": "display_data"
        },
        {
          "data": {
            "application/vnd.jupyter.widget-view+json": {
              "model_id": "691e91c7cfb4475395a9dcac00fba288",
              "version_major": 2,
              "version_minor": 0
            },
            "text/plain": [
              "special_tokens_map.json: 0.00B [00:00, ?B/s]"
            ]
          },
          "metadata": {},
          "output_type": "display_data"
        },
        {
          "data": {
            "application/vnd.jupyter.widget-view+json": {
              "model_id": "b0ba338099364d418505acfeab9a8eb5",
              "version_major": 2,
              "version_minor": 0
            },
            "text/plain": [
              "config.json:   0%|          | 0.00/846 [00:00<?, ?B/s]"
            ]
          },
          "metadata": {},
          "output_type": "display_data"
        },
        {
          "data": {
            "application/vnd.jupyter.widget-view+json": {
              "model_id": "215c19621a204e618a6a625cf8cb26b3",
              "version_major": 2,
              "version_minor": 0
            },
            "text/plain": [
              "pytorch_model.bin:   0%|          | 0.00/2.46G [00:00<?, ?B/s]"
            ]
          },
          "metadata": {},
          "output_type": "display_data"
        },
        {
          "data": {
            "application/vnd.jupyter.widget-view+json": {
              "model_id": "cbe2fbf1cf1d4ba593eee4c8d891239a",
              "version_major": 2,
              "version_minor": 0
            },
            "text/plain": [
              "model.safetensors:   0%|          | 0.00/2.46G [00:00<?, ?B/s]"
            ]
          },
          "metadata": {},
          "output_type": "display_data"
        },
        {
          "data": {
            "application/vnd.jupyter.widget-view+json": {
              "model_id": "e496f74b163d441f82a147e93e2c46c8",
              "version_major": 2,
              "version_minor": 0
            },
            "text/plain": [
              "generation_config.json:   0%|          | 0.00/189 [00:00<?, ?B/s]"
            ]
          },
          "metadata": {},
          "output_type": "display_data"
        },
        {
          "name": "stdout",
          "output_type": "stream",
          "text": [
            "\n",
            "[INFO] Tokenizing datasets...\n"
          ]
        },
        {
          "data": {
            "application/vnd.jupyter.widget-view+json": {
              "model_id": "3570c75ca3b3445c824209c08a9a8427",
              "version_major": 2,
              "version_minor": 0
            },
            "text/plain": [
              "Map:   0%|          | 0/685 [00:00<?, ? examples/s]"
            ]
          },
          "metadata": {},
          "output_type": "display_data"
        },
        {
          "name": "stderr",
          "output_type": "stream",
          "text": [
            "/usr/local/lib/python3.11/dist-packages/transformers/tokenization_utils_base.py:3959: UserWarning: `as_target_tokenizer` is deprecated and will be removed in v5 of Transformers. You can tokenize your labels by using the argument `text_target` of the regular `__call__` method (either in the same call as your input texts if you use the same keyword arguments, or in a separate call.\n",
            "  warnings.warn(\n"
          ]
        },
        {
          "data": {
            "application/vnd.jupyter.widget-view+json": {
              "model_id": "2ce6e098bf664a4c9ee201ba2f6bac6f",
              "version_major": 2,
              "version_minor": 0
            },
            "text/plain": [
              "Map:   0%|          | 0/98 [00:00<?, ? examples/s]"
            ]
          },
          "metadata": {},
          "output_type": "display_data"
        },
        {
          "data": {
            "application/vnd.jupyter.widget-view+json": {
              "model_id": "9ba724c214e44ea7b49dd15d0a639b56",
              "version_major": 2,
              "version_minor": 0
            },
            "text/plain": [
              "Map:   0%|          | 0/197 [00:00<?, ? examples/s]"
            ]
          },
          "metadata": {},
          "output_type": "display_data"
        },
        {
          "name": "stdout",
          "output_type": "stream",
          "text": [
            "\n",
            "[INFO] Setting up evaluation metrics (BLEU, METEOR, BERTScore)...\n"
          ]
        },
        {
          "data": {
            "application/vnd.jupyter.widget-view+json": {
              "model_id": "9c07281ede294b2e90f7c26714f76a0d",
              "version_major": 2,
              "version_minor": 0
            },
            "text/plain": [
              "Downloading builder script: 0.00B [00:00, ?B/s]"
            ]
          },
          "metadata": {},
          "output_type": "display_data"
        },
        {
          "data": {
            "application/vnd.jupyter.widget-view+json": {
              "model_id": "03695c4e285a4e21b528d6c25196c3fd",
              "version_major": 2,
              "version_minor": 0
            },
            "text/plain": [
              "Downloading builder script: 0.00B [00:00, ?B/s]"
            ]
          },
          "metadata": {},
          "output_type": "display_data"
        },
        {
          "name": "stderr",
          "output_type": "stream",
          "text": [
            "[nltk_data] Downloading package wordnet to /usr/share/nltk_data...\n",
            "[nltk_data]   Package wordnet is already up-to-date!\n",
            "[nltk_data] Downloading package punkt_tab to /usr/share/nltk_data...\n",
            "[nltk_data]   Package punkt_tab is already up-to-date!\n",
            "[nltk_data] Downloading package omw-1.4 to /usr/share/nltk_data...\n",
            "[nltk_data]   Package omw-1.4 is already up-to-date!\n"
          ]
        },
        {
          "data": {
            "application/vnd.jupyter.widget-view+json": {
              "model_id": "6553d98f32e4446c8cac827bd10dfcb1",
              "version_major": 2,
              "version_minor": 0
            },
            "text/plain": [
              "Downloading builder script: 0.00B [00:00, ?B/s]"
            ]
          },
          "metadata": {},
          "output_type": "display_data"
        },
        {
          "name": "stdout",
          "output_type": "stream",
          "text": [
            "\n",
            "[INFO] Configuring training arguments...\n"
          ]
        },
        {
          "name": "stderr",
          "output_type": "stream",
          "text": [
            "/tmp/ipykernel_19/1531305758.py:222: FutureWarning: `tokenizer` is deprecated and will be removed in version 5.0.0 for `Seq2SeqTrainer.__init__`. Use `processing_class` instead.\n",
            "  trainer = Seq2SeqTrainer(\n"
          ]
        },
        {
          "name": "stdout",
          "output_type": "stream",
          "text": [
            "\n",
            "[INFO] Starting model training...\n"
          ]
        },
        {
          "name": "stderr",
          "output_type": "stream",
          "text": [
            "`use_cache=True` is incompatible with gradient checkpointing. Setting `use_cache=False`...\n"
          ]
        },
        {
          "data": {
            "text/html": [
              "\n",
              "    <div>\n",
              "      \n",
              "      <progress value='1075' max='1075' style='width:300px; height:20px; vertical-align: middle;'></progress>\n",
              "      [1075/1075 14:23, Epoch 25/25]\n",
              "    </div>\n",
              "    <table border=\"1\" class=\"dataframe\">\n",
              "  <thead>\n",
              " <tr style=\"text-align: left;\">\n",
              "      <th>Epoch</th>\n",
              "      <th>Training Loss</th>\n",
              "      <th>Validation Loss</th>\n",
              "      <th>Bleu</th>\n",
              "      <th>Meteor</th>\n",
              "      <th>Bertscore F1</th>\n",
              "      <th>Gen Len</th>\n",
              "    </tr>\n",
              "  </thead>\n",
              "  <tbody>\n",
              "    <tr>\n",
              "      <td>1</td>\n",
              "      <td>4.650500</td>\n",
              "      <td>3.289204</td>\n",
              "      <td>4.415400</td>\n",
              "      <td>0.151800</td>\n",
              "      <td>0.795300</td>\n",
              "      <td>12.765300</td>\n",
              "    </tr>\n",
              "    <tr>\n",
              "      <td>2</td>\n",
              "      <td>2.655700</td>\n",
              "      <td>2.311260</td>\n",
              "      <td>17.033900</td>\n",
              "      <td>0.251500</td>\n",
              "      <td>0.830900</td>\n",
              "      <td>10.969400</td>\n",
              "    </tr>\n",
              "    <tr>\n",
              "      <td>3</td>\n",
              "      <td>1.772900</td>\n",
              "      <td>1.883156</td>\n",
              "      <td>19.473300</td>\n",
              "      <td>0.337900</td>\n",
              "      <td>0.848100</td>\n",
              "      <td>12.744900</td>\n",
              "    </tr>\n",
              "    <tr>\n",
              "      <td>4</td>\n",
              "      <td>1.218200</td>\n",
              "      <td>1.638707</td>\n",
              "      <td>40.656100</td>\n",
              "      <td>0.465400</td>\n",
              "      <td>0.875900</td>\n",
              "      <td>10.775500</td>\n",
              "    </tr>\n",
              "    <tr>\n",
              "      <td>5</td>\n",
              "      <td>0.858600</td>\n",
              "      <td>1.516521</td>\n",
              "      <td>46.008800</td>\n",
              "      <td>0.487900</td>\n",
              "      <td>0.883200</td>\n",
              "      <td>10.877600</td>\n",
              "    </tr>\n",
              "    <tr>\n",
              "      <td>6</td>\n",
              "      <td>0.627000</td>\n",
              "      <td>1.403213</td>\n",
              "      <td>47.107600</td>\n",
              "      <td>0.509200</td>\n",
              "      <td>0.888000</td>\n",
              "      <td>10.785700</td>\n",
              "    </tr>\n",
              "    <tr>\n",
              "      <td>7</td>\n",
              "      <td>0.466600</td>\n",
              "      <td>1.342683</td>\n",
              "      <td>49.148400</td>\n",
              "      <td>0.530100</td>\n",
              "      <td>0.890700</td>\n",
              "      <td>11.173500</td>\n",
              "    </tr>\n",
              "    <tr>\n",
              "      <td>8</td>\n",
              "      <td>0.361400</td>\n",
              "      <td>1.317119</td>\n",
              "      <td>53.720500</td>\n",
              "      <td>0.559600</td>\n",
              "      <td>0.902100</td>\n",
              "      <td>10.949000</td>\n",
              "    </tr>\n",
              "    <tr>\n",
              "      <td>9</td>\n",
              "      <td>0.273500</td>\n",
              "      <td>1.255934</td>\n",
              "      <td>56.010800</td>\n",
              "      <td>0.583500</td>\n",
              "      <td>0.907900</td>\n",
              "      <td>11.020400</td>\n",
              "    </tr>\n",
              "    <tr>\n",
              "      <td>10</td>\n",
              "      <td>0.222900</td>\n",
              "      <td>1.215989</td>\n",
              "      <td>57.507600</td>\n",
              "      <td>0.601300</td>\n",
              "      <td>0.908900</td>\n",
              "      <td>10.989800</td>\n",
              "    </tr>\n",
              "    <tr>\n",
              "      <td>11</td>\n",
              "      <td>0.165300</td>\n",
              "      <td>1.246205</td>\n",
              "      <td>58.330800</td>\n",
              "      <td>0.604000</td>\n",
              "      <td>0.913400</td>\n",
              "      <td>10.979600</td>\n",
              "    </tr>\n",
              "    <tr>\n",
              "      <td>12</td>\n",
              "      <td>0.134700</td>\n",
              "      <td>1.223835</td>\n",
              "      <td>61.077500</td>\n",
              "      <td>0.604700</td>\n",
              "      <td>0.915800</td>\n",
              "      <td>11.112200</td>\n",
              "    </tr>\n",
              "    <tr>\n",
              "      <td>13</td>\n",
              "      <td>0.113100</td>\n",
              "      <td>1.233308</td>\n",
              "      <td>59.987900</td>\n",
              "      <td>0.619500</td>\n",
              "      <td>0.913400</td>\n",
              "      <td>11.387800</td>\n",
              "    </tr>\n",
              "    <tr>\n",
              "      <td>14</td>\n",
              "      <td>0.095500</td>\n",
              "      <td>1.246334</td>\n",
              "      <td>59.684100</td>\n",
              "      <td>0.623700</td>\n",
              "      <td>0.916300</td>\n",
              "      <td>11.285700</td>\n",
              "    </tr>\n",
              "    <tr>\n",
              "      <td>15</td>\n",
              "      <td>0.080800</td>\n",
              "      <td>1.237787</td>\n",
              "      <td>61.933100</td>\n",
              "      <td>0.630300</td>\n",
              "      <td>0.916700</td>\n",
              "      <td>11.081600</td>\n",
              "    </tr>\n",
              "    <tr>\n",
              "      <td>16</td>\n",
              "      <td>0.067700</td>\n",
              "      <td>1.254543</td>\n",
              "      <td>63.337500</td>\n",
              "      <td>0.633600</td>\n",
              "      <td>0.920500</td>\n",
              "      <td>11.224500</td>\n",
              "    </tr>\n",
              "    <tr>\n",
              "      <td>17</td>\n",
              "      <td>0.059100</td>\n",
              "      <td>1.246906</td>\n",
              "      <td>63.970400</td>\n",
              "      <td>0.631900</td>\n",
              "      <td>0.919600</td>\n",
              "      <td>11.030600</td>\n",
              "    </tr>\n",
              "    <tr>\n",
              "      <td>18</td>\n",
              "      <td>0.052200</td>\n",
              "      <td>1.235322</td>\n",
              "      <td>63.769400</td>\n",
              "      <td>0.638400</td>\n",
              "      <td>0.921600</td>\n",
              "      <td>11.142900</td>\n",
              "    </tr>\n",
              "    <tr>\n",
              "      <td>19</td>\n",
              "      <td>0.050100</td>\n",
              "      <td>1.235906</td>\n",
              "      <td>63.930800</td>\n",
              "      <td>0.636200</td>\n",
              "      <td>0.920800</td>\n",
              "      <td>11.234700</td>\n",
              "    </tr>\n",
              "    <tr>\n",
              "      <td>20</td>\n",
              "      <td>0.051400</td>\n",
              "      <td>1.246711</td>\n",
              "      <td>63.903200</td>\n",
              "      <td>0.639300</td>\n",
              "      <td>0.921800</td>\n",
              "      <td>11.091800</td>\n",
              "    </tr>\n",
              "    <tr>\n",
              "      <td>21</td>\n",
              "      <td>0.048300</td>\n",
              "      <td>1.256481</td>\n",
              "      <td>64.689300</td>\n",
              "      <td>0.643600</td>\n",
              "      <td>0.921600</td>\n",
              "      <td>11.020400</td>\n",
              "    </tr>\n",
              "    <tr>\n",
              "      <td>22</td>\n",
              "      <td>0.043900</td>\n",
              "      <td>1.258838</td>\n",
              "      <td>64.406200</td>\n",
              "      <td>0.645200</td>\n",
              "      <td>0.921400</td>\n",
              "      <td>11.102000</td>\n",
              "    </tr>\n",
              "    <tr>\n",
              "      <td>23</td>\n",
              "      <td>0.039800</td>\n",
              "      <td>1.255598</td>\n",
              "      <td>63.789100</td>\n",
              "      <td>0.641300</td>\n",
              "      <td>0.921000</td>\n",
              "      <td>11.091800</td>\n",
              "    </tr>\n",
              "    <tr>\n",
              "      <td>24</td>\n",
              "      <td>0.038700</td>\n",
              "      <td>1.251765</td>\n",
              "      <td>64.334000</td>\n",
              "      <td>0.639100</td>\n",
              "      <td>0.919700</td>\n",
              "      <td>11.030600</td>\n",
              "    </tr>\n",
              "    <tr>\n",
              "      <td>25</td>\n",
              "      <td>0.037700</td>\n",
              "      <td>1.251466</td>\n",
              "      <td>64.294100</td>\n",
              "      <td>0.644900</td>\n",
              "      <td>0.921400</td>\n",
              "      <td>11.061200</td>\n",
              "    </tr>\n",
              "  </tbody>\n",
              "</table><p>"
            ],
            "text/plain": [
              "<IPython.core.display.HTML object>"
            ]
          },
          "metadata": {},
          "output_type": "display_data"
        },
        {
          "name": "stderr",
          "output_type": "stream",
          "text": [
            "Passing a tuple of `past_key_values` is deprecated and will be removed in Transformers v4.58.0. You should pass an instance of `EncoderDecoderCache` instead, e.g. `past_key_values=EncoderDecoderCache.from_legacy_cache(past_key_values)`.\n"
          ]
        },
        {
          "data": {
            "application/vnd.jupyter.widget-view+json": {
              "model_id": "7a5d3fda19a2482398d1ac9ffd711f9d",
              "version_major": 2,
              "version_minor": 0
            },
            "text/plain": [
              "tokenizer_config.json:   0%|          | 0.00/49.0 [00:00<?, ?B/s]"
            ]
          },
          "metadata": {},
          "output_type": "display_data"
        },
        {
          "data": {
            "application/vnd.jupyter.widget-view+json": {
              "model_id": "bbfd65f2eb4e4c359200a2f204e33a33",
              "version_major": 2,
              "version_minor": 0
            },
            "text/plain": [
              "config.json:   0%|          | 0.00/625 [00:00<?, ?B/s]"
            ]
          },
          "metadata": {},
          "output_type": "display_data"
        },
        {
          "data": {
            "application/vnd.jupyter.widget-view+json": {
              "model_id": "59b53563921248e1bf3238bf9933c706",
              "version_major": 2,
              "version_minor": 0
            },
            "text/plain": [
              "vocab.txt:   0%|          | 0.00/996k [00:00<?, ?B/s]"
            ]
          },
          "metadata": {},
          "output_type": "display_data"
        },
        {
          "data": {
            "application/vnd.jupyter.widget-view+json": {
              "model_id": "7e1af15d1ed345788a53da4b419be2d6",
              "version_major": 2,
              "version_minor": 0
            },
            "text/plain": [
              "tokenizer.json:   0%|          | 0.00/1.96M [00:00<?, ?B/s]"
            ]
          },
          "metadata": {},
          "output_type": "display_data"
        },
        {
          "data": {
            "application/vnd.jupyter.widget-view+json": {
              "model_id": "6012e5669a644a7b8731ef76dfd744c9",
              "version_major": 2,
              "version_minor": 0
            },
            "text/plain": [
              "model.safetensors:   0%|          | 0.00/714M [00:00<?, ?B/s]"
            ]
          },
          "metadata": {},
          "output_type": "display_data"
        },
        {
          "name": "stderr",
          "output_type": "stream",
          "text": [
            "/usr/local/lib/python3.11/dist-packages/transformers/modeling_utils.py:3465: UserWarning: Moving the following attributes in the config to the generation config: {'max_length': 200}. You are seeing this warning because you've set generation parameters in the model config, as opposed to in the generation config.\n",
            "  warnings.warn(\n",
            "There were missing keys in the checkpoint model loaded: ['model.encoder.embed_tokens.weight', 'model.decoder.embed_tokens.weight', 'lm_head.weight'].\n"
          ]
        },
        {
          "name": "stdout",
          "output_type": "stream",
          "text": [
            "\n",
            "[INFO] Training finished.\n",
            "Best model saved to ./nllb-sylhet-to-chittagong/best_model\n",
            "\n",
            "[INFO] Generating training and validation curves...\n"
          ]
        },
        {
          "data": {
            "image/png": "[encoded data removed]",
            "text/plain": [
              "<Figure size 1200x800 with 1 Axes>"
            ]
          },
          "metadata": {},
          "output_type": "display_data"
        },
        {
          "data": {
            "image/png": "[encoded data removed]",
            "text/plain": [
              "<Figure size 1200x800 with 1 Axes>"
            ]
          },
          "metadata": {},
          "output_type": "display_data"
        },
        {
          "name": "stdout",
          "output_type": "stream",
          "text": [
            "\n",
            "[INFO] Performing final evaluation on the test set...\n"
          ]
        },
        {
          "data": {
            "text/html": [
              "\n",
              "    <div>\n",
              "      \n",
              "      <progress value='25' max='25' style='width:300px; height:20px; vertical-align: middle;'></progress>\n",
              "      [25/25 00:09]\n",
              "    </div>\n",
              "    "
            ],
            "text/plain": [
              "<IPython.core.display.HTML object>"
            ]
          },
          "metadata": {},
          "output_type": "display_data"
        },
        {
          "name": "stdout",
          "output_type": "stream",
          "text": [
            "\n",
            "--- Test Set Evaluation Results ---\n",
            "Loss           : 1.2532\n",
            "Bleu           : 58.7993\n",
            "Meteor         : 0.6179\n",
            "Bertscore_f1   : 0.9165\n",
            "Gen_len        : 10.1574\n",
            "Runtime        : 10.4532\n",
            "Samples_per_second: 18.8460\n",
            "Steps_per_second: 2.3920\n",
            "-----------------------------------\n",
            "\n",
            "[INFO] Running inference on test samples for qualitative analysis...\n",
            "\n",
            "--- Qualitative Analysis: Sample Translations ---\n",
            "\n",
            "Sample #1\n",
            "  - Source (SYL):      আমার ইচা মাছ খাইতে বেশি ভালা লাগে\n",
            "  - Reference (CTG):  আই ইচা মাছ হাইতো পছন্দ গরি\n",
            "  - Model Output (CTG): আরে ইচা মাছ হাইতো পছন্দ গরি\n",
            "--------------------------------------------------\n",
            "Sample #2\n",
            "  - Source (SYL):      ভালা লাগে না\n",
            "  - Reference (CTG):  গম না লাগে\n",
            "  - Model Output (CTG): গম না লাগে\n",
            "--------------------------------------------------\n",
            "Sample #3\n",
            "  - Source (SYL):      যাওয়া লাগবো\n",
            "  - Reference (CTG):  ওত যা ফরিবো\n",
            "  - Model Output (CTG): যাইত ফরিবো\n",
            "--------------------------------------------------\n",
            "Sample #4\n",
            "  - Source (SYL):      আমি মেধাবী আছিলাম\n",
            "  - Reference (CTG):  আই মেধাবী আছিলাম\n",
            "  - Model Output (CTG): আই মেধাবী আছিলাম\n",
            "--------------------------------------------------\n",
            "Sample #5\n",
            "  - Source (SYL):      তুমাকে দেখিয়া\n",
            "  - Reference (CTG):  তুয়ারে দেহি\n",
            "  - Model Output (CTG): তুয়ারে চ্যাঁই\n",
            "--------------------------------------------------\n",
            "Sample #6\n",
            "  - Source (SYL):      কিতা খবর\n",
            "  - Reference (CTG):  কি হবর\n",
            "  - Model Output (CTG): কি খবর\n",
            "--------------------------------------------------\n",
            "Sample #7\n",
            "  - Source (SYL):      শুক্রবার আমরা গেছিলাম\n",
            "  - Reference (CTG):  শুক্রবার আরা গিয়ি\n",
            "  - Model Output (CTG): শুক্রবার আরা গিয়ি\n",
            "--------------------------------------------------\n",
            "Sample #8\n",
            "  - Source (SYL):      তুমিতাইন জলদি উঠি যাইও\n",
            "  - Reference (CTG):  তুই জলদি উঠ\n",
            "  - Model Output (CTG): তুই জলদি উঠ\n",
            "--------------------------------------------------\n",
            "Sample #9\n",
            "  - Source (SYL):      আব্বায় জামা কিনিয়া আনছইন\n",
            "  - Reference (CTG):  আব্বু জামা কিনি আইন্ন্যে\n",
            "  - Model Output (CTG): আব্বু জামা কিনি আইন্ন্যে\n",
            "--------------------------------------------------\n",
            "Sample #10\n",
            "  - Source (SYL):      আমি খাই\n",
            "  - Reference (CTG):  আই হাই\n",
            "  - Model Output (CTG): আই হাইয়ুম\n",
            "--------------------------------------------------\n",
            "\n",
            "Notebook execution complete.\n"
          ]
        }
      ],
      "source": [
        "import pandas as pd\n",
        "import numpy as np\n",
        "import torch\n",
        "import nltk\n",
        "import gc\n",
        "from tqdm.auto import tqdm\n",
        "import matplotlib.pyplot as plt\n",
        "import seaborn as sns\n",
        "\n",
        "from datasets import Dataset, DatasetDict\n",
        "from sklearn.model_selection import train_test_split\n",
        "\n",
        "from transformers import (\n",
        "    AutoModelForSeq2SeqLM,\n",
        "    AutoTokenizer,\n",
        "    Seq2SeqTrainingArguments,\n",
        "    Seq2SeqTrainer,\n",
        "    DataCollatorForSeq2Seq\n",
        ")\n",
        "import evaluate\n",
        "\n",
        "nltk.download('wordnet', quiet=True)\n",
        "nltk.download('punkt', quiet=True)\n",
        "nltk.download('omw-1.4', quiet=True)\n",
        "\n",
        "import os\n",
        "import shutil\n",
        "\n",
        "working_dir = \"/kaggle/working\"\n",
        "if os.path.exists(working_dir):\n",
        "    for filename in os.listdir(working_dir):\n",
        "        file_path = os.path.join(working_dir, filename)\n",
        "        try:\n",
        "            if os.path.isfile(file_path) or os.path.islink(file_path):\n",
        "                os.unlink(file_path)\n",
        "            elif os.path.isdir(file_path):\n",
        "                shutil.rmtree(file_path)\n",
        "        except Exception as e:\n",
        "            print(f\"Failed to delete {file_path}: {e}\")\n",
        "\n",
        "print(\"Kaggle working directory cleaned!\")\n",
        "\n",
        "class Config:\n",
        "    DATASET_PATH = \"/kaggle/input/aacl-dialect-dataset/AACL dialect  - Sentence.csv\"\n",
        "    SOURCE_LANG, TARGET_LANG = \"Sylhet Language\", \"Chittagong Language\"\n",
        "    MODEL_CHECKPOINT = \"facebook/nllb-200-distilled-600M\"\n",
        "    SOURCE_LANG_CODE, TARGET_LANG_CODE = \"ben_Beng\", \"ben_Beng\"\n",
        "    OUTPUT_DIR = \"./nllb-sylhet-to-chittagong\"\n",
        "    MAX_INPUT_LENGTH, MAX_TARGET_LENGTH = 128, 128\n",
        "    BATCH_SIZE, GRADIENT_ACCUMULATION_STEPS = 8, 2\n",
        "    EVAL_STRATEGY = \"epoch\"\n",
        "    NUM_EPOCHS, LEARNING_RATE = 25, 5e-5\n",
        "    WEIGHT_DECAY, WARMUP_STEPS = 0.01, 50\n",
        "    TRAIN_RATIO, VALIDATION_RATIO, TEST_RATIO = 0.7, 0.1, 0.2\n",
        "    SEED = 42\n",
        "\n",
        "config = Config()\n",
        "device = \"cuda\" if torch.cuda.is_available() else \"cpu\"\n",
        "print(f\"Using device: {device}\")\n",
        "\n",
        "df = pd.read_csv(config.DATASET_PATH)\n",
        "df = df[[config.SOURCE_LANG, config.TARGET_LANG]].rename(columns={config.SOURCE_LANG: 'syl', config.TARGET_LANG: 'ctg'})\n",
        "df.dropna(inplace=True)\n",
        "\n",
        "def clean_text(text):\n",
        "    return text.strip() if isinstance(text, str) else \"\"\n",
        "\n",
        "df['syl'] = df['syl'].apply(clean_text)\n",
        "df['ctg'] = df['ctg'].apply(clean_text)\n",
        "df = df[(df['syl'] != '') & (df['ctg'] != '')]\n",
        "print(f\"Dataset loaded with {len(df)} samples after cleaning.\")\n",
        "\n",
        "train_df, temp_df = train_test_split(df, test_size=(1 - config.TRAIN_RATIO), random_state=config.SEED)\n",
        "val_df, test_df = train_test_split(temp_df, test_size=(config.TEST_RATIO / (config.VALIDATION_RATIO + config.TEST_RATIO)), random_state=config.SEED)\n",
        "\n",
        "raw_datasets = DatasetDict({\n",
        "    'train': Dataset.from_pandas(train_df.reset_index(drop=True)),\n",
        "    'validation': Dataset.from_pandas(val_df.reset_index(drop=True)),\n",
        "    'test': Dataset.from_pandas(test_df.reset_index(drop=True))\n",
        "})\n",
        "print(f\"Train: {len(train_df)}, Validation: {len(val_df)}, Test: {len(test_df)}\")\n",
        "\n",
        "tokenizer = AutoTokenizer.from_pretrained(config.MODEL_CHECKPOINT, src_lang=config.SOURCE_LANG_CODE, tgt_lang=config.TARGET_LANG_CODE)\n",
        "model = AutoModelForSeq2SeqLM.from_pretrained(config.MODEL_CHECKPOINT)\n",
        "\n",
        "def preprocess_function(examples):\n",
        "    model_inputs = tokenizer(examples[\"syl\"], max_length=config.MAX_INPUT_LENGTH, truncation=True)\n",
        "    with tokenizer.as_target_tokenizer():\n",
        "        labels = tokenizer(examples[\"ctg\"], max_length=config.MAX_TARGET_LENGTH, truncation=True)\n",
        "    model_inputs[\"labels\"] = labels[\"input_ids\"]\n",
        "    return model_inputs\n",
        "\n",
        "tokenized_datasets = raw_datasets.map(preprocess_function, batched=True, remove_columns=raw_datasets[\"train\"].column_names)\n",
        "\n",
        "bleu_metric = evaluate.load(\"sacrebleu\")\n",
        "meteor_metric = evaluate.load(\"meteor\")\n",
        "bertscore_metric = evaluate.load(\"bertscore\")\n",
        "\n",
        "def compute_metrics(eval_preds):\n",
        "    preds, labels = eval_preds\n",
        "    if isinstance(preds, tuple): preds = preds[0]\n",
        "    labels = np.where(labels != -100, labels, tokenizer.pad_token_id)\n",
        "    decoded_preds = tokenizer.batch_decode(preds, skip_special_tokens=True)\n",
        "    decoded_labels = tokenizer.batch_decode(labels, skip_special_tokens=True)\n",
        "    post_processed_labels = [[label.strip()] for label in decoded_labels]\n",
        "    post_processed_preds = [pred.strip() for pred in decoded_preds]\n",
        "    bleu = bleu_metric.compute(predictions=post_processed_preds, references=post_processed_labels)\n",
        "    meteor = meteor_metric.compute(predictions=post_processed_preds, references=post_processed_labels)\n",
        "    bertscore = bertscore_metric.compute(predictions=post_processed_preds, references=post_processed_labels, lang=\"bn\")\n",
        "    result = {\"bleu\": bleu[\"score\"], \"meteor\": meteor[\"meteor\"], \"bertscore_f1\": np.mean(bertscore[\"f1\"])}\n",
        "    prediction_lens = [np.count_nonzero(pred != tokenizer.pad_token_id) for pred in preds]\n",
        "    result[\"gen_len\"] = np.mean(prediction_lens)\n",
        "    return {k: round(v, 4) for k, v in result.items()}\n",
        "\n",
        "training_args = Seq2SeqTrainingArguments(\n",
        "    output_dir=config.OUTPUT_DIR,\n",
        "    eval_strategy=config.EVAL_STRATEGY,\n",
        "    logging_strategy=config.EVAL_STRATEGY,\n",
        "    save_strategy=config.EVAL_STRATEGY,\n",
        "    per_device_train_batch_size=config.BATCH_SIZE,\n",
        "    per_device_eval_batch_size=config.BATCH_SIZE,\n",
        "    learning_rate=config.LEARNING_RATE,\n",
        "    weight_decay=config.WEIGHT_DECAY,\n",
        "    num_train_epochs=config.NUM_EPOCHS,\n",
        "    warmup_steps=config.WARMUP_STEPS,\n",
        "    fp16=True,\n",
        "    gradient_accumulation_steps=config.GRADIENT_ACCUMULATION_STEPS,\n",
        "    gradient_checkpointing=True,\n",
        "    save_total_limit=1,\n",
        "    save_only_model=True,\n",
        "    predict_with_generate=True,\n",
        "    load_best_model_at_end=True,\n",
        "    metric_for_best_model=\"bleu\",\n",
        "    greater_is_better=True,\n",
        "    report_to=\"none\"\n",
        ")\n",
        "\n",
        "data_collator = DataCollatorForSeq2Seq(tokenizer, model=model)\n",
        "\n",
        "trainer = Seq2SeqTrainer(\n",
        "    model=model,\n",
        "    args=training_args,\n",
        "    train_dataset=tokenized_datasets[\"train\"],\n",
        "    eval_dataset=tokenized_datasets[\"validation\"],\n",
        "    tokenizer=tokenizer,\n",
        "    data_collator=data_collator,\n",
        "    compute_metrics=compute_metrics\n",
        ")\n",
        "\n",
        "gc.collect()\n",
        "torch.cuda.empty_cache()\n",
        "train_result = trainer.train()\n",
        "trainer.save_model(f\"{config.OUTPUT_DIR}/best_model\")\n",
        "tokenizer.save_pretrained(f\"{config.OUTPUT_DIR}/best_model\")\n",
        "print(f\"Best model saved to {config.OUTPUT_DIR}/best_model\")\n",
        "\n",
        "log_history = trainer.state.log_history\n",
        "eval_df = pd.DataFrame([log for log in log_history if 'eval_loss' in log])\n",
        "train_df_logs = pd.DataFrame([log for log in log_history if 'loss' in log and 'epoch' in log])\n",
        "eval_df['epoch'] = eval_df['epoch'].round()\n",
        "train_df_logs['epoch'] = train_df_logs['epoch'].round()\n",
        "log_df = pd.merge(train_df_logs, eval_df, on='epoch', how='inner').drop_duplicates(subset=['epoch'], keep='last')\n",
        "\n",
        "plt.style.use('seaborn-v0_8-whitegrid')\n",
        "plt.figure(figsize=(12, 8))\n",
        "plt.plot(log_df['epoch'], log_df['loss'], label='Training Loss', marker='o', linestyle='--')\n",
        "plt.plot(log_df['epoch'], log_df['eval_loss'], label='Validation Loss', marker='o')\n",
        "plt.title('Training & Validation Loss per Epoch', fontsize=16, weight='bold')\n",
        "plt.xlabel('Epoch', fontsize=14)\n",
        "plt.ylabel('Loss', fontsize=14)\n",
        "plt.legend()\n",
        "plt.xticks(log_df['epoch'].unique().astype(int))\n",
        "plt.grid(True)\n",
        "plt.show()\n",
        "\n",
        "fig, ax = plt.subplots(figsize=(12, 8))\n",
        "ax.plot(log_df['epoch'], log_df['eval_bleu'], label='Validation BLEU', marker='o')\n",
        "ax.plot(log_df['epoch'], log_df['eval_meteor'], label='Validation METEOR', marker='s')\n",
        "ax.plot(log_df['epoch'], log_df['eval_bertscore_f1'], label='Validation BERTScore-F1', marker='^')\n",
        "ax.set_xlabel('Epoch', fontsize=14)\n",
        "ax.set_ylabel('Score', fontsize=14)\n",
        "ax.set_title('Validation Metrics per Epoch', fontsize=16, weight='bold')\n",
        "ax.legend()\n",
        "ax.set_xticks(log_df['epoch'].unique().astype(int))\n",
        "ax.grid(True)\n",
        "plt.show()\n",
        "\n",
        "test_results = trainer.evaluate(eval_dataset=tokenized_datasets[\"test\"])\n",
        "for key, value in test_results.items():\n",
        "    if key.startswith(\"eval_\"):\n",
        "        print(f\"{key.replace('eval_', '').capitalize():<15}: {value:.4f}\")\n",
        "\n",
        "model_path = f\"{config.OUTPUT_DIR}/best_model\"\n",
        "tokenizer = AutoTokenizer.from_pretrained(model_path)\n",
        "model = AutoModelForSeq2SeqLM.from_pretrained(model_path).to(device)\n",
        "\n",
        "def translate(text):\n",
        "    tokenizer.src_lang = config.SOURCE_LANG_CODE\n",
        "    inputs = tokenizer(text, return_tensors=\"pt\", truncation=True, max_length=config.MAX_INPUT_LENGTH).to(device)\n",
        "    generated_tokens = model.generate(\n",
        "        **inputs,\n",
        "        forced_bos_token_id=tokenizer.convert_tokens_to_ids(config.TARGET_LANG_CODE),\n",
        "        max_length=config.MAX_TARGET_LENGTH,\n",
        "        num_beams=5,\n",
        "        early_stopping=True\n",
        "    )\n",
        "    return tokenizer.batch_decode(generated_tokens, skip_special_tokens=True)[0]\n",
        "\n",
        "for i in range(min(10, len(test_df))):\n",
        "    sample = raw_datasets['test'][i]\n",
        "    source, reference = sample['syl'], sample['ctg']\n",
        "    model_output = translate(source)\n",
        "    print(f\"Sample #{i+1}\")\n",
        "    print(f\"  - Source (SYL):      {source}\")\n",
        "    print(f\"  - Reference (CTG):  {reference}\")\n",
        "    print(f\"  - Model Output (CTG): {model_output}\")\n",
        "    print(\"-\" * 50)\n",
        "\n",
        "print(\"\\nNotebook execution complete.\")"
      ]
    }
  ],
  "metadata": {
    "kaggle": {
      "accelerator": "gpu",
      "dataSources": [
        {
          "datasetId": 8356981,
          "sourceId": 13187373,
          "sourceType": "datasetVersion"
        }
      ],
      "isGpuEnabled": true,
      "isInternetEnabled": true,
      "language": "python",
      "sourceType": "notebook"
    },
    "kernelspec": {
      "display_name": "Python 3",
      "language": "python",
      "name": "python3"
    },
    "language_info": {
      "codemirror_mode": {
        "name": "ipython",
        "version": 3
      },
      "file_extension": ".py",
      "mimetype": "text/x-python",
      "name": "python",
      "nbconvert_exporter": "python",
      "pygments_lexer": "ipython3",
      "version": "3.11.13"
    },
    "papermill": {
      "default_parameters": {},
      "duration": 1022.617542,
      "end_time": "2025-09-28T08:14:27.580422",
      "environment_variables": {},
      "exception": null,
      "input_path": "__notebook__.ipynb",
      "output_path": "__notebook__.ipynb",
      "parameters": {},
      "start_time": "2025-09-28T07:57:24.962880",
      "version": "2.6.0"
    },
    "widgets": {
      "application/vnd.jupyter.widget-state+json": {}
    },
    "colab": {
      "provenance": []
    }
  },
  "nbformat": 4,
  "nbformat_minor": 5
}